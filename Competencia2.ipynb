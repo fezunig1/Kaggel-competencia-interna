{
 "cells": [
  {
   "cell_type": "code",
   "execution_count": 21,
   "id": "a577455b-c377-4c92-a5f3-af663ddea50c",
   "metadata": {},
   "outputs": [],
   "source": [
    "import pandas as pd\n",
    "import numpy as np\n",
    "from feature_engine import imputation as mdi\n",
    "from feature_engine.encoding import CountFrequencyEncoder\n",
    "from sklearn import preprocessing\n",
    "from sklearn import model_selection\n",
    "from sklearn import tree\n",
    "from sklearn.model_selection import train_test_split"
   ]
  },
  {
   "cell_type": "code",
   "execution_count": 2,
   "id": "de154c95-1be6-4d7e-bfc6-c921eed66284",
   "metadata": {},
   "outputs": [],
   "source": [
    "df = pd.read_csv('z_train.csv')"
   ]
  },
  {
   "cell_type": "code",
   "execution_count": 3,
   "id": "15513a3f-d464-4391-93e0-dcc6f56d9cf3",
   "metadata": {},
   "outputs": [],
   "source": [
    "df.drop(columns= 'enrollee_id', inplace=True)"
   ]
  },
  {
   "cell_type": "code",
   "execution_count": 4,
   "id": "bba0ad17-e3a9-4ae8-9b34-acfd2c8364b7",
   "metadata": {},
   "outputs": [
    {
     "data": {
      "text/plain": [
       "Index(['gender', 'enrolled_university', 'education_level', 'major_discipline',\n",
       "       'experience', 'company_size', 'company_type', 'last_new_job'],\n",
       "      dtype='object')"
      ]
     },
     "execution_count": 4,
     "metadata": {},
     "output_type": "execute_result"
    }
   ],
   "source": [
    "columnas_nulas =df.isnull().sum()[(df.isnull().sum().sort_values(ascending=False)/df.shape[0])*100 > 0].index\n",
    "columnas_nulas"
   ]
  },
  {
   "cell_type": "code",
   "execution_count": 7,
   "id": "1c289a62-afb5-48cc-9190-828f514ce612",
   "metadata": {},
   "outputs": [
    {
     "name": "stdout",
     "output_type": "stream",
     "text": [
      "<class 'pandas.core.frame.DataFrame'>\n",
      "RangeIndex: 15326 entries, 0 to 15325\n",
      "Data columns (total 8 columns):\n",
      " #   Column               Non-Null Count  Dtype \n",
      "---  ------               --------------  ----- \n",
      " 0   gender               11725 non-null  object\n",
      " 1   enrolled_university  15024 non-null  object\n",
      " 2   education_level      14957 non-null  object\n",
      " 3   major_discipline     13089 non-null  object\n",
      " 4   experience           15276 non-null  object\n",
      " 5   company_size         10592 non-null  object\n",
      " 6   company_type         10435 non-null  object\n",
      " 7   last_new_job         14987 non-null  object\n",
      "dtypes: object(8)\n",
      "memory usage: 958.0+ KB\n"
     ]
    }
   ],
   "source": [
    "df[columnas_nulas].info()"
   ]
  },
  {
   "cell_type": "code",
   "execution_count": 14,
   "id": "e1d5e1d3-2119-4560-a20a-2e903b8814ad",
   "metadata": {},
   "outputs": [
    {
     "data": {
      "text/html": [
       "<div>\n",
       "<style scoped>\n",
       "    .dataframe tbody tr th:only-of-type {\n",
       "        vertical-align: middle;\n",
       "    }\n",
       "\n",
       "    .dataframe tbody tr th {\n",
       "        vertical-align: top;\n",
       "    }\n",
       "\n",
       "    .dataframe thead th {\n",
       "        text-align: right;\n",
       "    }\n",
       "</style>\n",
       "<table border=\"1\" class=\"dataframe\">\n",
       "  <thead>\n",
       "    <tr style=\"text-align: right;\">\n",
       "      <th></th>\n",
       "      <th>city</th>\n",
       "      <th>city_development_index</th>\n",
       "      <th>gender</th>\n",
       "      <th>relevent_experience</th>\n",
       "      <th>enrolled_university</th>\n",
       "      <th>education_level</th>\n",
       "      <th>major_discipline</th>\n",
       "      <th>experience</th>\n",
       "      <th>company_size</th>\n",
       "      <th>company_type</th>\n",
       "      <th>last_new_job</th>\n",
       "      <th>training_hours</th>\n",
       "      <th>target</th>\n",
       "    </tr>\n",
       "  </thead>\n",
       "  <tbody>\n",
       "    <tr>\n",
       "      <th>0</th>\n",
       "      <td>city_103</td>\n",
       "      <td>0.920</td>\n",
       "      <td>Male</td>\n",
       "      <td>Has relevent experience</td>\n",
       "      <td>no_enrollment</td>\n",
       "      <td>Graduate</td>\n",
       "      <td>STEM</td>\n",
       "      <td>&gt;20</td>\n",
       "      <td>NaN</td>\n",
       "      <td>NaN</td>\n",
       "      <td>1</td>\n",
       "      <td>36</td>\n",
       "      <td>1.0</td>\n",
       "    </tr>\n",
       "    <tr>\n",
       "      <th>1</th>\n",
       "      <td>city_40</td>\n",
       "      <td>0.776</td>\n",
       "      <td>Male</td>\n",
       "      <td>No relevent experience</td>\n",
       "      <td>no_enrollment</td>\n",
       "      <td>Graduate</td>\n",
       "      <td>STEM</td>\n",
       "      <td>15</td>\n",
       "      <td>50-99</td>\n",
       "      <td>Pvt Ltd</td>\n",
       "      <td>&gt;4</td>\n",
       "      <td>47</td>\n",
       "      <td>0.0</td>\n",
       "    </tr>\n",
       "    <tr>\n",
       "      <th>2</th>\n",
       "      <td>city_21</td>\n",
       "      <td>0.624</td>\n",
       "      <td>NaN</td>\n",
       "      <td>No relevent experience</td>\n",
       "      <td>Full time course</td>\n",
       "      <td>Graduate</td>\n",
       "      <td>STEM</td>\n",
       "      <td>5</td>\n",
       "      <td>NaN</td>\n",
       "      <td>NaN</td>\n",
       "      <td>never</td>\n",
       "      <td>83</td>\n",
       "      <td>0.0</td>\n",
       "    </tr>\n",
       "    <tr>\n",
       "      <th>3</th>\n",
       "      <td>city_115</td>\n",
       "      <td>0.789</td>\n",
       "      <td>NaN</td>\n",
       "      <td>No relevent experience</td>\n",
       "      <td>NaN</td>\n",
       "      <td>Graduate</td>\n",
       "      <td>Business Degree</td>\n",
       "      <td>&lt;1</td>\n",
       "      <td>NaN</td>\n",
       "      <td>Pvt Ltd</td>\n",
       "      <td>never</td>\n",
       "      <td>52</td>\n",
       "      <td>1.0</td>\n",
       "    </tr>\n",
       "    <tr>\n",
       "      <th>4</th>\n",
       "      <td>city_176</td>\n",
       "      <td>0.764</td>\n",
       "      <td>NaN</td>\n",
       "      <td>Has relevent experience</td>\n",
       "      <td>Part time course</td>\n",
       "      <td>Graduate</td>\n",
       "      <td>STEM</td>\n",
       "      <td>11</td>\n",
       "      <td>NaN</td>\n",
       "      <td>NaN</td>\n",
       "      <td>1</td>\n",
       "      <td>24</td>\n",
       "      <td>1.0</td>\n",
       "    </tr>\n",
       "  </tbody>\n",
       "</table>\n",
       "</div>"
      ],
      "text/plain": [
       "       city  city_development_index gender      relevent_experience  \\\n",
       "0  city_103                   0.920   Male  Has relevent experience   \n",
       "1   city_40                   0.776   Male   No relevent experience   \n",
       "2   city_21                   0.624    NaN   No relevent experience   \n",
       "3  city_115                   0.789    NaN   No relevent experience   \n",
       "4  city_176                   0.764    NaN  Has relevent experience   \n",
       "\n",
       "  enrolled_university education_level major_discipline experience  \\\n",
       "0       no_enrollment        Graduate             STEM        >20   \n",
       "1       no_enrollment        Graduate             STEM         15   \n",
       "2    Full time course        Graduate             STEM          5   \n",
       "3                 NaN        Graduate  Business Degree         <1   \n",
       "4    Part time course        Graduate             STEM         11   \n",
       "\n",
       "  company_size company_type last_new_job  training_hours  target  \n",
       "0          NaN          NaN            1              36     1.0  \n",
       "1        50-99      Pvt Ltd           >4              47     0.0  \n",
       "2          NaN          NaN        never              83     0.0  \n",
       "3          NaN      Pvt Ltd        never              52     1.0  \n",
       "4          NaN          NaN            1              24     1.0  "
      ]
     },
     "execution_count": 14,
     "metadata": {},
     "output_type": "execute_result"
    }
   ],
   "source": [
    "df.head()"
   ]
  },
  {
   "cell_type": "code",
   "execution_count": 194,
   "id": "c54b569d-2553-4a32-b3b7-a76ddaf40625",
   "metadata": {},
   "outputs": [
    {
     "data": {
      "text/html": [
       "<div>\n",
       "<style scoped>\n",
       "    .dataframe tbody tr th:only-of-type {\n",
       "        vertical-align: middle;\n",
       "    }\n",
       "\n",
       "    .dataframe tbody tr th {\n",
       "        vertical-align: top;\n",
       "    }\n",
       "\n",
       "    .dataframe thead th {\n",
       "        text-align: right;\n",
       "    }\n",
       "</style>\n",
       "<table border=\"1\" class=\"dataframe\">\n",
       "  <thead>\n",
       "    <tr style=\"text-align: right;\">\n",
       "      <th></th>\n",
       "      <th>city</th>\n",
       "      <th>city_development_index</th>\n",
       "      <th>gender</th>\n",
       "      <th>relevent_experience</th>\n",
       "      <th>enrolled_university</th>\n",
       "      <th>education_level</th>\n",
       "      <th>major_discipline</th>\n",
       "      <th>experience</th>\n",
       "      <th>company_size</th>\n",
       "      <th>company_type</th>\n",
       "      <th>last_new_job</th>\n",
       "      <th>training_hours</th>\n",
       "      <th>target</th>\n",
       "    </tr>\n",
       "  </thead>\n",
       "  <tbody>\n",
       "    <tr>\n",
       "      <th>0</th>\n",
       "      <td>city_103</td>\n",
       "      <td>0.92</td>\n",
       "      <td>Male</td>\n",
       "      <td>Has relevent experience</td>\n",
       "      <td>no_enrollment</td>\n",
       "      <td>Graduate</td>\n",
       "      <td>STEM</td>\n",
       "      <td>&gt;20</td>\n",
       "      <td>NaN</td>\n",
       "      <td>NaN</td>\n",
       "      <td>1</td>\n",
       "      <td>36</td>\n",
       "      <td>1.0</td>\n",
       "    </tr>\n",
       "    <tr>\n",
       "      <th>7</th>\n",
       "      <td>city_103</td>\n",
       "      <td>0.92</td>\n",
       "      <td>Male</td>\n",
       "      <td>Has relevent experience</td>\n",
       "      <td>no_enrollment</td>\n",
       "      <td>Graduate</td>\n",
       "      <td>STEM</td>\n",
       "      <td>7</td>\n",
       "      <td>50-99</td>\n",
       "      <td>Pvt Ltd</td>\n",
       "      <td>1</td>\n",
       "      <td>46</td>\n",
       "      <td>1.0</td>\n",
       "    </tr>\n",
       "    <tr>\n",
       "      <th>8</th>\n",
       "      <td>city_103</td>\n",
       "      <td>0.92</td>\n",
       "      <td>NaN</td>\n",
       "      <td>Has relevent experience</td>\n",
       "      <td>no_enrollment</td>\n",
       "      <td>Graduate</td>\n",
       "      <td>STEM</td>\n",
       "      <td>17</td>\n",
       "      <td>10000+</td>\n",
       "      <td>Pvt Ltd</td>\n",
       "      <td>&gt;4</td>\n",
       "      <td>123</td>\n",
       "      <td>0.0</td>\n",
       "    </tr>\n",
       "    <tr>\n",
       "      <th>10</th>\n",
       "      <td>city_103</td>\n",
       "      <td>0.92</td>\n",
       "      <td>Male</td>\n",
       "      <td>Has relevent experience</td>\n",
       "      <td>no_enrollment</td>\n",
       "      <td>Graduate</td>\n",
       "      <td>STEM</td>\n",
       "      <td>5</td>\n",
       "      <td>5000-9999</td>\n",
       "      <td>Pvt Ltd</td>\n",
       "      <td>1</td>\n",
       "      <td>108</td>\n",
       "      <td>0.0</td>\n",
       "    </tr>\n",
       "    <tr>\n",
       "      <th>15</th>\n",
       "      <td>city_103</td>\n",
       "      <td>0.92</td>\n",
       "      <td>NaN</td>\n",
       "      <td>Has relevent experience</td>\n",
       "      <td>no_enrollment</td>\n",
       "      <td>Graduate</td>\n",
       "      <td>STEM</td>\n",
       "      <td>1</td>\n",
       "      <td>50-99</td>\n",
       "      <td>Pvt Ltd</td>\n",
       "      <td>never</td>\n",
       "      <td>106</td>\n",
       "      <td>0.0</td>\n",
       "    </tr>\n",
       "    <tr>\n",
       "      <th>...</th>\n",
       "      <td>...</td>\n",
       "      <td>...</td>\n",
       "      <td>...</td>\n",
       "      <td>...</td>\n",
       "      <td>...</td>\n",
       "      <td>...</td>\n",
       "      <td>...</td>\n",
       "      <td>...</td>\n",
       "      <td>...</td>\n",
       "      <td>...</td>\n",
       "      <td>...</td>\n",
       "      <td>...</td>\n",
       "      <td>...</td>\n",
       "    </tr>\n",
       "    <tr>\n",
       "      <th>15316</th>\n",
       "      <td>city_103</td>\n",
       "      <td>0.92</td>\n",
       "      <td>Male</td>\n",
       "      <td>Has relevent experience</td>\n",
       "      <td>no_enrollment</td>\n",
       "      <td>Graduate</td>\n",
       "      <td>STEM</td>\n",
       "      <td>5</td>\n",
       "      <td>500-999</td>\n",
       "      <td>Pvt Ltd</td>\n",
       "      <td>1</td>\n",
       "      <td>51</td>\n",
       "      <td>0.0</td>\n",
       "    </tr>\n",
       "    <tr>\n",
       "      <th>15317</th>\n",
       "      <td>city_103</td>\n",
       "      <td>0.92</td>\n",
       "      <td>Male</td>\n",
       "      <td>Has relevent experience</td>\n",
       "      <td>no_enrollment</td>\n",
       "      <td>Masters</td>\n",
       "      <td>STEM</td>\n",
       "      <td>9</td>\n",
       "      <td>50-99</td>\n",
       "      <td>Pvt Ltd</td>\n",
       "      <td>1</td>\n",
       "      <td>36</td>\n",
       "      <td>1.0</td>\n",
       "    </tr>\n",
       "    <tr>\n",
       "      <th>15320</th>\n",
       "      <td>city_103</td>\n",
       "      <td>0.92</td>\n",
       "      <td>Female</td>\n",
       "      <td>Has relevent experience</td>\n",
       "      <td>no_enrollment</td>\n",
       "      <td>Graduate</td>\n",
       "      <td>Humanities</td>\n",
       "      <td>7</td>\n",
       "      <td>10/49</td>\n",
       "      <td>Funded Startup</td>\n",
       "      <td>1</td>\n",
       "      <td>25</td>\n",
       "      <td>0.0</td>\n",
       "    </tr>\n",
       "    <tr>\n",
       "      <th>15322</th>\n",
       "      <td>city_103</td>\n",
       "      <td>0.92</td>\n",
       "      <td>Male</td>\n",
       "      <td>Has relevent experience</td>\n",
       "      <td>no_enrollment</td>\n",
       "      <td>Graduate</td>\n",
       "      <td>STEM</td>\n",
       "      <td>14</td>\n",
       "      <td>NaN</td>\n",
       "      <td>NaN</td>\n",
       "      <td>4</td>\n",
       "      <td>52</td>\n",
       "      <td>1.0</td>\n",
       "    </tr>\n",
       "    <tr>\n",
       "      <th>15323</th>\n",
       "      <td>city_103</td>\n",
       "      <td>0.92</td>\n",
       "      <td>Male</td>\n",
       "      <td>Has relevent experience</td>\n",
       "      <td>no_enrollment</td>\n",
       "      <td>Graduate</td>\n",
       "      <td>STEM</td>\n",
       "      <td>&gt;20</td>\n",
       "      <td>50-99</td>\n",
       "      <td>Pvt Ltd</td>\n",
       "      <td>4</td>\n",
       "      <td>44</td>\n",
       "      <td>0.0</td>\n",
       "    </tr>\n",
       "  </tbody>\n",
       "</table>\n",
       "<p>3497 rows × 13 columns</p>\n",
       "</div>"
      ],
      "text/plain": [
       "           city  city_development_index  gender      relevent_experience  \\\n",
       "0      city_103                    0.92    Male  Has relevent experience   \n",
       "7      city_103                    0.92    Male  Has relevent experience   \n",
       "8      city_103                    0.92     NaN  Has relevent experience   \n",
       "10     city_103                    0.92    Male  Has relevent experience   \n",
       "15     city_103                    0.92     NaN  Has relevent experience   \n",
       "...         ...                     ...     ...                      ...   \n",
       "15316  city_103                    0.92    Male  Has relevent experience   \n",
       "15317  city_103                    0.92    Male  Has relevent experience   \n",
       "15320  city_103                    0.92  Female  Has relevent experience   \n",
       "15322  city_103                    0.92    Male  Has relevent experience   \n",
       "15323  city_103                    0.92    Male  Has relevent experience   \n",
       "\n",
       "      enrolled_university education_level major_discipline experience  \\\n",
       "0           no_enrollment        Graduate             STEM        >20   \n",
       "7           no_enrollment        Graduate             STEM          7   \n",
       "8           no_enrollment        Graduate             STEM         17   \n",
       "10          no_enrollment        Graduate             STEM          5   \n",
       "15          no_enrollment        Graduate             STEM          1   \n",
       "...                   ...             ...              ...        ...   \n",
       "15316       no_enrollment        Graduate             STEM          5   \n",
       "15317       no_enrollment         Masters             STEM          9   \n",
       "15320       no_enrollment        Graduate       Humanities          7   \n",
       "15322       no_enrollment        Graduate             STEM         14   \n",
       "15323       no_enrollment        Graduate             STEM        >20   \n",
       "\n",
       "      company_size    company_type last_new_job  training_hours  target  \n",
       "0              NaN             NaN            1              36     1.0  \n",
       "7            50-99         Pvt Ltd            1              46     1.0  \n",
       "8           10000+         Pvt Ltd           >4             123     0.0  \n",
       "10       5000-9999         Pvt Ltd            1             108     0.0  \n",
       "15           50-99         Pvt Ltd        never             106     0.0  \n",
       "...            ...             ...          ...             ...     ...  \n",
       "15316      500-999         Pvt Ltd            1              51     0.0  \n",
       "15317        50-99         Pvt Ltd            1              36     1.0  \n",
       "15320        10/49  Funded Startup            1              25     0.0  \n",
       "15322          NaN             NaN            4              52     1.0  \n",
       "15323        50-99         Pvt Ltd            4              44     0.0  \n",
       "\n",
       "[3497 rows x 13 columns]"
      ]
     },
     "execution_count": 194,
     "metadata": {},
     "output_type": "execute_result"
    }
   ],
   "source": [
    "df[df.city == 'city_103']"
   ]
  },
  {
   "cell_type": "code",
   "execution_count": 99,
   "id": "84d172be-91b2-469c-b98b-6c2384765653",
   "metadata": {},
   "outputs": [
    {
     "data": {
      "text/plain": [
       "0.0    11502\n",
       "1.0     3824\n",
       "Name: target, dtype: int64"
      ]
     },
     "execution_count": 99,
     "metadata": {},
     "output_type": "execute_result"
    }
   ],
   "source": [
    "df.target.value_counts()"
   ]
  },
  {
   "cell_type": "code",
   "execution_count": 29,
   "id": "5580c28a-670b-4217-bee7-58fba4e0ca5e",
   "metadata": {},
   "outputs": [],
   "source": [
    "X_train, X_test, y_train, y_test = train_test_split(df.drop(columns='target'), df.target, train_size=0.8)"
   ]
  },
  {
   "cell_type": "markdown",
   "id": "0e67c1d3-b628-4d6c-8c0e-e5a85a933b51",
   "metadata": {},
   "source": [
    "# NULOS CATEGORICOS"
   ]
  },
  {
   "cell_type": "code",
   "execution_count": 64,
   "id": "fa22abd3-d6c8-4c2a-8f1f-955c07450c31",
   "metadata": {},
   "outputs": [],
   "source": [
    "categorico_nulos=mdi.CategoricalImputer('frequent', variables = ['gender', 'enrolled_university', 'education_level', 'major_discipline',\n",
    "       'experience', 'company_size', 'company_type', 'last_new_job'])"
   ]
  },
  {
   "cell_type": "code",
   "execution_count": 65,
   "id": "3e50ff38-1d2c-4261-a8f8-4fab01a1b172",
   "metadata": {},
   "outputs": [],
   "source": [
    "df_sin_nulos=categorico_nulos.fit_transform(X_train)"
   ]
  },
  {
   "cell_type": "markdown",
   "id": "f69e8a03-cafb-4089-b596-2bc77f7f365a",
   "metadata": {},
   "source": [
    "visualizaciones"
   ]
  },
  {
   "cell_type": "code",
   "execution_count": 66,
   "id": "7f80da54-8dc2-4c4e-809d-d1afedbaca29",
   "metadata": {},
   "outputs": [
    {
     "data": {
      "text/plain": [
       "city                      0\n",
       "city_development_index    0\n",
       "gender                    0\n",
       "relevent_experience       0\n",
       "enrolled_university       0\n",
       "education_level           0\n",
       "major_discipline          0\n",
       "experience                0\n",
       "company_size              0\n",
       "company_type              0\n",
       "last_new_job              0\n",
       "training_hours            0\n",
       "dtype: int64"
      ]
     },
     "execution_count": 66,
     "metadata": {},
     "output_type": "execute_result"
    }
   ],
   "source": [
    "df_sin_nulos.isnull().sum()"
   ]
  },
  {
   "cell_type": "code",
   "execution_count": 67,
   "id": "9c1808e9-39ad-4bb8-a4a9-bc0db039a49b",
   "metadata": {},
   "outputs": [
    {
     "data": {
      "text/plain": [
       "city                      0\n",
       "city_development_index    0\n",
       "gender                    0\n",
       "relevent_experience       0\n",
       "enrolled_university       0\n",
       "education_level           0\n",
       "major_discipline          0\n",
       "experience                0\n",
       "company_size              0\n",
       "company_type              0\n",
       "last_new_job              0\n",
       "training_hours            0\n",
       "dtype: int64"
      ]
     },
     "execution_count": 67,
     "metadata": {},
     "output_type": "execute_result"
    }
   ],
   "source": [
    "df_sin_nulos_test=categorico_nulos.fit_transform(X_test)\n",
    "df_sin_nulos_test.isna().sum()"
   ]
  },
  {
   "cell_type": "markdown",
   "id": "192b74e6-ca4a-4660-b251-f8f63901cda0",
   "metadata": {},
   "source": [
    "# TRANSFORMACIONES"
   ]
  },
  {
   "cell_type": "code",
   "execution_count": 68,
   "id": "42351dd4-56e4-4522-9bb8-47eda8cf3cfd",
   "metadata": {},
   "outputs": [
    {
     "name": "stdout",
     "output_type": "stream",
     "text": [
      "<class 'pandas.core.frame.DataFrame'>\n",
      "Int64Index: 12260 entries, 12352 to 2\n",
      "Data columns (total 12 columns):\n",
      " #   Column                  Non-Null Count  Dtype  \n",
      "---  ------                  --------------  -----  \n",
      " 0   city                    12260 non-null  object \n",
      " 1   city_development_index  12260 non-null  float64\n",
      " 2   gender                  12260 non-null  object \n",
      " 3   relevent_experience     12260 non-null  object \n",
      " 4   enrolled_university     12260 non-null  object \n",
      " 5   education_level         12260 non-null  object \n",
      " 6   major_discipline        12260 non-null  object \n",
      " 7   experience              12260 non-null  object \n",
      " 8   company_size            12260 non-null  object \n",
      " 9   company_type            12260 non-null  object \n",
      " 10  last_new_job            12260 non-null  object \n",
      " 11  training_hours          12260 non-null  int64  \n",
      "dtypes: float64(1), int64(1), object(10)\n",
      "memory usage: 1.2+ MB\n"
     ]
    }
   ],
   "source": [
    "df_sin_nulos.info()"
   ]
  },
  {
   "cell_type": "code",
   "execution_count": 54,
   "id": "7f3cd674-b89b-485a-b3c1-56a4b3897256",
   "metadata": {},
   "outputs": [],
   "source": [
    "ordinales = ['relevent_experience','education_level', 'experience'] "
   ]
  },
  {
   "cell_type": "code",
   "execution_count": 45,
   "id": "5f0e5bc2-422a-4ebf-a2fa-3a60b630c543",
   "metadata": {},
   "outputs": [
    {
     "data": {
      "text/plain": [
       "['Graduate', 'High School', 'Masters', 'Phd', 'Primary School']"
      ]
     },
     "execution_count": 45,
     "metadata": {},
     "output_type": "execute_result"
    }
   ],
   "source": [
    "sorted(df_sin_nulos.education_level.unique())"
   ]
  },
  {
   "cell_type": "code",
   "execution_count": 87,
   "id": "3744a14b-d87b-4b24-aa90-18363a2b5cd7",
   "metadata": {},
   "outputs": [],
   "source": [
    "ordinal = preprocessing.OrdinalEncoder()\n",
    "df_sin_nulos[ordinales] = ordinal.fit_transform(df_sin_nulos[ordinales])"
   ]
  },
  {
   "cell_type": "code",
   "execution_count": 88,
   "id": "2eb02f17-f2ae-469e-9c6e-128395a7a190",
   "metadata": {},
   "outputs": [],
   "source": [
    "df_sin_nulos_test[ordinales]=ordinal.fit_transform(df_sin_nulos_test[ordinales])"
   ]
  },
  {
   "cell_type": "code",
   "execution_count": 89,
   "id": "3b356e2b-8eb1-4c8c-b816-c09a8362a5e6",
   "metadata": {},
   "outputs": [
    {
     "data": {
      "text/plain": [
       "city                      0\n",
       "city_development_index    0\n",
       "gender                    0\n",
       "relevent_experience       0\n",
       "enrolled_university       0\n",
       "education_level           0\n",
       "major_discipline          0\n",
       "experience                0\n",
       "company_size              0\n",
       "company_type              0\n",
       "last_new_job              0\n",
       "training_hours            0\n",
       "dtype: int64"
      ]
     },
     "execution_count": 89,
     "metadata": {},
     "output_type": "execute_result"
    }
   ],
   "source": [
    "df_sin_nulos_test.isnull().sum()"
   ]
  },
  {
   "cell_type": "code",
   "execution_count": 90,
   "id": "06538ea9-0a9f-4013-bd31-211418120095",
   "metadata": {},
   "outputs": [],
   "source": [
    "categoricas= CountFrequencyEncoder(encoding_method = 'frequency',variables = ['city', 'gender', 'enrolled_university', 'major_discipline','company_size', 'company_type','last_new_job'] )\n",
    "df_transformado = categoricas.fit_transform(df_sin_nulos)"
   ]
  },
  {
   "cell_type": "code",
   "execution_count": 91,
   "id": "de253b08-5e69-4fc2-8941-aa06e057f341",
   "metadata": {},
   "outputs": [],
   "source": [
    "df_transformado_test = categoricas.fit_transform(df_sin_nulos_test)"
   ]
  },
  {
   "cell_type": "code",
   "execution_count": 95,
   "id": "1057064e-b039-4235-9c51-7b83b0b0d44c",
   "metadata": {},
   "outputs": [
    {
     "name": "stdout",
     "output_type": "stream",
     "text": [
      "<class 'pandas.core.frame.DataFrame'>\n",
      "Int64Index: 3066 entries, 2929 to 11428\n",
      "Data columns (total 12 columns):\n",
      " #   Column                  Non-Null Count  Dtype  \n",
      "---  ------                  --------------  -----  \n",
      " 0   city                    3066 non-null   float64\n",
      " 1   city_development_index  3066 non-null   float64\n",
      " 2   gender                  3066 non-null   float64\n",
      " 3   relevent_experience     3066 non-null   float64\n",
      " 4   enrolled_university     3066 non-null   float64\n",
      " 5   education_level         3066 non-null   float64\n",
      " 6   major_discipline        3066 non-null   float64\n",
      " 7   experience              3066 non-null   float64\n",
      " 8   company_size            3066 non-null   float64\n",
      " 9   company_type            3066 non-null   float64\n",
      " 10  last_new_job            3066 non-null   float64\n",
      " 11  training_hours          3066 non-null   int64  \n",
      "dtypes: float64(11), int64(1)\n",
      "memory usage: 375.9 KB\n"
     ]
    }
   ],
   "source": [
    "df_transformado_test.info()"
   ]
  },
  {
   "cell_type": "markdown",
   "id": "039e33e4-2689-42de-a591-5c6e5200e0a8",
   "metadata": {},
   "source": [
    "## Reducción"
   ]
  },
  {
   "cell_type": "code",
   "execution_count": 181,
   "id": "744e6eca-de63-4c18-96a9-e01b68fe94de",
   "metadata": {},
   "outputs": [],
   "source": [
    "df_transf_red = df_transformado[['city', 'city_development_index', 'relevent_experience',\n",
    "       'company_size']]"
   ]
  },
  {
   "cell_type": "code",
   "execution_count": 182,
   "id": "6f7ea6e8-88d2-44b7-916c-abe4ce8b0671",
   "metadata": {},
   "outputs": [],
   "source": [
    "df_transf_red_test = df_transformado_test[['city', 'city_development_index', 'relevent_experience',\n",
    "       'company_size']]"
   ]
  },
  {
   "cell_type": "markdown",
   "id": "bc602536-53b7-4826-9a79-af90179e3ed0",
   "metadata": {},
   "source": [
    "# ESCALADO"
   ]
  },
  {
   "cell_type": "code",
   "execution_count": 97,
   "id": "15babea3-24aa-4d31-be0f-0aba91a54130",
   "metadata": {
    "collapsed": true,
    "jupyter": {
     "outputs_hidden": true
    },
    "tags": []
   },
   "outputs": [
    {
     "data": {
      "text/html": [
       "<div>\n",
       "<style scoped>\n",
       "    .dataframe tbody tr th:only-of-type {\n",
       "        vertical-align: middle;\n",
       "    }\n",
       "\n",
       "    .dataframe tbody tr th {\n",
       "        vertical-align: top;\n",
       "    }\n",
       "\n",
       "    .dataframe thead th {\n",
       "        text-align: right;\n",
       "    }\n",
       "</style>\n",
       "<table border=\"1\" class=\"dataframe\">\n",
       "  <thead>\n",
       "    <tr style=\"text-align: right;\">\n",
       "      <th></th>\n",
       "      <th>city</th>\n",
       "      <th>city_development_index</th>\n",
       "      <th>gender</th>\n",
       "      <th>relevent_experience</th>\n",
       "      <th>enrolled_university</th>\n",
       "      <th>education_level</th>\n",
       "      <th>major_discipline</th>\n",
       "      <th>experience</th>\n",
       "      <th>company_size</th>\n",
       "      <th>company_type</th>\n",
       "      <th>last_new_job</th>\n",
       "      <th>training_hours</th>\n",
       "    </tr>\n",
       "  </thead>\n",
       "  <tbody>\n",
       "    <tr>\n",
       "      <th>count</th>\n",
       "      <td>12260.000000</td>\n",
       "      <td>12260.000000</td>\n",
       "      <td>12260.000000</td>\n",
       "      <td>12260.000000</td>\n",
       "      <td>12260.000000</td>\n",
       "      <td>12260.000000</td>\n",
       "      <td>12260.000000</td>\n",
       "      <td>12260.000000</td>\n",
       "      <td>12260.000000</td>\n",
       "      <td>12260.000000</td>\n",
       "      <td>12260.000000</td>\n",
       "      <td>12260.000000</td>\n",
       "    </tr>\n",
       "    <tr>\n",
       "      <th>mean</th>\n",
       "      <td>0.089930</td>\n",
       "      <td>0.829948</td>\n",
       "      <td>0.862803</td>\n",
       "      <td>0.278385</td>\n",
       "      <td>0.592367</td>\n",
       "      <td>0.686949</td>\n",
       "      <td>0.815624</td>\n",
       "      <td>12.961011</td>\n",
       "      <td>0.266115</td>\n",
       "      <td>0.701408</td>\n",
       "      <td>0.270167</td>\n",
       "      <td>65.406607</td>\n",
       "    </tr>\n",
       "    <tr>\n",
       "      <th>std</th>\n",
       "      <td>0.087218</td>\n",
       "      <td>0.122613</td>\n",
       "      <td>0.226687</td>\n",
       "      <td>0.448222</td>\n",
       "      <td>0.254499</td>\n",
       "      <td>0.990637</td>\n",
       "      <td>0.261516</td>\n",
       "      <td>6.609284</td>\n",
       "      <td>0.189012</td>\n",
       "      <td>0.295138</td>\n",
       "      <td>0.156627</td>\n",
       "      <td>59.988762</td>\n",
       "    </tr>\n",
       "    <tr>\n",
       "      <th>min</th>\n",
       "      <td>0.000082</td>\n",
       "      <td>0.448000</td>\n",
       "      <td>0.008972</td>\n",
       "      <td>0.000000</td>\n",
       "      <td>0.062072</td>\n",
       "      <td>0.000000</td>\n",
       "      <td>0.011909</td>\n",
       "      <td>0.000000</td>\n",
       "      <td>0.028711</td>\n",
       "      <td>0.006199</td>\n",
       "      <td>0.052855</td>\n",
       "      <td>1.000000</td>\n",
       "    </tr>\n",
       "    <tr>\n",
       "      <th>25%</th>\n",
       "      <td>0.009951</td>\n",
       "      <td>0.743000</td>\n",
       "      <td>0.926591</td>\n",
       "      <td>0.000000</td>\n",
       "      <td>0.196330</td>\n",
       "      <td>0.000000</td>\n",
       "      <td>0.901876</td>\n",
       "      <td>7.000000</td>\n",
       "      <td>0.078222</td>\n",
       "      <td>0.833361</td>\n",
       "      <td>0.152202</td>\n",
       "      <td>23.000000</td>\n",
       "    </tr>\n",
       "    <tr>\n",
       "      <th>50%</th>\n",
       "      <td>0.069902</td>\n",
       "      <td>0.910000</td>\n",
       "      <td>0.926591</td>\n",
       "      <td>0.000000</td>\n",
       "      <td>0.741599</td>\n",
       "      <td>0.000000</td>\n",
       "      <td>0.901876</td>\n",
       "      <td>14.000000</td>\n",
       "      <td>0.135644</td>\n",
       "      <td>0.833361</td>\n",
       "      <td>0.171370</td>\n",
       "      <td>47.000000</td>\n",
       "    </tr>\n",
       "    <tr>\n",
       "      <th>75%</th>\n",
       "      <td>0.141599</td>\n",
       "      <td>0.920000</td>\n",
       "      <td>0.926591</td>\n",
       "      <td>1.000000</td>\n",
       "      <td>0.741599</td>\n",
       "      <td>2.000000</td>\n",
       "      <td>0.901876</td>\n",
       "      <td>19.000000</td>\n",
       "      <td>0.466558</td>\n",
       "      <td>0.833361</td>\n",
       "      <td>0.442414</td>\n",
       "      <td>89.000000</td>\n",
       "    </tr>\n",
       "    <tr>\n",
       "      <th>max</th>\n",
       "      <td>0.227569</td>\n",
       "      <td>0.949000</td>\n",
       "      <td>0.926591</td>\n",
       "      <td>1.000000</td>\n",
       "      <td>0.741599</td>\n",
       "      <td>4.000000</td>\n",
       "      <td>0.901876</td>\n",
       "      <td>21.000000</td>\n",
       "      <td>0.466558</td>\n",
       "      <td>0.833361</td>\n",
       "      <td>0.442414</td>\n",
       "      <td>336.000000</td>\n",
       "    </tr>\n",
       "  </tbody>\n",
       "</table>\n",
       "</div>"
      ],
      "text/plain": [
       "               city  city_development_index        gender  \\\n",
       "count  12260.000000            12260.000000  12260.000000   \n",
       "mean       0.089930                0.829948      0.862803   \n",
       "std        0.087218                0.122613      0.226687   \n",
       "min        0.000082                0.448000      0.008972   \n",
       "25%        0.009951                0.743000      0.926591   \n",
       "50%        0.069902                0.910000      0.926591   \n",
       "75%        0.141599                0.920000      0.926591   \n",
       "max        0.227569                0.949000      0.926591   \n",
       "\n",
       "       relevent_experience  enrolled_university  education_level  \\\n",
       "count         12260.000000         12260.000000     12260.000000   \n",
       "mean              0.278385             0.592367         0.686949   \n",
       "std               0.448222             0.254499         0.990637   \n",
       "min               0.000000             0.062072         0.000000   \n",
       "25%               0.000000             0.196330         0.000000   \n",
       "50%               0.000000             0.741599         0.000000   \n",
       "75%               1.000000             0.741599         2.000000   \n",
       "max               1.000000             0.741599         4.000000   \n",
       "\n",
       "       major_discipline    experience  company_size  company_type  \\\n",
       "count      12260.000000  12260.000000  12260.000000  12260.000000   \n",
       "mean           0.815624     12.961011      0.266115      0.701408   \n",
       "std            0.261516      6.609284      0.189012      0.295138   \n",
       "min            0.011909      0.000000      0.028711      0.006199   \n",
       "25%            0.901876      7.000000      0.078222      0.833361   \n",
       "50%            0.901876     14.000000      0.135644      0.833361   \n",
       "75%            0.901876     19.000000      0.466558      0.833361   \n",
       "max            0.901876     21.000000      0.466558      0.833361   \n",
       "\n",
       "       last_new_job  training_hours  \n",
       "count  12260.000000    12260.000000  \n",
       "mean       0.270167       65.406607  \n",
       "std        0.156627       59.988762  \n",
       "min        0.052855        1.000000  \n",
       "25%        0.152202       23.000000  \n",
       "50%        0.171370       47.000000  \n",
       "75%        0.442414       89.000000  \n",
       "max        0.442414      336.000000  "
      ]
     },
     "execution_count": 97,
     "metadata": {},
     "output_type": "execute_result"
    }
   ],
   "source": [
    "df_transformado.describe()"
   ]
  },
  {
   "cell_type": "code",
   "execution_count": 98,
   "id": "3cbcc1ce-5fa0-46ca-9a00-ce17f0def261",
   "metadata": {},
   "outputs": [],
   "source": [
    "Robusto  = preprocessing.RobustScaler()"
   ]
  },
  {
   "cell_type": "code",
   "execution_count": 102,
   "id": "7136abe4-93fd-4594-82a1-0494a53493a7",
   "metadata": {
    "collapsed": true,
    "jupyter": {
     "outputs_hidden": true
    },
    "tags": []
   },
   "outputs": [
    {
     "data": {
      "text/html": [
       "<div>\n",
       "<style scoped>\n",
       "    .dataframe tbody tr th:only-of-type {\n",
       "        vertical-align: middle;\n",
       "    }\n",
       "\n",
       "    .dataframe tbody tr th {\n",
       "        vertical-align: top;\n",
       "    }\n",
       "\n",
       "    .dataframe thead th {\n",
       "        text-align: right;\n",
       "    }\n",
       "</style>\n",
       "<table border=\"1\" class=\"dataframe\">\n",
       "  <thead>\n",
       "    <tr style=\"text-align: right;\">\n",
       "      <th></th>\n",
       "      <th>city</th>\n",
       "      <th>city_development_index</th>\n",
       "      <th>gender</th>\n",
       "      <th>relevent_experience</th>\n",
       "      <th>enrolled_university</th>\n",
       "      <th>education_level</th>\n",
       "      <th>major_discipline</th>\n",
       "      <th>experience</th>\n",
       "      <th>company_size</th>\n",
       "      <th>company_type</th>\n",
       "      <th>last_new_job</th>\n",
       "      <th>training_hours</th>\n",
       "    </tr>\n",
       "  </thead>\n",
       "  <tbody>\n",
       "    <tr>\n",
       "      <th>0</th>\n",
       "      <td>0.100372</td>\n",
       "      <td>0.000000</td>\n",
       "      <td>0.0</td>\n",
       "      <td>0.0</td>\n",
       "      <td>0.0</td>\n",
       "      <td>0.0</td>\n",
       "      <td>0.0</td>\n",
       "      <td>0.166667</td>\n",
       "      <td>-0.073514</td>\n",
       "      <td>0.000000</td>\n",
       "      <td>0.933952</td>\n",
       "      <td>-0.106061</td>\n",
       "    </tr>\n",
       "    <tr>\n",
       "      <th>1</th>\n",
       "      <td>1.197646</td>\n",
       "      <td>0.056497</td>\n",
       "      <td>0.0</td>\n",
       "      <td>0.0</td>\n",
       "      <td>0.0</td>\n",
       "      <td>0.0</td>\n",
       "      <td>0.0</td>\n",
       "      <td>0.000000</td>\n",
       "      <td>-0.073514</td>\n",
       "      <td>0.000000</td>\n",
       "      <td>-0.151771</td>\n",
       "      <td>0.954545</td>\n",
       "    </tr>\n",
       "    <tr>\n",
       "      <th>2</th>\n",
       "      <td>-0.456629</td>\n",
       "      <td>-0.610169</td>\n",
       "      <td>0.0</td>\n",
       "      <td>0.0</td>\n",
       "      <td>0.0</td>\n",
       "      <td>1.0</td>\n",
       "      <td>0.0</td>\n",
       "      <td>0.583333</td>\n",
       "      <td>-0.173703</td>\n",
       "      <td>0.000000</td>\n",
       "      <td>-0.405003</td>\n",
       "      <td>-0.257576</td>\n",
       "    </tr>\n",
       "    <tr>\n",
       "      <th>3</th>\n",
       "      <td>-0.412020</td>\n",
       "      <td>0.079096</td>\n",
       "      <td>0.0</td>\n",
       "      <td>0.0</td>\n",
       "      <td>0.0</td>\n",
       "      <td>0.5</td>\n",
       "      <td>0.0</td>\n",
       "      <td>-0.666667</td>\n",
       "      <td>0.852132</td>\n",
       "      <td>0.000000</td>\n",
       "      <td>0.000000</td>\n",
       "      <td>0.045455</td>\n",
       "    </tr>\n",
       "    <tr>\n",
       "      <th>4</th>\n",
       "      <td>0.100372</td>\n",
       "      <td>0.000000</td>\n",
       "      <td>0.0</td>\n",
       "      <td>0.0</td>\n",
       "      <td>0.0</td>\n",
       "      <td>0.0</td>\n",
       "      <td>0.0</td>\n",
       "      <td>0.083333</td>\n",
       "      <td>0.000000</td>\n",
       "      <td>-0.782137</td>\n",
       "      <td>-0.405003</td>\n",
       "      <td>0.393939</td>\n",
       "    </tr>\n",
       "    <tr>\n",
       "      <th>...</th>\n",
       "      <td>...</td>\n",
       "      <td>...</td>\n",
       "      <td>...</td>\n",
       "      <td>...</td>\n",
       "      <td>...</td>\n",
       "      <td>...</td>\n",
       "      <td>...</td>\n",
       "      <td>...</td>\n",
       "      <td>...</td>\n",
       "      <td>...</td>\n",
       "      <td>...</td>\n",
       "      <td>...</td>\n",
       "    </tr>\n",
       "    <tr>\n",
       "      <th>12255</th>\n",
       "      <td>-0.491326</td>\n",
       "      <td>-0.039548</td>\n",
       "      <td>0.0</td>\n",
       "      <td>0.0</td>\n",
       "      <td>0.0</td>\n",
       "      <td>1.0</td>\n",
       "      <td>0.0</td>\n",
       "      <td>0.416667</td>\n",
       "      <td>-0.147868</td>\n",
       "      <td>0.000000</td>\n",
       "      <td>0.933952</td>\n",
       "      <td>-0.530303</td>\n",
       "    </tr>\n",
       "    <tr>\n",
       "      <th>12256</th>\n",
       "      <td>0.544610</td>\n",
       "      <td>-1.615819</td>\n",
       "      <td>0.0</td>\n",
       "      <td>0.0</td>\n",
       "      <td>0.0</td>\n",
       "      <td>0.0</td>\n",
       "      <td>0.0</td>\n",
       "      <td>-0.833333</td>\n",
       "      <td>0.852132</td>\n",
       "      <td>0.000000</td>\n",
       "      <td>-0.151771</td>\n",
       "      <td>-0.196970</td>\n",
       "    </tr>\n",
       "    <tr>\n",
       "      <th>12257</th>\n",
       "      <td>-0.200124</td>\n",
       "      <td>0.056497</td>\n",
       "      <td>0.0</td>\n",
       "      <td>0.0</td>\n",
       "      <td>0.0</td>\n",
       "      <td>0.0</td>\n",
       "      <td>0.0</td>\n",
       "      <td>-0.666667</td>\n",
       "      <td>-0.073514</td>\n",
       "      <td>-0.783524</td>\n",
       "      <td>0.000000</td>\n",
       "      <td>-0.590909</td>\n",
       "    </tr>\n",
       "    <tr>\n",
       "      <th>12258</th>\n",
       "      <td>1.197646</td>\n",
       "      <td>0.056497</td>\n",
       "      <td>0.0</td>\n",
       "      <td>0.0</td>\n",
       "      <td>0.0</td>\n",
       "      <td>0.0</td>\n",
       "      <td>0.0</td>\n",
       "      <td>0.583333</td>\n",
       "      <td>0.852132</td>\n",
       "      <td>0.000000</td>\n",
       "      <td>0.933952</td>\n",
       "      <td>1.272727</td>\n",
       "    </tr>\n",
       "    <tr>\n",
       "      <th>12259</th>\n",
       "      <td>0.544610</td>\n",
       "      <td>-1.615819</td>\n",
       "      <td>0.0</td>\n",
       "      <td>1.0</td>\n",
       "      <td>-1.0</td>\n",
       "      <td>0.0</td>\n",
       "      <td>0.0</td>\n",
       "      <td>0.083333</td>\n",
       "      <td>0.852132</td>\n",
       "      <td>0.000000</td>\n",
       "      <td>-0.151771</td>\n",
       "      <td>0.545455</td>\n",
       "    </tr>\n",
       "  </tbody>\n",
       "</table>\n",
       "<p>12260 rows × 12 columns</p>\n",
       "</div>"
      ],
      "text/plain": [
       "           city  city_development_index  gender  relevent_experience  \\\n",
       "0      0.100372                0.000000     0.0                  0.0   \n",
       "1      1.197646                0.056497     0.0                  0.0   \n",
       "2     -0.456629               -0.610169     0.0                  0.0   \n",
       "3     -0.412020                0.079096     0.0                  0.0   \n",
       "4      0.100372                0.000000     0.0                  0.0   \n",
       "...         ...                     ...     ...                  ...   \n",
       "12255 -0.491326               -0.039548     0.0                  0.0   \n",
       "12256  0.544610               -1.615819     0.0                  0.0   \n",
       "12257 -0.200124                0.056497     0.0                  0.0   \n",
       "12258  1.197646                0.056497     0.0                  0.0   \n",
       "12259  0.544610               -1.615819     0.0                  1.0   \n",
       "\n",
       "       enrolled_university  education_level  major_discipline  experience  \\\n",
       "0                      0.0              0.0               0.0    0.166667   \n",
       "1                      0.0              0.0               0.0    0.000000   \n",
       "2                      0.0              1.0               0.0    0.583333   \n",
       "3                      0.0              0.5               0.0   -0.666667   \n",
       "4                      0.0              0.0               0.0    0.083333   \n",
       "...                    ...              ...               ...         ...   \n",
       "12255                  0.0              1.0               0.0    0.416667   \n",
       "12256                  0.0              0.0               0.0   -0.833333   \n",
       "12257                  0.0              0.0               0.0   -0.666667   \n",
       "12258                  0.0              0.0               0.0    0.583333   \n",
       "12259                 -1.0              0.0               0.0    0.083333   \n",
       "\n",
       "       company_size  company_type  last_new_job  training_hours  \n",
       "0         -0.073514      0.000000      0.933952       -0.106061  \n",
       "1         -0.073514      0.000000     -0.151771        0.954545  \n",
       "2         -0.173703      0.000000     -0.405003       -0.257576  \n",
       "3          0.852132      0.000000      0.000000        0.045455  \n",
       "4          0.000000     -0.782137     -0.405003        0.393939  \n",
       "...             ...           ...           ...             ...  \n",
       "12255     -0.147868      0.000000      0.933952       -0.530303  \n",
       "12256      0.852132      0.000000     -0.151771       -0.196970  \n",
       "12257     -0.073514     -0.783524      0.000000       -0.590909  \n",
       "12258      0.852132      0.000000      0.933952        1.272727  \n",
       "12259      0.852132      0.000000     -0.151771        0.545455  \n",
       "\n",
       "[12260 rows x 12 columns]"
      ]
     },
     "execution_count": 102,
     "metadata": {},
     "output_type": "execute_result"
    }
   ],
   "source": [
    "df_escalado = pd.DataFrame(Robusto.fit_transform(df_transformado), columns = df_transformado.columns)"
   ]
  },
  {
   "cell_type": "code",
   "execution_count": 103,
   "id": "d2ee3b8f-6f62-491c-a9ba-0d320e5409c5",
   "metadata": {},
   "outputs": [],
   "source": [
    "df_escalado_test = pd.DataFrame(Robusto.fit_transform(df_transformado_test), columns = df_transformado_test.columns)"
   ]
  },
  {
   "cell_type": "markdown",
   "id": "49e5628c-052a-4fd9-81ca-c5d588a056c0",
   "metadata": {},
   "source": [
    "## Escalado reducción"
   ]
  },
  {
   "cell_type": "code",
   "execution_count": 183,
   "id": "8a48b024-3a6d-4e30-93d7-d8c95f7c8358",
   "metadata": {},
   "outputs": [],
   "source": [
    "df_escalado_red = pd.DataFrame(Robusto.fit_transform(df_transf_red), columns = df_transf_red.columns)"
   ]
  },
  {
   "cell_type": "code",
   "execution_count": 184,
   "id": "a6aa2666-384f-41d5-b06c-44a097428416",
   "metadata": {},
   "outputs": [],
   "source": [
    "df_escalado_red_test = pd.DataFrame(Robusto.fit_transform(df_transf_red_test), columns = df_transf_red_test.columns)"
   ]
  },
  {
   "cell_type": "markdown",
   "id": "81e7a6e2-3400-46ca-9054-7d55186cf262",
   "metadata": {},
   "source": [
    "# Modelo"
   ]
  },
  {
   "cell_type": "code",
   "execution_count": 105,
   "id": "83254baf-5dd9-498a-acc2-3bb28e609d12",
   "metadata": {},
   "outputs": [],
   "source": [
    "from sklearn.linear_model import LogisticRegression"
   ]
  },
  {
   "cell_type": "code",
   "execution_count": 111,
   "id": "cbe92cee-160d-4b45-a677-9f98b3a88fe7",
   "metadata": {},
   "outputs": [],
   "source": [
    "from sklearn import feature_selection"
   ]
  },
  {
   "cell_type": "code",
   "execution_count": 106,
   "id": "674e5a3e-7acd-4bef-9cec-8b17895cc6ad",
   "metadata": {},
   "outputs": [],
   "source": [
    "logreg = LogisticRegression()"
   ]
  },
  {
   "cell_type": "code",
   "execution_count": 107,
   "id": "2186e64f-56c4-4c54-ab97-aefa75c02b46",
   "metadata": {},
   "outputs": [
    {
     "data": {
      "text/html": [
       "<style>#sk-container-id-2 {color: black;background-color: white;}#sk-container-id-2 pre{padding: 0;}#sk-container-id-2 div.sk-toggleable {background-color: white;}#sk-container-id-2 label.sk-toggleable__label {cursor: pointer;display: block;width: 100%;margin-bottom: 0;padding: 0.3em;box-sizing: border-box;text-align: center;}#sk-container-id-2 label.sk-toggleable__label-arrow:before {content: \"▸\";float: left;margin-right: 0.25em;color: #696969;}#sk-container-id-2 label.sk-toggleable__label-arrow:hover:before {color: black;}#sk-container-id-2 div.sk-estimator:hover label.sk-toggleable__label-arrow:before {color: black;}#sk-container-id-2 div.sk-toggleable__content {max-height: 0;max-width: 0;overflow: hidden;text-align: left;background-color: #f0f8ff;}#sk-container-id-2 div.sk-toggleable__content pre {margin: 0.2em;color: black;border-radius: 0.25em;background-color: #f0f8ff;}#sk-container-id-2 input.sk-toggleable__control:checked~div.sk-toggleable__content {max-height: 200px;max-width: 100%;overflow: auto;}#sk-container-id-2 input.sk-toggleable__control:checked~label.sk-toggleable__label-arrow:before {content: \"▾\";}#sk-container-id-2 div.sk-estimator input.sk-toggleable__control:checked~label.sk-toggleable__label {background-color: #d4ebff;}#sk-container-id-2 div.sk-label input.sk-toggleable__control:checked~label.sk-toggleable__label {background-color: #d4ebff;}#sk-container-id-2 input.sk-hidden--visually {border: 0;clip: rect(1px 1px 1px 1px);clip: rect(1px, 1px, 1px, 1px);height: 1px;margin: -1px;overflow: hidden;padding: 0;position: absolute;width: 1px;}#sk-container-id-2 div.sk-estimator {font-family: monospace;background-color: #f0f8ff;border: 1px dotted black;border-radius: 0.25em;box-sizing: border-box;margin-bottom: 0.5em;}#sk-container-id-2 div.sk-estimator:hover {background-color: #d4ebff;}#sk-container-id-2 div.sk-parallel-item::after {content: \"\";width: 100%;border-bottom: 1px solid gray;flex-grow: 1;}#sk-container-id-2 div.sk-label:hover label.sk-toggleable__label {background-color: #d4ebff;}#sk-container-id-2 div.sk-serial::before {content: \"\";position: absolute;border-left: 1px solid gray;box-sizing: border-box;top: 0;bottom: 0;left: 50%;z-index: 0;}#sk-container-id-2 div.sk-serial {display: flex;flex-direction: column;align-items: center;background-color: white;padding-right: 0.2em;padding-left: 0.2em;position: relative;}#sk-container-id-2 div.sk-item {position: relative;z-index: 1;}#sk-container-id-2 div.sk-parallel {display: flex;align-items: stretch;justify-content: center;background-color: white;position: relative;}#sk-container-id-2 div.sk-item::before, #sk-container-id-2 div.sk-parallel-item::before {content: \"\";position: absolute;border-left: 1px solid gray;box-sizing: border-box;top: 0;bottom: 0;left: 50%;z-index: -1;}#sk-container-id-2 div.sk-parallel-item {display: flex;flex-direction: column;z-index: 1;position: relative;background-color: white;}#sk-container-id-2 div.sk-parallel-item:first-child::after {align-self: flex-end;width: 50%;}#sk-container-id-2 div.sk-parallel-item:last-child::after {align-self: flex-start;width: 50%;}#sk-container-id-2 div.sk-parallel-item:only-child::after {width: 0;}#sk-container-id-2 div.sk-dashed-wrapped {border: 1px dashed gray;margin: 0 0.4em 0.5em 0.4em;box-sizing: border-box;padding-bottom: 0.4em;background-color: white;}#sk-container-id-2 div.sk-label label {font-family: monospace;font-weight: bold;display: inline-block;line-height: 1.2em;}#sk-container-id-2 div.sk-label-container {text-align: center;}#sk-container-id-2 div.sk-container {/* jupyter's `normalize.less` sets `[hidden] { display: none; }` but bootstrap.min.css set `[hidden] { display: none !important; }` so we also need the `!important` here to be able to override the default hidden behavior on the sphinx rendered scikit-learn.org. See: https://github.com/scikit-learn/scikit-learn/issues/21755 */display: inline-block !important;position: relative;}#sk-container-id-2 div.sk-text-repr-fallback {display: none;}</style><div id=\"sk-container-id-2\" class=\"sk-top-container\"><div class=\"sk-text-repr-fallback\"><pre>LogisticRegression()</pre><b>In a Jupyter environment, please rerun this cell to show the HTML representation or trust the notebook. <br />On GitHub, the HTML representation is unable to render, please try loading this page with nbviewer.org.</b></div><div class=\"sk-container\" hidden><div class=\"sk-item\"><div class=\"sk-estimator sk-toggleable\"><input class=\"sk-toggleable__control sk-hidden--visually\" id=\"sk-estimator-id-2\" type=\"checkbox\" checked><label for=\"sk-estimator-id-2\" class=\"sk-toggleable__label sk-toggleable__label-arrow\">LogisticRegression</label><div class=\"sk-toggleable__content\"><pre>LogisticRegression()</pre></div></div></div></div></div>"
      ],
      "text/plain": [
       "LogisticRegression()"
      ]
     },
     "execution_count": 107,
     "metadata": {},
     "output_type": "execute_result"
    }
   ],
   "source": [
    "logreg.fit(df_escalado, y_train)"
   ]
  },
  {
   "cell_type": "code",
   "execution_count": 108,
   "id": "4a482060-2dfa-4241-b3d3-e2f53d54b6b1",
   "metadata": {},
   "outputs": [
    {
     "data": {
      "text/plain": [
       "0.7725938009787928"
      ]
     },
     "execution_count": 108,
     "metadata": {},
     "output_type": "execute_result"
    }
   ],
   "source": [
    "logreg.score(df_escalado, y_train)"
   ]
  },
  {
   "cell_type": "code",
   "execution_count": 109,
   "id": "9699d8e8-d2d6-4ff0-8f77-5bde7508f74b",
   "metadata": {},
   "outputs": [
    {
     "data": {
      "text/plain": [
       "0.7726679712981083"
      ]
     },
     "execution_count": 109,
     "metadata": {},
     "output_type": "execute_result"
    }
   ],
   "source": [
    "logreg.score(df_escalado_test, y_test)"
   ]
  },
  {
   "cell_type": "code",
   "execution_count": 116,
   "id": "6bc8b15f-d44b-4122-857e-c791cda561ed",
   "metadata": {},
   "outputs": [
    {
     "data": {
      "text/plain": [
       "array([ 0.62424871, -1.13893138, -0.13428158,  0.35419467, -0.31115744,\n",
       "       -0.32491473, -0.13506474,  0.0030999 ,  0.71503675,  0.19175833,\n",
       "        0.12918612, -0.08425546])"
      ]
     },
     "execution_count": 116,
     "metadata": {},
     "output_type": "execute_result"
    }
   ],
   "source": [
    "logreg.coef_[0]"
   ]
  },
  {
   "cell_type": "code",
   "execution_count": 119,
   "id": "be52fe01-1e97-403b-80a0-1adb6bd3359b",
   "metadata": {},
   "outputs": [
    {
     "data": {
      "text/plain": [
       "array(['city', 'city_development_index', 'gender', 'relevent_experience',\n",
       "       'enrolled_university', 'education_level', 'major_discipline',\n",
       "       'experience', 'company_size', 'company_type', 'last_new_job',\n",
       "       'training_hours'], dtype=object)"
      ]
     },
     "execution_count": 119,
     "metadata": {},
     "output_type": "execute_result"
    }
   ],
   "source": [
    "logreg.feature_names_in_"
   ]
  },
  {
   "cell_type": "code",
   "execution_count": 178,
   "id": "6f37ae48-b6ef-44fc-84c1-1eb1e3f75fa2",
   "metadata": {},
   "outputs": [],
   "source": [
    "selector = feature_selection.RFE(logreg, n_features_to_select=4)"
   ]
  },
  {
   "cell_type": "code",
   "execution_count": 179,
   "id": "b9bcc824-be77-4d13-8015-5dfdac5fec6d",
   "metadata": {},
   "outputs": [
    {
     "data": {
      "text/plain": [
       "array([1, 1, 6, 1, 3, 2, 5, 9, 1, 4, 7, 8])"
      ]
     },
     "execution_count": 179,
     "metadata": {},
     "output_type": "execute_result"
    }
   ],
   "source": [
    "selector.fit(df_escalado,y_train)\n",
    "selector.ranking_"
   ]
  },
  {
   "cell_type": "code",
   "execution_count": 180,
   "id": "2f453303-0269-41c8-8e80-00a4d5829e59",
   "metadata": {},
   "outputs": [
    {
     "data": {
      "text/plain": [
       "array(['city', 'city_development_index', 'relevent_experience',\n",
       "       'company_size'], dtype=object)"
      ]
     },
     "execution_count": 180,
     "metadata": {},
     "output_type": "execute_result"
    }
   ],
   "source": [
    "selector.get_feature_names_out()"
   ]
  },
  {
   "cell_type": "markdown",
   "id": "1bb58b9f-3753-44b3-9c89-f1a0431fc029",
   "metadata": {},
   "source": [
    "# Version reducida"
   ]
  },
  {
   "cell_type": "code",
   "execution_count": 185,
   "id": "70d689c0-3d58-4cc9-944a-d0b942b4ea49",
   "metadata": {},
   "outputs": [
    {
     "data": {
      "text/html": [
       "<style>#sk-container-id-4 {color: black;background-color: white;}#sk-container-id-4 pre{padding: 0;}#sk-container-id-4 div.sk-toggleable {background-color: white;}#sk-container-id-4 label.sk-toggleable__label {cursor: pointer;display: block;width: 100%;margin-bottom: 0;padding: 0.3em;box-sizing: border-box;text-align: center;}#sk-container-id-4 label.sk-toggleable__label-arrow:before {content: \"▸\";float: left;margin-right: 0.25em;color: #696969;}#sk-container-id-4 label.sk-toggleable__label-arrow:hover:before {color: black;}#sk-container-id-4 div.sk-estimator:hover label.sk-toggleable__label-arrow:before {color: black;}#sk-container-id-4 div.sk-toggleable__content {max-height: 0;max-width: 0;overflow: hidden;text-align: left;background-color: #f0f8ff;}#sk-container-id-4 div.sk-toggleable__content pre {margin: 0.2em;color: black;border-radius: 0.25em;background-color: #f0f8ff;}#sk-container-id-4 input.sk-toggleable__control:checked~div.sk-toggleable__content {max-height: 200px;max-width: 100%;overflow: auto;}#sk-container-id-4 input.sk-toggleable__control:checked~label.sk-toggleable__label-arrow:before {content: \"▾\";}#sk-container-id-4 div.sk-estimator input.sk-toggleable__control:checked~label.sk-toggleable__label {background-color: #d4ebff;}#sk-container-id-4 div.sk-label input.sk-toggleable__control:checked~label.sk-toggleable__label {background-color: #d4ebff;}#sk-container-id-4 input.sk-hidden--visually {border: 0;clip: rect(1px 1px 1px 1px);clip: rect(1px, 1px, 1px, 1px);height: 1px;margin: -1px;overflow: hidden;padding: 0;position: absolute;width: 1px;}#sk-container-id-4 div.sk-estimator {font-family: monospace;background-color: #f0f8ff;border: 1px dotted black;border-radius: 0.25em;box-sizing: border-box;margin-bottom: 0.5em;}#sk-container-id-4 div.sk-estimator:hover {background-color: #d4ebff;}#sk-container-id-4 div.sk-parallel-item::after {content: \"\";width: 100%;border-bottom: 1px solid gray;flex-grow: 1;}#sk-container-id-4 div.sk-label:hover label.sk-toggleable__label {background-color: #d4ebff;}#sk-container-id-4 div.sk-serial::before {content: \"\";position: absolute;border-left: 1px solid gray;box-sizing: border-box;top: 0;bottom: 0;left: 50%;z-index: 0;}#sk-container-id-4 div.sk-serial {display: flex;flex-direction: column;align-items: center;background-color: white;padding-right: 0.2em;padding-left: 0.2em;position: relative;}#sk-container-id-4 div.sk-item {position: relative;z-index: 1;}#sk-container-id-4 div.sk-parallel {display: flex;align-items: stretch;justify-content: center;background-color: white;position: relative;}#sk-container-id-4 div.sk-item::before, #sk-container-id-4 div.sk-parallel-item::before {content: \"\";position: absolute;border-left: 1px solid gray;box-sizing: border-box;top: 0;bottom: 0;left: 50%;z-index: -1;}#sk-container-id-4 div.sk-parallel-item {display: flex;flex-direction: column;z-index: 1;position: relative;background-color: white;}#sk-container-id-4 div.sk-parallel-item:first-child::after {align-self: flex-end;width: 50%;}#sk-container-id-4 div.sk-parallel-item:last-child::after {align-self: flex-start;width: 50%;}#sk-container-id-4 div.sk-parallel-item:only-child::after {width: 0;}#sk-container-id-4 div.sk-dashed-wrapped {border: 1px dashed gray;margin: 0 0.4em 0.5em 0.4em;box-sizing: border-box;padding-bottom: 0.4em;background-color: white;}#sk-container-id-4 div.sk-label label {font-family: monospace;font-weight: bold;display: inline-block;line-height: 1.2em;}#sk-container-id-4 div.sk-label-container {text-align: center;}#sk-container-id-4 div.sk-container {/* jupyter's `normalize.less` sets `[hidden] { display: none; }` but bootstrap.min.css set `[hidden] { display: none !important; }` so we also need the `!important` here to be able to override the default hidden behavior on the sphinx rendered scikit-learn.org. See: https://github.com/scikit-learn/scikit-learn/issues/21755 */display: inline-block !important;position: relative;}#sk-container-id-4 div.sk-text-repr-fallback {display: none;}</style><div id=\"sk-container-id-4\" class=\"sk-top-container\"><div class=\"sk-text-repr-fallback\"><pre>LogisticRegression()</pre><b>In a Jupyter environment, please rerun this cell to show the HTML representation or trust the notebook. <br />On GitHub, the HTML representation is unable to render, please try loading this page with nbviewer.org.</b></div><div class=\"sk-container\" hidden><div class=\"sk-item\"><div class=\"sk-estimator sk-toggleable\"><input class=\"sk-toggleable__control sk-hidden--visually\" id=\"sk-estimator-id-4\" type=\"checkbox\" checked><label for=\"sk-estimator-id-4\" class=\"sk-toggleable__label sk-toggleable__label-arrow\">LogisticRegression</label><div class=\"sk-toggleable__content\"><pre>LogisticRegression()</pre></div></div></div></div></div>"
      ],
      "text/plain": [
       "LogisticRegression()"
      ]
     },
     "execution_count": 185,
     "metadata": {},
     "output_type": "execute_result"
    }
   ],
   "source": [
    "logreg.fit(df_escalado_red, y_train)"
   ]
  },
  {
   "cell_type": "code",
   "execution_count": 186,
   "id": "4dcea945-2f18-400e-8039-6284bd277a13",
   "metadata": {},
   "outputs": [
    {
     "data": {
      "text/plain": [
       "0.7702283849918434"
      ]
     },
     "execution_count": 186,
     "metadata": {},
     "output_type": "execute_result"
    }
   ],
   "source": [
    "logreg.score(df_escalado_red, y_train) "
   ]
  },
  {
   "cell_type": "code",
   "execution_count": 187,
   "id": "a468aa4a-5cb9-44c0-af7a-b160f84c61c5",
   "metadata": {},
   "outputs": [
    {
     "data": {
      "text/plain": [
       "0.769406392694064"
      ]
     },
     "execution_count": 187,
     "metadata": {},
     "output_type": "execute_result"
    }
   ],
   "source": [
    "logreg.score(df_escalado_red_test, y_test) "
   ]
  },
  {
   "cell_type": "markdown",
   "id": "7f8042f3-e48d-44e0-a5e6-4c21ba7bc66f",
   "metadata": {},
   "source": [
    "# Z_test"
   ]
  },
  {
   "cell_type": "code",
   "execution_count": 121,
   "id": "f3f8dffe-7ecf-41fe-8677-c5ef154b6b85",
   "metadata": {},
   "outputs": [],
   "source": [
    "z_test = pd.read_csv('z_test.csv')"
   ]
  },
  {
   "cell_type": "code",
   "execution_count": 129,
   "id": "26def24b-e933-40af-8252-804c70d4fba8",
   "metadata": {},
   "outputs": [],
   "source": [
    "identificación = z_test[['enrollee_id']]"
   ]
  },
  {
   "cell_type": "code",
   "execution_count": 130,
   "id": "2641bc9f-e4de-4c31-9976-07dbc6f80deb",
   "metadata": {},
   "outputs": [],
   "source": [
    "z_test.drop(columns= 'enrollee_id', inplace=True)"
   ]
  },
  {
   "cell_type": "code",
   "execution_count": 131,
   "id": "aa16f8e2-1079-4723-9f99-d0905c665fa9",
   "metadata": {},
   "outputs": [],
   "source": [
    "z_sin_nulos=categorico_nulos.fit_transform(z_test)"
   ]
  },
  {
   "cell_type": "code",
   "execution_count": 132,
   "id": "f9031930-4c8f-46aa-b651-7b8c78ec6e8b",
   "metadata": {},
   "outputs": [],
   "source": [
    "z_sin_nulos[ordinales] = ordinal.fit_transform(z_sin_nulos[ordinales])"
   ]
  },
  {
   "cell_type": "code",
   "execution_count": 133,
   "id": "4c4f8939-e26c-4671-ac0a-c0911abbad24",
   "metadata": {},
   "outputs": [],
   "source": [
    "z_transformado = categoricas.fit_transform(z_sin_nulos)"
   ]
  },
  {
   "cell_type": "code",
   "execution_count": 134,
   "id": "e4281868-81a3-4835-bb7f-5e370d6e2fbe",
   "metadata": {},
   "outputs": [],
   "source": [
    "z_escalado = pd.DataFrame(Robusto.fit_transform(z_transformado), columns = z_transformado.columns)"
   ]
  },
  {
   "cell_type": "code",
   "execution_count": 148,
   "id": "1776f98b-06b0-4536-bf4b-bed73cbfd919",
   "metadata": {},
   "outputs": [],
   "source": [
    "z_pred = pd.DataFrame(logreg.predict_proba(z_escalado))"
   ]
  },
  {
   "cell_type": "code",
   "execution_count": 149,
   "id": "89c2a3d8-8964-4218-b99d-71eaf47bab49",
   "metadata": {
    "tags": []
   },
   "outputs": [
    {
     "data": {
      "text/html": [
       "<div>\n",
       "<style scoped>\n",
       "    .dataframe tbody tr th:only-of-type {\n",
       "        vertical-align: middle;\n",
       "    }\n",
       "\n",
       "    .dataframe tbody tr th {\n",
       "        vertical-align: top;\n",
       "    }\n",
       "\n",
       "    .dataframe thead th {\n",
       "        text-align: right;\n",
       "    }\n",
       "</style>\n",
       "<table border=\"1\" class=\"dataframe\">\n",
       "  <thead>\n",
       "    <tr style=\"text-align: right;\">\n",
       "      <th></th>\n",
       "      <th>enrollee_id</th>\n",
       "      <th>0</th>\n",
       "    </tr>\n",
       "  </thead>\n",
       "  <tbody>\n",
       "    <tr>\n",
       "      <th>0</th>\n",
       "      <td>23603</td>\n",
       "      <td>0.753919</td>\n",
       "    </tr>\n",
       "    <tr>\n",
       "      <th>1</th>\n",
       "      <td>22499</td>\n",
       "      <td>0.833927</td>\n",
       "    </tr>\n",
       "    <tr>\n",
       "      <th>2</th>\n",
       "      <td>10465</td>\n",
       "      <td>0.624032</td>\n",
       "    </tr>\n",
       "    <tr>\n",
       "      <th>3</th>\n",
       "      <td>8293</td>\n",
       "      <td>0.930350</td>\n",
       "    </tr>\n",
       "    <tr>\n",
       "      <th>4</th>\n",
       "      <td>4246</td>\n",
       "      <td>0.757224</td>\n",
       "    </tr>\n",
       "    <tr>\n",
       "      <th>...</th>\n",
       "      <td>...</td>\n",
       "      <td>...</td>\n",
       "    </tr>\n",
       "    <tr>\n",
       "      <th>3827</th>\n",
       "      <td>8880</td>\n",
       "      <td>0.678375</td>\n",
       "    </tr>\n",
       "    <tr>\n",
       "      <th>3828</th>\n",
       "      <td>7886</td>\n",
       "      <td>0.859346</td>\n",
       "    </tr>\n",
       "    <tr>\n",
       "      <th>3829</th>\n",
       "      <td>12279</td>\n",
       "      <td>0.897962</td>\n",
       "    </tr>\n",
       "    <tr>\n",
       "      <th>3830</th>\n",
       "      <td>5326</td>\n",
       "      <td>0.891656</td>\n",
       "    </tr>\n",
       "    <tr>\n",
       "      <th>3831</th>\n",
       "      <td>4017</td>\n",
       "      <td>0.855717</td>\n",
       "    </tr>\n",
       "  </tbody>\n",
       "</table>\n",
       "<p>3832 rows × 2 columns</p>\n",
       "</div>"
      ],
      "text/plain": [
       "      enrollee_id         0\n",
       "0           23603  0.753919\n",
       "1           22499  0.833927\n",
       "2           10465  0.624032\n",
       "3            8293  0.930350\n",
       "4            4246  0.757224\n",
       "...           ...       ...\n",
       "3827         8880  0.678375\n",
       "3828         7886  0.859346\n",
       "3829        12279  0.897962\n",
       "3830         5326  0.891656\n",
       "3831         4017  0.855717\n",
       "\n",
       "[3832 rows x 2 columns]"
      ]
     },
     "execution_count": 149,
     "metadata": {},
     "output_type": "execute_result"
    }
   ],
   "source": [
    "submission4=pd.concat((identificación,z_pred[0]), axis=1)\n",
    "submission4"
   ]
  },
  {
   "cell_type": "code",
   "execution_count": 141,
   "id": "880b2ddc-15fc-46e3-94be-5ce05bbe6be9",
   "metadata": {},
   "outputs": [],
   "source": [
    "submission4.rename(columns = {0:'target'}, inplace=True)"
   ]
  },
  {
   "cell_type": "code",
   "execution_count": 142,
   "id": "9589a7d0-6f8e-4799-865d-b34eb0e60d12",
   "metadata": {},
   "outputs": [],
   "source": [
    "submission4.to_csv('submission_4.csv',index=False)"
   ]
  },
  {
   "cell_type": "code",
   "execution_count": 143,
   "id": "0da81985-1238-44ee-beb6-752bb85f9208",
   "metadata": {},
   "outputs": [],
   "source": [
    "submission5=pd.concat((identificación,z_pred[1]), axis=1)"
   ]
  },
  {
   "cell_type": "code",
   "execution_count": 144,
   "id": "484f37f9-b7e5-497e-b318-c287942cf46e",
   "metadata": {},
   "outputs": [],
   "source": [
    "submission5.rename(columns = {1:'target'}, inplace=True)"
   ]
  },
  {
   "cell_type": "code",
   "execution_count": 177,
   "id": "5ffe5f18-6711-479f-9a88-cf6579245c3d",
   "metadata": {},
   "outputs": [
    {
     "data": {
      "text/html": [
       "<div>\n",
       "<style scoped>\n",
       "    .dataframe tbody tr th:only-of-type {\n",
       "        vertical-align: middle;\n",
       "    }\n",
       "\n",
       "    .dataframe tbody tr th {\n",
       "        vertical-align: top;\n",
       "    }\n",
       "\n",
       "    .dataframe thead th {\n",
       "        text-align: right;\n",
       "    }\n",
       "</style>\n",
       "<table border=\"1\" class=\"dataframe\">\n",
       "  <thead>\n",
       "    <tr style=\"text-align: right;\">\n",
       "      <th></th>\n",
       "      <th>enrollee_id</th>\n",
       "      <th>target</th>\n",
       "    </tr>\n",
       "  </thead>\n",
       "  <tbody>\n",
       "    <tr>\n",
       "      <th>0</th>\n",
       "      <td>23603</td>\n",
       "      <td>0.246081</td>\n",
       "    </tr>\n",
       "    <tr>\n",
       "      <th>1</th>\n",
       "      <td>22499</td>\n",
       "      <td>0.166073</td>\n",
       "    </tr>\n",
       "    <tr>\n",
       "      <th>2</th>\n",
       "      <td>10465</td>\n",
       "      <td>0.375968</td>\n",
       "    </tr>\n",
       "    <tr>\n",
       "      <th>3</th>\n",
       "      <td>8293</td>\n",
       "      <td>0.069650</td>\n",
       "    </tr>\n",
       "    <tr>\n",
       "      <th>4</th>\n",
       "      <td>4246</td>\n",
       "      <td>0.242776</td>\n",
       "    </tr>\n",
       "    <tr>\n",
       "      <th>...</th>\n",
       "      <td>...</td>\n",
       "      <td>...</td>\n",
       "    </tr>\n",
       "    <tr>\n",
       "      <th>3827</th>\n",
       "      <td>8880</td>\n",
       "      <td>0.321625</td>\n",
       "    </tr>\n",
       "    <tr>\n",
       "      <th>3828</th>\n",
       "      <td>7886</td>\n",
       "      <td>0.140654</td>\n",
       "    </tr>\n",
       "    <tr>\n",
       "      <th>3829</th>\n",
       "      <td>12279</td>\n",
       "      <td>0.102038</td>\n",
       "    </tr>\n",
       "    <tr>\n",
       "      <th>3830</th>\n",
       "      <td>5326</td>\n",
       "      <td>0.108344</td>\n",
       "    </tr>\n",
       "    <tr>\n",
       "      <th>3831</th>\n",
       "      <td>4017</td>\n",
       "      <td>0.144283</td>\n",
       "    </tr>\n",
       "  </tbody>\n",
       "</table>\n",
       "<p>3832 rows × 2 columns</p>\n",
       "</div>"
      ],
      "text/plain": [
       "      enrollee_id    target\n",
       "0           23603  0.246081\n",
       "1           22499  0.166073\n",
       "2           10465  0.375968\n",
       "3            8293  0.069650\n",
       "4            4246  0.242776\n",
       "...           ...       ...\n",
       "3827         8880  0.321625\n",
       "3828         7886  0.140654\n",
       "3829        12279  0.102038\n",
       "3830         5326  0.108344\n",
       "3831         4017  0.144283\n",
       "\n",
       "[3832 rows x 2 columns]"
      ]
     },
     "execution_count": 177,
     "metadata": {},
     "output_type": "execute_result"
    }
   ],
   "source": [
    "submission5.to_csv('submission_5_correcto.csv',index=False)\n",
    "submission5"
   ]
  },
  {
   "cell_type": "code",
   "execution_count": 146,
   "id": "5568da94-715b-4db8-a740-b7fcf75aedac",
   "metadata": {},
   "outputs": [],
   "source": [
    "z_pred = pd.DataFrame(logreg.predict(z_escalado))"
   ]
  },
  {
   "cell_type": "markdown",
   "id": "b3f4c591-f5b4-4e1e-a5a2-cd30a3d97089",
   "metadata": {},
   "source": [
    "## Reduccion"
   ]
  },
  {
   "cell_type": "code",
   "execution_count": 188,
   "id": "3417ccac-7655-4782-9447-40ebcee61033",
   "metadata": {},
   "outputs": [],
   "source": [
    "z_transformado=z_transformado[['city', 'city_development_index', 'relevent_experience',\n",
    "       'company_size']]"
   ]
  },
  {
   "cell_type": "code",
   "execution_count": 189,
   "id": "6b9217c0-666c-4b15-971c-815aed970b93",
   "metadata": {},
   "outputs": [],
   "source": [
    "z_escalado = pd.DataFrame(Robusto.fit_transform(z_transformado), columns = z_transformado.columns)"
   ]
  },
  {
   "cell_type": "code",
   "execution_count": 190,
   "id": "34855b04-e698-4530-99be-87325cd99e55",
   "metadata": {},
   "outputs": [],
   "source": [
    "z_pred_2 = pd.DataFrame(logreg.predict_proba(z_escalado))"
   ]
  },
  {
   "cell_type": "code",
   "execution_count": 191,
   "id": "da919f5a-cdd5-4a68-b58e-33c1870c13ad",
   "metadata": {
    "collapsed": true,
    "jupyter": {
     "outputs_hidden": true
    },
    "tags": []
   },
   "outputs": [
    {
     "data": {
      "text/html": [
       "<div>\n",
       "<style scoped>\n",
       "    .dataframe tbody tr th:only-of-type {\n",
       "        vertical-align: middle;\n",
       "    }\n",
       "\n",
       "    .dataframe tbody tr th {\n",
       "        vertical-align: top;\n",
       "    }\n",
       "\n",
       "    .dataframe thead th {\n",
       "        text-align: right;\n",
       "    }\n",
       "</style>\n",
       "<table border=\"1\" class=\"dataframe\">\n",
       "  <thead>\n",
       "    <tr style=\"text-align: right;\">\n",
       "      <th></th>\n",
       "      <th>enrollee_id</th>\n",
       "      <th>1</th>\n",
       "    </tr>\n",
       "  </thead>\n",
       "  <tbody>\n",
       "    <tr>\n",
       "      <th>0</th>\n",
       "      <td>23603</td>\n",
       "      <td>0.246081</td>\n",
       "    </tr>\n",
       "    <tr>\n",
       "      <th>1</th>\n",
       "      <td>22499</td>\n",
       "      <td>0.166073</td>\n",
       "    </tr>\n",
       "    <tr>\n",
       "      <th>2</th>\n",
       "      <td>10465</td>\n",
       "      <td>0.375968</td>\n",
       "    </tr>\n",
       "    <tr>\n",
       "      <th>3</th>\n",
       "      <td>8293</td>\n",
       "      <td>0.069650</td>\n",
       "    </tr>\n",
       "    <tr>\n",
       "      <th>4</th>\n",
       "      <td>4246</td>\n",
       "      <td>0.242776</td>\n",
       "    </tr>\n",
       "    <tr>\n",
       "      <th>...</th>\n",
       "      <td>...</td>\n",
       "      <td>...</td>\n",
       "    </tr>\n",
       "    <tr>\n",
       "      <th>3827</th>\n",
       "      <td>8880</td>\n",
       "      <td>0.321625</td>\n",
       "    </tr>\n",
       "    <tr>\n",
       "      <th>3828</th>\n",
       "      <td>7886</td>\n",
       "      <td>0.140654</td>\n",
       "    </tr>\n",
       "    <tr>\n",
       "      <th>3829</th>\n",
       "      <td>12279</td>\n",
       "      <td>0.102038</td>\n",
       "    </tr>\n",
       "    <tr>\n",
       "      <th>3830</th>\n",
       "      <td>5326</td>\n",
       "      <td>0.108344</td>\n",
       "    </tr>\n",
       "    <tr>\n",
       "      <th>3831</th>\n",
       "      <td>4017</td>\n",
       "      <td>0.144283</td>\n",
       "    </tr>\n",
       "  </tbody>\n",
       "</table>\n",
       "<p>3832 rows × 2 columns</p>\n",
       "</div>"
      ],
      "text/plain": [
       "      enrollee_id         1\n",
       "0           23603  0.246081\n",
       "1           22499  0.166073\n",
       "2           10465  0.375968\n",
       "3            8293  0.069650\n",
       "4            4246  0.242776\n",
       "...           ...       ...\n",
       "3827         8880  0.321625\n",
       "3828         7886  0.140654\n",
       "3829        12279  0.102038\n",
       "3830         5326  0.108344\n",
       "3831         4017  0.144283\n",
       "\n",
       "[3832 rows x 2 columns]"
      ]
     },
     "execution_count": 191,
     "metadata": {},
     "output_type": "execute_result"
    }
   ],
   "source": [
    "submission6=pd.concat((identificación,z_pred[1]), axis=1)\n",
    "submission6"
   ]
  },
  {
   "cell_type": "code",
   "execution_count": 192,
   "id": "fc3faf8c-537c-4ae0-9408-5484bd83aa1b",
   "metadata": {},
   "outputs": [],
   "source": [
    "submission6.rename(columns = {1:'target'}, inplace=True)"
   ]
  },
  {
   "cell_type": "code",
   "execution_count": 193,
   "id": "0b6bba04-5ce3-40b8-9483-347fec357968",
   "metadata": {},
   "outputs": [],
   "source": [
    "submission6.to_csv('submission_6.csv',index=False)"
   ]
  },
  {
   "cell_type": "code",
   "execution_count": null,
   "id": "06ddf91a-b00b-4dd9-8d98-4dfec6db5385",
   "metadata": {},
   "outputs": [],
   "source": []
  }
 ],
 "metadata": {
  "kernelspec": {
   "display_name": "Python 3 (ipykernel)",
   "language": "python",
   "name": "python3"
  },
  "language_info": {
   "codemirror_mode": {
    "name": "ipython",
    "version": 3
   },
   "file_extension": ".py",
   "mimetype": "text/x-python",
   "name": "python",
   "nbconvert_exporter": "python",
   "pygments_lexer": "ipython3",
   "version": "3.9.7"
  }
 },
 "nbformat": 4,
 "nbformat_minor": 5
}
