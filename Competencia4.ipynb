{
 "cells": [
  {
   "cell_type": "code",
   "execution_count": 3,
   "id": "02429a5a-ca88-4877-89e4-2900eb3bffc9",
   "metadata": {},
   "outputs": [],
   "source": [
    "import pandas as pd\n",
    "import numpy as np\n",
    "from feature_engine import imputation as mdi\n",
    "from feature_engine.encoding import CountFrequencyEncoder\n",
    "from sklearn import preprocessing\n",
    "from sklearn.model_selection import train_test_split\n",
    "from sklearn.ensemble import RandomForestClassifier\n",
    "from imblearn.under_sampling import RandomUnderSampler"
   ]
  },
  {
   "cell_type": "code",
   "execution_count": 48,
   "id": "f71b1075-ccdc-4b33-b14f-aed96c862d31",
   "metadata": {},
   "outputs": [],
   "source": [
    "df = pd.read_csv('z_train.csv')"
   ]
  },
  {
   "cell_type": "code",
   "execution_count": 49,
   "id": "c80065bf-7973-48a4-a59c-77c96429aa35",
   "metadata": {},
   "outputs": [],
   "source": [
    "df.drop(columns= ['enrollee_id'], inplace=True)"
   ]
  },
  {
   "cell_type": "code",
   "execution_count": 50,
   "id": "972cf8cc-6fe2-4f9b-893f-9e9955d58a2c",
   "metadata": {},
   "outputs": [
    {
     "data": {
      "text/plain": [
       "city                         0\n",
       "city_development_index       0\n",
       "gender                    3601\n",
       "relevent_experience          0\n",
       "enrolled_university        302\n",
       "education_level            369\n",
       "major_discipline          2237\n",
       "experience                  50\n",
       "company_size              4734\n",
       "company_type              4891\n",
       "last_new_job               339\n",
       "training_hours               0\n",
       "target                       0\n",
       "dtype: int64"
      ]
     },
     "execution_count": 50,
     "metadata": {},
     "output_type": "execute_result"
    }
   ],
   "source": [
    "df.isnull().sum()"
   ]
  },
  {
   "cell_type": "code",
   "execution_count": 87,
   "id": "873d3a7e-2adb-4c0a-98ee-33a820c53b1e",
   "metadata": {},
   "outputs": [],
   "source": [
    "X_train, X_test, y_train, y_test = train_test_split(df.drop(columns='target'), df.target, train_size=0.8)"
   ]
  },
  {
   "cell_type": "code",
   "execution_count": 88,
   "id": "cff54f69-a63f-4973-a00a-00f7ae76b2a4",
   "metadata": {},
   "outputs": [],
   "source": [
    "undersampler = RandomUnderSampler()\n",
    "X_train_under, y_train_under = undersampler.fit_resample(X_train, y_train)"
   ]
  },
  {
   "cell_type": "markdown",
   "id": "0eb45c1f-9bdb-4db6-ac65-4bdda2b70189",
   "metadata": {},
   "source": [
    "# Nulos"
   ]
  },
  {
   "cell_type": "code",
   "execution_count": 89,
   "id": "a91c27a9-6e32-40d3-a37e-79606cba9e7e",
   "metadata": {},
   "outputs": [],
   "source": [
    "X_train_under['last_new_job']=X_train_under.last_new_job.str.replace('never', '0').str.replace('>4', '5')\n",
    "X_train_under['last_new_job']=pd.to_numeric(X_train_under['last_new_job'])\n",
    "X_train_under['experience']=pd.to_numeric(X_train_under.experience.str.replace('>20', '21').str.replace('<1','0'))"
   ]
  },
  {
   "cell_type": "code",
   "execution_count": 90,
   "id": "7dab0a40-3e91-4c7f-91ed-40e0d9eab785",
   "metadata": {},
   "outputs": [],
   "source": [
    "categorico_nulos=mdi.CategoricalImputer('frequent', variables = ['gender','enrolled_university', 'education_level', 'major_discipline', 'company_size', 'company_type'])\n",
    "X_train_under = categorico_nulos.fit_transform(X_train_under)"
   ]
  },
  {
   "cell_type": "code",
   "execution_count": 91,
   "id": "70d5e05d-38df-42d1-825b-81ba3166ec3a",
   "metadata": {},
   "outputs": [],
   "source": [
    "num_nulos=mdi.MeanMedianImputer('median', variables = ['city_development_index', 'experience', 'last_new_job', 'training_hours'])\n",
    "X_train_under = num_nulos.fit_transform(X_train_under)"
   ]
  },
  {
   "cell_type": "code",
   "execution_count": 92,
   "id": "fd0fa490-8a57-44df-a10d-711038fd86c3",
   "metadata": {},
   "outputs": [
    {
     "data": {
      "text/plain": [
       "city                      0\n",
       "city_development_index    0\n",
       "gender                    0\n",
       "relevent_experience       0\n",
       "enrolled_university       0\n",
       "education_level           0\n",
       "major_discipline          0\n",
       "experience                0\n",
       "company_size              0\n",
       "company_type              0\n",
       "last_new_job              0\n",
       "training_hours            0\n",
       "dtype: int64"
      ]
     },
     "execution_count": 92,
     "metadata": {},
     "output_type": "execute_result"
    }
   ],
   "source": [
    "X_train_under.isnull().sum()"
   ]
  },
  {
   "cell_type": "markdown",
   "id": "91301d9d-e9f7-43c2-bb41-07b5eb5b4c56",
   "metadata": {},
   "source": [
    "# Categoricas a numericas"
   ]
  },
  {
   "cell_type": "code",
   "execution_count": 93,
   "id": "49a9b93c-48e1-488c-a290-8c7f009e8a9c",
   "metadata": {},
   "outputs": [
    {
     "data": {
      "text/plain": [
       "array(['Male', 'Other', 'Female'], dtype=object)"
      ]
     },
     "execution_count": 93,
     "metadata": {},
     "output_type": "execute_result"
    }
   ],
   "source": [
    "X_train_under.gender.unique()"
   ]
  },
  {
   "cell_type": "code",
   "execution_count": 94,
   "id": "ac536a75-41cc-4b7e-b912-d8e6b4424411",
   "metadata": {},
   "outputs": [
    {
     "data": {
      "text/plain": [
       "city                      115\n",
       "city_development_index     88\n",
       "gender                      3\n",
       "relevent_experience         2\n",
       "enrolled_university         3\n",
       "education_level             5\n",
       "major_discipline            6\n",
       "experience                 22\n",
       "company_size                8\n",
       "company_type                6\n",
       "last_new_job                6\n",
       "training_hours            240\n",
       "dtype: int64"
      ]
     },
     "execution_count": 94,
     "metadata": {},
     "output_type": "execute_result"
    }
   ],
   "source": [
    "X_train_under.nunique()"
   ]
  },
  {
   "cell_type": "code",
   "execution_count": 95,
   "id": "05d0fb99-7df4-4150-ae67-20cbf10972ee",
   "metadata": {},
   "outputs": [],
   "source": [
    "relevent_experience = preprocessing.OrdinalEncoder(categories = [['No relevent experience', 'Has relevent experience']], handle_unknown='use_encoded_value', unknown_value = -1)\n",
    "X_train_under['relevent_experience']=relevent_experience.fit_transform(X_train_under[['relevent_experience']])"
   ]
  },
  {
   "cell_type": "code",
   "execution_count": 96,
   "id": "add7f1f5-dccd-4ef5-9262-9d63f880d2cd",
   "metadata": {},
   "outputs": [],
   "source": [
    "education_level = preprocessing.OrdinalEncoder(categories = [['Primary School','High School', 'Graduate', 'Masters', 'Phd']])\n",
    "X_train_under['education_level']=education_level.fit_transform(X_train_under[['education_level']])"
   ]
  },
  {
   "cell_type": "code",
   "execution_count": 97,
   "id": "a8a39a9b-41fe-420f-8812-aa8feb77ce15",
   "metadata": {},
   "outputs": [
    {
     "name": "stdout",
     "output_type": "stream",
     "text": [
      "<class 'pandas.core.frame.DataFrame'>\n",
      "RangeIndex: 6118 entries, 0 to 6117\n",
      "Data columns (total 2 columns):\n",
      " #   Column        Non-Null Count  Dtype  \n",
      "---  ------        --------------  -----  \n",
      " 0   experience    6118 non-null   float64\n",
      " 1   last_new_job  6118 non-null   float64\n",
      "dtypes: float64(2)\n",
      "memory usage: 95.7 KB\n"
     ]
    }
   ],
   "source": [
    "X_train_under[['experience', 'last_new_job']].info()"
   ]
  },
  {
   "cell_type": "code",
   "execution_count": 98,
   "id": "1fb76d0a-f5c6-4ae3-a6b8-f5d841744b20",
   "metadata": {},
   "outputs": [],
   "source": [
    "categoricas= CountFrequencyEncoder(encoding_method = 'frequency',variables = ['city', 'gender', 'enrolled_university', 'major_discipline','company_size', 'company_type'] )\n",
    "X_train_under = categoricas.fit_transform(X_train_under)"
   ]
  },
  {
   "cell_type": "code",
   "execution_count": 99,
   "id": "2603d22b-15f5-4c89-abaf-d57096be0e00",
   "metadata": {},
   "outputs": [
    {
     "data": {
      "text/html": [
       "<div>\n",
       "<style scoped>\n",
       "    .dataframe tbody tr th:only-of-type {\n",
       "        vertical-align: middle;\n",
       "    }\n",
       "\n",
       "    .dataframe tbody tr th {\n",
       "        vertical-align: top;\n",
       "    }\n",
       "\n",
       "    .dataframe thead th {\n",
       "        text-align: right;\n",
       "    }\n",
       "</style>\n",
       "<table border=\"1\" class=\"dataframe\">\n",
       "  <thead>\n",
       "    <tr style=\"text-align: right;\">\n",
       "      <th></th>\n",
       "      <th>city</th>\n",
       "      <th>city_development_index</th>\n",
       "      <th>gender</th>\n",
       "      <th>relevent_experience</th>\n",
       "      <th>enrolled_university</th>\n",
       "      <th>education_level</th>\n",
       "      <th>major_discipline</th>\n",
       "      <th>experience</th>\n",
       "      <th>company_size</th>\n",
       "      <th>company_type</th>\n",
       "      <th>last_new_job</th>\n",
       "      <th>training_hours</th>\n",
       "    </tr>\n",
       "  </thead>\n",
       "  <tbody>\n",
       "    <tr>\n",
       "      <th>0</th>\n",
       "      <td>0.066852</td>\n",
       "      <td>0.910</td>\n",
       "      <td>0.924649</td>\n",
       "      <td>1.0</td>\n",
       "      <td>0.704152</td>\n",
       "      <td>2.0</td>\n",
       "      <td>0.907976</td>\n",
       "      <td>16.0</td>\n",
       "      <td>0.519451</td>\n",
       "      <td>0.841615</td>\n",
       "      <td>0.0</td>\n",
       "      <td>13</td>\n",
       "    </tr>\n",
       "    <tr>\n",
       "      <th>1</th>\n",
       "      <td>0.005884</td>\n",
       "      <td>0.896</td>\n",
       "      <td>0.924649</td>\n",
       "      <td>1.0</td>\n",
       "      <td>0.704152</td>\n",
       "      <td>2.0</td>\n",
       "      <td>0.907976</td>\n",
       "      <td>7.0</td>\n",
       "      <td>0.061131</td>\n",
       "      <td>0.046420</td>\n",
       "      <td>2.0</td>\n",
       "      <td>30</td>\n",
       "    </tr>\n",
       "    <tr>\n",
       "      <th>2</th>\n",
       "      <td>0.066852</td>\n",
       "      <td>0.910</td>\n",
       "      <td>0.924649</td>\n",
       "      <td>1.0</td>\n",
       "      <td>0.704152</td>\n",
       "      <td>1.0</td>\n",
       "      <td>0.907976</td>\n",
       "      <td>15.0</td>\n",
       "      <td>0.078294</td>\n",
       "      <td>0.841615</td>\n",
       "      <td>1.0</td>\n",
       "      <td>6</td>\n",
       "    </tr>\n",
       "    <tr>\n",
       "      <th>3</th>\n",
       "      <td>0.211834</td>\n",
       "      <td>0.624</td>\n",
       "      <td>0.924649</td>\n",
       "      <td>1.0</td>\n",
       "      <td>0.231448</td>\n",
       "      <td>2.0</td>\n",
       "      <td>0.907976</td>\n",
       "      <td>16.0</td>\n",
       "      <td>0.119974</td>\n",
       "      <td>0.841615</td>\n",
       "      <td>1.0</td>\n",
       "      <td>105</td>\n",
       "    </tr>\n",
       "    <tr>\n",
       "      <th>4</th>\n",
       "      <td>0.066852</td>\n",
       "      <td>0.910</td>\n",
       "      <td>0.924649</td>\n",
       "      <td>1.0</td>\n",
       "      <td>0.704152</td>\n",
       "      <td>2.0</td>\n",
       "      <td>0.907976</td>\n",
       "      <td>11.0</td>\n",
       "      <td>0.519451</td>\n",
       "      <td>0.841615</td>\n",
       "      <td>5.0</td>\n",
       "      <td>17</td>\n",
       "    </tr>\n",
       "  </tbody>\n",
       "</table>\n",
       "</div>"
      ],
      "text/plain": [
       "       city  city_development_index    gender  relevent_experience  \\\n",
       "0  0.066852                   0.910  0.924649                  1.0   \n",
       "1  0.005884                   0.896  0.924649                  1.0   \n",
       "2  0.066852                   0.910  0.924649                  1.0   \n",
       "3  0.211834                   0.624  0.924649                  1.0   \n",
       "4  0.066852                   0.910  0.924649                  1.0   \n",
       "\n",
       "   enrolled_university  education_level  major_discipline  experience  \\\n",
       "0             0.704152              2.0          0.907976        16.0   \n",
       "1             0.704152              2.0          0.907976         7.0   \n",
       "2             0.704152              1.0          0.907976        15.0   \n",
       "3             0.231448              2.0          0.907976        16.0   \n",
       "4             0.704152              2.0          0.907976        11.0   \n",
       "\n",
       "   company_size  company_type  last_new_job  training_hours  \n",
       "0      0.519451      0.841615           0.0              13  \n",
       "1      0.061131      0.046420           2.0              30  \n",
       "2      0.078294      0.841615           1.0               6  \n",
       "3      0.119974      0.841615           1.0             105  \n",
       "4      0.519451      0.841615           5.0              17  "
      ]
     },
     "execution_count": 99,
     "metadata": {},
     "output_type": "execute_result"
    }
   ],
   "source": [
    "X_train_under.head()"
   ]
  },
  {
   "cell_type": "markdown",
   "id": "0f5d17c8-1574-45ff-ba20-9f100b8e1491",
   "metadata": {},
   "source": [
    "TEST"
   ]
  },
  {
   "cell_type": "code",
   "execution_count": 100,
   "id": "c59fb75d-7567-4090-a4f4-6fd4e9be6da2",
   "metadata": {},
   "outputs": [],
   "source": [
    "X_test['last_new_job']=X_test.last_new_job.str.replace('never', '0').str.replace('>4', '5')\n",
    "X_test['last_new_job']=pd.to_numeric(X_test['last_new_job'])\n",
    "X_test['experience']=pd.to_numeric(X_test.experience.str.replace('>20', '21').str.replace('<1','0'))"
   ]
  },
  {
   "cell_type": "code",
   "execution_count": 101,
   "id": "1c936810-46bd-4e3f-978a-d74f9868c8f0",
   "metadata": {},
   "outputs": [],
   "source": [
    "X_test=categorico_nulos.fit_transform(X_test)"
   ]
  },
  {
   "cell_type": "code",
   "execution_count": 102,
   "id": "8dacd07c-bf1a-4a46-9002-2d52b188d3be",
   "metadata": {},
   "outputs": [],
   "source": [
    "X_test = num_nulos.fit_transform(X_test)"
   ]
  },
  {
   "cell_type": "code",
   "execution_count": 103,
   "id": "6238c99f-afcd-49d7-bd04-6253ae08268b",
   "metadata": {},
   "outputs": [],
   "source": [
    "X_test['relevent_experience']=relevent_experience.fit_transform(X_test[['relevent_experience']])\n",
    "X_test['education_level']=education_level.fit_transform(X_test[['education_level']])"
   ]
  },
  {
   "cell_type": "code",
   "execution_count": 104,
   "id": "0a2edabd-d09a-42c9-a287-973b8d1853dd",
   "metadata": {},
   "outputs": [],
   "source": [
    "X_test = categoricas.fit_transform(X_test)"
   ]
  },
  {
   "cell_type": "code",
   "execution_count": 105,
   "id": "0ee72650-f2b2-418d-901e-7d0c4a2b6665",
   "metadata": {},
   "outputs": [
    {
     "data": {
      "text/html": [
       "<div>\n",
       "<style scoped>\n",
       "    .dataframe tbody tr th:only-of-type {\n",
       "        vertical-align: middle;\n",
       "    }\n",
       "\n",
       "    .dataframe tbody tr th {\n",
       "        vertical-align: top;\n",
       "    }\n",
       "\n",
       "    .dataframe thead th {\n",
       "        text-align: right;\n",
       "    }\n",
       "</style>\n",
       "<table border=\"1\" class=\"dataframe\">\n",
       "  <thead>\n",
       "    <tr style=\"text-align: right;\">\n",
       "      <th></th>\n",
       "      <th>city</th>\n",
       "      <th>city_development_index</th>\n",
       "      <th>gender</th>\n",
       "      <th>relevent_experience</th>\n",
       "      <th>enrolled_university</th>\n",
       "      <th>education_level</th>\n",
       "      <th>major_discipline</th>\n",
       "      <th>experience</th>\n",
       "      <th>company_size</th>\n",
       "      <th>company_type</th>\n",
       "      <th>last_new_job</th>\n",
       "      <th>training_hours</th>\n",
       "    </tr>\n",
       "  </thead>\n",
       "  <tbody>\n",
       "    <tr>\n",
       "      <th>11914</th>\n",
       "      <td>0.015329</td>\n",
       "      <td>0.939</td>\n",
       "      <td>0.067515</td>\n",
       "      <td>1.0</td>\n",
       "      <td>0.741683</td>\n",
       "      <td>2.0</td>\n",
       "      <td>0.021853</td>\n",
       "      <td>9.0</td>\n",
       "      <td>0.473581</td>\n",
       "      <td>0.833986</td>\n",
       "      <td>1.0</td>\n",
       "      <td>51</td>\n",
       "    </tr>\n",
       "    <tr>\n",
       "      <th>1154</th>\n",
       "      <td>0.001305</td>\n",
       "      <td>0.698</td>\n",
       "      <td>0.923353</td>\n",
       "      <td>1.0</td>\n",
       "      <td>0.195695</td>\n",
       "      <td>1.0</td>\n",
       "      <td>0.897586</td>\n",
       "      <td>6.0</td>\n",
       "      <td>0.072407</td>\n",
       "      <td>0.833986</td>\n",
       "      <td>1.0</td>\n",
       "      <td>78</td>\n",
       "    </tr>\n",
       "    <tr>\n",
       "      <th>1597</th>\n",
       "      <td>0.015982</td>\n",
       "      <td>0.804</td>\n",
       "      <td>0.923353</td>\n",
       "      <td>1.0</td>\n",
       "      <td>0.741683</td>\n",
       "      <td>2.0</td>\n",
       "      <td>0.021853</td>\n",
       "      <td>17.0</td>\n",
       "      <td>0.473581</td>\n",
       "      <td>0.833986</td>\n",
       "      <td>1.0</td>\n",
       "      <td>73</td>\n",
       "    </tr>\n",
       "    <tr>\n",
       "      <th>1279</th>\n",
       "      <td>0.040444</td>\n",
       "      <td>0.920</td>\n",
       "      <td>0.923353</td>\n",
       "      <td>0.0</td>\n",
       "      <td>0.741683</td>\n",
       "      <td>0.0</td>\n",
       "      <td>0.897586</td>\n",
       "      <td>0.0</td>\n",
       "      <td>0.070450</td>\n",
       "      <td>0.048271</td>\n",
       "      <td>2.0</td>\n",
       "      <td>85</td>\n",
       "    </tr>\n",
       "    <tr>\n",
       "      <th>2202</th>\n",
       "      <td>0.138617</td>\n",
       "      <td>0.624</td>\n",
       "      <td>0.923353</td>\n",
       "      <td>1.0</td>\n",
       "      <td>0.195695</td>\n",
       "      <td>2.0</td>\n",
       "      <td>0.897586</td>\n",
       "      <td>1.0</td>\n",
       "      <td>0.473581</td>\n",
       "      <td>0.833986</td>\n",
       "      <td>1.0</td>\n",
       "      <td>7</td>\n",
       "    </tr>\n",
       "  </tbody>\n",
       "</table>\n",
       "</div>"
      ],
      "text/plain": [
       "           city  city_development_index    gender  relevent_experience  \\\n",
       "11914  0.015329                   0.939  0.067515                  1.0   \n",
       "1154   0.001305                   0.698  0.923353                  1.0   \n",
       "1597   0.015982                   0.804  0.923353                  1.0   \n",
       "1279   0.040444                   0.920  0.923353                  0.0   \n",
       "2202   0.138617                   0.624  0.923353                  1.0   \n",
       "\n",
       "       enrolled_university  education_level  major_discipline  experience  \\\n",
       "11914             0.741683              2.0          0.021853         9.0   \n",
       "1154              0.195695              1.0          0.897586         6.0   \n",
       "1597              0.741683              2.0          0.021853        17.0   \n",
       "1279              0.741683              0.0          0.897586         0.0   \n",
       "2202              0.195695              2.0          0.897586         1.0   \n",
       "\n",
       "       company_size  company_type  last_new_job  training_hours  \n",
       "11914      0.473581      0.833986           1.0              51  \n",
       "1154       0.072407      0.833986           1.0              78  \n",
       "1597       0.473581      0.833986           1.0              73  \n",
       "1279       0.070450      0.048271           2.0              85  \n",
       "2202       0.473581      0.833986           1.0               7  "
      ]
     },
     "execution_count": 105,
     "metadata": {},
     "output_type": "execute_result"
    }
   ],
   "source": [
    "X_test.head()"
   ]
  },
  {
   "cell_type": "markdown",
   "id": "ec75b0eb-3e19-44d8-b8c5-0fc2b6c38616",
   "metadata": {
    "tags": []
   },
   "source": [
    "# MODELO"
   ]
  },
  {
   "cell_type": "code",
   "execution_count": 106,
   "id": "01ff5970-3bed-41ee-9188-6e889dcd64a7",
   "metadata": {},
   "outputs": [],
   "source": [
    "from sklearn.model_selection import GridSearchCV"
   ]
  },
  {
   "cell_type": "code",
   "execution_count": 178,
   "id": "4d012415-1e4c-452e-87a2-903507f886ef",
   "metadata": {},
   "outputs": [],
   "source": [
    "forest_grid = RandomForestClassifier()\n",
    "params = {'n_estimators':[10,25,30, 50,75, 100], 'max_depth':[3,6,8,9,10, 15,20]}\n",
    "gridForest = GridSearchCV(forest_grid, params)"
   ]
  },
  {
   "cell_type": "code",
   "execution_count": 179,
   "id": "78623091-357c-415c-ad34-e3c5d0a20b86",
   "metadata": {},
   "outputs": [
    {
     "data": {
      "text/html": [
       "<style>#sk-container-id-38 {color: black;background-color: white;}#sk-container-id-38 pre{padding: 0;}#sk-container-id-38 div.sk-toggleable {background-color: white;}#sk-container-id-38 label.sk-toggleable__label {cursor: pointer;display: block;width: 100%;margin-bottom: 0;padding: 0.3em;box-sizing: border-box;text-align: center;}#sk-container-id-38 label.sk-toggleable__label-arrow:before {content: \"▸\";float: left;margin-right: 0.25em;color: #696969;}#sk-container-id-38 label.sk-toggleable__label-arrow:hover:before {color: black;}#sk-container-id-38 div.sk-estimator:hover label.sk-toggleable__label-arrow:before {color: black;}#sk-container-id-38 div.sk-toggleable__content {max-height: 0;max-width: 0;overflow: hidden;text-align: left;background-color: #f0f8ff;}#sk-container-id-38 div.sk-toggleable__content pre {margin: 0.2em;color: black;border-radius: 0.25em;background-color: #f0f8ff;}#sk-container-id-38 input.sk-toggleable__control:checked~div.sk-toggleable__content {max-height: 200px;max-width: 100%;overflow: auto;}#sk-container-id-38 input.sk-toggleable__control:checked~label.sk-toggleable__label-arrow:before {content: \"▾\";}#sk-container-id-38 div.sk-estimator input.sk-toggleable__control:checked~label.sk-toggleable__label {background-color: #d4ebff;}#sk-container-id-38 div.sk-label input.sk-toggleable__control:checked~label.sk-toggleable__label {background-color: #d4ebff;}#sk-container-id-38 input.sk-hidden--visually {border: 0;clip: rect(1px 1px 1px 1px);clip: rect(1px, 1px, 1px, 1px);height: 1px;margin: -1px;overflow: hidden;padding: 0;position: absolute;width: 1px;}#sk-container-id-38 div.sk-estimator {font-family: monospace;background-color: #f0f8ff;border: 1px dotted black;border-radius: 0.25em;box-sizing: border-box;margin-bottom: 0.5em;}#sk-container-id-38 div.sk-estimator:hover {background-color: #d4ebff;}#sk-container-id-38 div.sk-parallel-item::after {content: \"\";width: 100%;border-bottom: 1px solid gray;flex-grow: 1;}#sk-container-id-38 div.sk-label:hover label.sk-toggleable__label {background-color: #d4ebff;}#sk-container-id-38 div.sk-serial::before {content: \"\";position: absolute;border-left: 1px solid gray;box-sizing: border-box;top: 0;bottom: 0;left: 50%;z-index: 0;}#sk-container-id-38 div.sk-serial {display: flex;flex-direction: column;align-items: center;background-color: white;padding-right: 0.2em;padding-left: 0.2em;position: relative;}#sk-container-id-38 div.sk-item {position: relative;z-index: 1;}#sk-container-id-38 div.sk-parallel {display: flex;align-items: stretch;justify-content: center;background-color: white;position: relative;}#sk-container-id-38 div.sk-item::before, #sk-container-id-38 div.sk-parallel-item::before {content: \"\";position: absolute;border-left: 1px solid gray;box-sizing: border-box;top: 0;bottom: 0;left: 50%;z-index: -1;}#sk-container-id-38 div.sk-parallel-item {display: flex;flex-direction: column;z-index: 1;position: relative;background-color: white;}#sk-container-id-38 div.sk-parallel-item:first-child::after {align-self: flex-end;width: 50%;}#sk-container-id-38 div.sk-parallel-item:last-child::after {align-self: flex-start;width: 50%;}#sk-container-id-38 div.sk-parallel-item:only-child::after {width: 0;}#sk-container-id-38 div.sk-dashed-wrapped {border: 1px dashed gray;margin: 0 0.4em 0.5em 0.4em;box-sizing: border-box;padding-bottom: 0.4em;background-color: white;}#sk-container-id-38 div.sk-label label {font-family: monospace;font-weight: bold;display: inline-block;line-height: 1.2em;}#sk-container-id-38 div.sk-label-container {text-align: center;}#sk-container-id-38 div.sk-container {/* jupyter's `normalize.less` sets `[hidden] { display: none; }` but bootstrap.min.css set `[hidden] { display: none !important; }` so we also need the `!important` here to be able to override the default hidden behavior on the sphinx rendered scikit-learn.org. See: https://github.com/scikit-learn/scikit-learn/issues/21755 */display: inline-block !important;position: relative;}#sk-container-id-38 div.sk-text-repr-fallback {display: none;}</style><div id=\"sk-container-id-38\" class=\"sk-top-container\"><div class=\"sk-text-repr-fallback\"><pre>GridSearchCV(estimator=RandomForestClassifier(),\n",
       "             param_grid={&#x27;max_depth&#x27;: [3, 6, 8, 9, 10, 15, 20],\n",
       "                         &#x27;n_estimators&#x27;: [10, 25, 30, 50, 75, 100]})</pre><b>In a Jupyter environment, please rerun this cell to show the HTML representation or trust the notebook. <br />On GitHub, the HTML representation is unable to render, please try loading this page with nbviewer.org.</b></div><div class=\"sk-container\" hidden><div class=\"sk-item sk-dashed-wrapped\"><div class=\"sk-label-container\"><div class=\"sk-label sk-toggleable\"><input class=\"sk-toggleable__control sk-hidden--visually\" id=\"sk-estimator-id-62\" type=\"checkbox\" ><label for=\"sk-estimator-id-62\" class=\"sk-toggleable__label sk-toggleable__label-arrow\">GridSearchCV</label><div class=\"sk-toggleable__content\"><pre>GridSearchCV(estimator=RandomForestClassifier(),\n",
       "             param_grid={&#x27;max_depth&#x27;: [3, 6, 8, 9, 10, 15, 20],\n",
       "                         &#x27;n_estimators&#x27;: [10, 25, 30, 50, 75, 100]})</pre></div></div></div><div class=\"sk-parallel\"><div class=\"sk-parallel-item\"><div class=\"sk-item\"><div class=\"sk-label-container\"><div class=\"sk-label sk-toggleable\"><input class=\"sk-toggleable__control sk-hidden--visually\" id=\"sk-estimator-id-63\" type=\"checkbox\" ><label for=\"sk-estimator-id-63\" class=\"sk-toggleable__label sk-toggleable__label-arrow\">estimator: RandomForestClassifier</label><div class=\"sk-toggleable__content\"><pre>RandomForestClassifier()</pre></div></div></div><div class=\"sk-serial\"><div class=\"sk-item\"><div class=\"sk-estimator sk-toggleable\"><input class=\"sk-toggleable__control sk-hidden--visually\" id=\"sk-estimator-id-64\" type=\"checkbox\" ><label for=\"sk-estimator-id-64\" class=\"sk-toggleable__label sk-toggleable__label-arrow\">RandomForestClassifier</label><div class=\"sk-toggleable__content\"><pre>RandomForestClassifier()</pre></div></div></div></div></div></div></div></div></div></div>"
      ],
      "text/plain": [
       "GridSearchCV(estimator=RandomForestClassifier(),\n",
       "             param_grid={'max_depth': [3, 6, 8, 9, 10, 15, 20],\n",
       "                         'n_estimators': [10, 25, 30, 50, 75, 100]})"
      ]
     },
     "execution_count": 179,
     "metadata": {},
     "output_type": "execute_result"
    }
   ],
   "source": [
    "gridForest.fit(X_train_under,y_train_under)"
   ]
  },
  {
   "cell_type": "code",
   "execution_count": 180,
   "id": "0a13d22b-50f6-4502-a3f2-c970b6b435c4",
   "metadata": {},
   "outputs": [
    {
     "data": {
      "text/html": [
       "<style>#sk-container-id-39 {color: black;background-color: white;}#sk-container-id-39 pre{padding: 0;}#sk-container-id-39 div.sk-toggleable {background-color: white;}#sk-container-id-39 label.sk-toggleable__label {cursor: pointer;display: block;width: 100%;margin-bottom: 0;padding: 0.3em;box-sizing: border-box;text-align: center;}#sk-container-id-39 label.sk-toggleable__label-arrow:before {content: \"▸\";float: left;margin-right: 0.25em;color: #696969;}#sk-container-id-39 label.sk-toggleable__label-arrow:hover:before {color: black;}#sk-container-id-39 div.sk-estimator:hover label.sk-toggleable__label-arrow:before {color: black;}#sk-container-id-39 div.sk-toggleable__content {max-height: 0;max-width: 0;overflow: hidden;text-align: left;background-color: #f0f8ff;}#sk-container-id-39 div.sk-toggleable__content pre {margin: 0.2em;color: black;border-radius: 0.25em;background-color: #f0f8ff;}#sk-container-id-39 input.sk-toggleable__control:checked~div.sk-toggleable__content {max-height: 200px;max-width: 100%;overflow: auto;}#sk-container-id-39 input.sk-toggleable__control:checked~label.sk-toggleable__label-arrow:before {content: \"▾\";}#sk-container-id-39 div.sk-estimator input.sk-toggleable__control:checked~label.sk-toggleable__label {background-color: #d4ebff;}#sk-container-id-39 div.sk-label input.sk-toggleable__control:checked~label.sk-toggleable__label {background-color: #d4ebff;}#sk-container-id-39 input.sk-hidden--visually {border: 0;clip: rect(1px 1px 1px 1px);clip: rect(1px, 1px, 1px, 1px);height: 1px;margin: -1px;overflow: hidden;padding: 0;position: absolute;width: 1px;}#sk-container-id-39 div.sk-estimator {font-family: monospace;background-color: #f0f8ff;border: 1px dotted black;border-radius: 0.25em;box-sizing: border-box;margin-bottom: 0.5em;}#sk-container-id-39 div.sk-estimator:hover {background-color: #d4ebff;}#sk-container-id-39 div.sk-parallel-item::after {content: \"\";width: 100%;border-bottom: 1px solid gray;flex-grow: 1;}#sk-container-id-39 div.sk-label:hover label.sk-toggleable__label {background-color: #d4ebff;}#sk-container-id-39 div.sk-serial::before {content: \"\";position: absolute;border-left: 1px solid gray;box-sizing: border-box;top: 0;bottom: 0;left: 50%;z-index: 0;}#sk-container-id-39 div.sk-serial {display: flex;flex-direction: column;align-items: center;background-color: white;padding-right: 0.2em;padding-left: 0.2em;position: relative;}#sk-container-id-39 div.sk-item {position: relative;z-index: 1;}#sk-container-id-39 div.sk-parallel {display: flex;align-items: stretch;justify-content: center;background-color: white;position: relative;}#sk-container-id-39 div.sk-item::before, #sk-container-id-39 div.sk-parallel-item::before {content: \"\";position: absolute;border-left: 1px solid gray;box-sizing: border-box;top: 0;bottom: 0;left: 50%;z-index: -1;}#sk-container-id-39 div.sk-parallel-item {display: flex;flex-direction: column;z-index: 1;position: relative;background-color: white;}#sk-container-id-39 div.sk-parallel-item:first-child::after {align-self: flex-end;width: 50%;}#sk-container-id-39 div.sk-parallel-item:last-child::after {align-self: flex-start;width: 50%;}#sk-container-id-39 div.sk-parallel-item:only-child::after {width: 0;}#sk-container-id-39 div.sk-dashed-wrapped {border: 1px dashed gray;margin: 0 0.4em 0.5em 0.4em;box-sizing: border-box;padding-bottom: 0.4em;background-color: white;}#sk-container-id-39 div.sk-label label {font-family: monospace;font-weight: bold;display: inline-block;line-height: 1.2em;}#sk-container-id-39 div.sk-label-container {text-align: center;}#sk-container-id-39 div.sk-container {/* jupyter's `normalize.less` sets `[hidden] { display: none; }` but bootstrap.min.css set `[hidden] { display: none !important; }` so we also need the `!important` here to be able to override the default hidden behavior on the sphinx rendered scikit-learn.org. See: https://github.com/scikit-learn/scikit-learn/issues/21755 */display: inline-block !important;position: relative;}#sk-container-id-39 div.sk-text-repr-fallback {display: none;}</style><div id=\"sk-container-id-39\" class=\"sk-top-container\"><div class=\"sk-text-repr-fallback\"><pre>RandomForestClassifier(max_depth=9, n_estimators=50)</pre><b>In a Jupyter environment, please rerun this cell to show the HTML representation or trust the notebook. <br />On GitHub, the HTML representation is unable to render, please try loading this page with nbviewer.org.</b></div><div class=\"sk-container\" hidden><div class=\"sk-item\"><div class=\"sk-estimator sk-toggleable\"><input class=\"sk-toggleable__control sk-hidden--visually\" id=\"sk-estimator-id-65\" type=\"checkbox\" checked><label for=\"sk-estimator-id-65\" class=\"sk-toggleable__label sk-toggleable__label-arrow\">RandomForestClassifier</label><div class=\"sk-toggleable__content\"><pre>RandomForestClassifier(max_depth=9, n_estimators=50)</pre></div></div></div></div></div>"
      ],
      "text/plain": [
       "RandomForestClassifier(max_depth=9, n_estimators=50)"
      ]
     },
     "execution_count": 180,
     "metadata": {},
     "output_type": "execute_result"
    }
   ],
   "source": [
    "gridForest.best_estimator_"
   ]
  },
  {
   "cell_type": "code",
   "execution_count": 181,
   "id": "5b201bba-0806-4bb1-9550-6f430414e280",
   "metadata": {},
   "outputs": [],
   "source": [
    "forest = RandomForestClassifier(max_depth=9, n_estimators=50)"
   ]
  },
  {
   "cell_type": "code",
   "execution_count": 182,
   "id": "16ae4986-118e-4821-adcc-be4dee169e17",
   "metadata": {},
   "outputs": [
    {
     "data": {
      "text/html": [
       "<style>#sk-container-id-40 {color: black;background-color: white;}#sk-container-id-40 pre{padding: 0;}#sk-container-id-40 div.sk-toggleable {background-color: white;}#sk-container-id-40 label.sk-toggleable__label {cursor: pointer;display: block;width: 100%;margin-bottom: 0;padding: 0.3em;box-sizing: border-box;text-align: center;}#sk-container-id-40 label.sk-toggleable__label-arrow:before {content: \"▸\";float: left;margin-right: 0.25em;color: #696969;}#sk-container-id-40 label.sk-toggleable__label-arrow:hover:before {color: black;}#sk-container-id-40 div.sk-estimator:hover label.sk-toggleable__label-arrow:before {color: black;}#sk-container-id-40 div.sk-toggleable__content {max-height: 0;max-width: 0;overflow: hidden;text-align: left;background-color: #f0f8ff;}#sk-container-id-40 div.sk-toggleable__content pre {margin: 0.2em;color: black;border-radius: 0.25em;background-color: #f0f8ff;}#sk-container-id-40 input.sk-toggleable__control:checked~div.sk-toggleable__content {max-height: 200px;max-width: 100%;overflow: auto;}#sk-container-id-40 input.sk-toggleable__control:checked~label.sk-toggleable__label-arrow:before {content: \"▾\";}#sk-container-id-40 div.sk-estimator input.sk-toggleable__control:checked~label.sk-toggleable__label {background-color: #d4ebff;}#sk-container-id-40 div.sk-label input.sk-toggleable__control:checked~label.sk-toggleable__label {background-color: #d4ebff;}#sk-container-id-40 input.sk-hidden--visually {border: 0;clip: rect(1px 1px 1px 1px);clip: rect(1px, 1px, 1px, 1px);height: 1px;margin: -1px;overflow: hidden;padding: 0;position: absolute;width: 1px;}#sk-container-id-40 div.sk-estimator {font-family: monospace;background-color: #f0f8ff;border: 1px dotted black;border-radius: 0.25em;box-sizing: border-box;margin-bottom: 0.5em;}#sk-container-id-40 div.sk-estimator:hover {background-color: #d4ebff;}#sk-container-id-40 div.sk-parallel-item::after {content: \"\";width: 100%;border-bottom: 1px solid gray;flex-grow: 1;}#sk-container-id-40 div.sk-label:hover label.sk-toggleable__label {background-color: #d4ebff;}#sk-container-id-40 div.sk-serial::before {content: \"\";position: absolute;border-left: 1px solid gray;box-sizing: border-box;top: 0;bottom: 0;left: 50%;z-index: 0;}#sk-container-id-40 div.sk-serial {display: flex;flex-direction: column;align-items: center;background-color: white;padding-right: 0.2em;padding-left: 0.2em;position: relative;}#sk-container-id-40 div.sk-item {position: relative;z-index: 1;}#sk-container-id-40 div.sk-parallel {display: flex;align-items: stretch;justify-content: center;background-color: white;position: relative;}#sk-container-id-40 div.sk-item::before, #sk-container-id-40 div.sk-parallel-item::before {content: \"\";position: absolute;border-left: 1px solid gray;box-sizing: border-box;top: 0;bottom: 0;left: 50%;z-index: -1;}#sk-container-id-40 div.sk-parallel-item {display: flex;flex-direction: column;z-index: 1;position: relative;background-color: white;}#sk-container-id-40 div.sk-parallel-item:first-child::after {align-self: flex-end;width: 50%;}#sk-container-id-40 div.sk-parallel-item:last-child::after {align-self: flex-start;width: 50%;}#sk-container-id-40 div.sk-parallel-item:only-child::after {width: 0;}#sk-container-id-40 div.sk-dashed-wrapped {border: 1px dashed gray;margin: 0 0.4em 0.5em 0.4em;box-sizing: border-box;padding-bottom: 0.4em;background-color: white;}#sk-container-id-40 div.sk-label label {font-family: monospace;font-weight: bold;display: inline-block;line-height: 1.2em;}#sk-container-id-40 div.sk-label-container {text-align: center;}#sk-container-id-40 div.sk-container {/* jupyter's `normalize.less` sets `[hidden] { display: none; }` but bootstrap.min.css set `[hidden] { display: none !important; }` so we also need the `!important` here to be able to override the default hidden behavior on the sphinx rendered scikit-learn.org. See: https://github.com/scikit-learn/scikit-learn/issues/21755 */display: inline-block !important;position: relative;}#sk-container-id-40 div.sk-text-repr-fallback {display: none;}</style><div id=\"sk-container-id-40\" class=\"sk-top-container\"><div class=\"sk-text-repr-fallback\"><pre>RandomForestClassifier(max_depth=9, n_estimators=50)</pre><b>In a Jupyter environment, please rerun this cell to show the HTML representation or trust the notebook. <br />On GitHub, the HTML representation is unable to render, please try loading this page with nbviewer.org.</b></div><div class=\"sk-container\" hidden><div class=\"sk-item\"><div class=\"sk-estimator sk-toggleable\"><input class=\"sk-toggleable__control sk-hidden--visually\" id=\"sk-estimator-id-66\" type=\"checkbox\" checked><label for=\"sk-estimator-id-66\" class=\"sk-toggleable__label sk-toggleable__label-arrow\">RandomForestClassifier</label><div class=\"sk-toggleable__content\"><pre>RandomForestClassifier(max_depth=9, n_estimators=50)</pre></div></div></div></div></div>"
      ],
      "text/plain": [
       "RandomForestClassifier(max_depth=9, n_estimators=50)"
      ]
     },
     "execution_count": 182,
     "metadata": {},
     "output_type": "execute_result"
    }
   ],
   "source": [
    "forest.fit(X_train_under,y_train_under)"
   ]
  },
  {
   "cell_type": "code",
   "execution_count": 183,
   "id": "bdf6e755-5b44-447d-ae8b-b8aa09a8cff4",
   "metadata": {},
   "outputs": [
    {
     "name": "stdout",
     "output_type": "stream",
     "text": [
      "0.7873488067996077\n",
      "0.7452707110241357\n"
     ]
    }
   ],
   "source": [
    "print(forest.score(X_train_under,y_train_under))\n",
    "print(forest.score(X_test,y_test))"
   ]
  },
  {
   "cell_type": "code",
   "execution_count": 128,
   "id": "6df87375-b664-45b2-a00c-db81ab39a6be",
   "metadata": {},
   "outputs": [
    {
     "data": {
      "text/plain": [
       "0.7701863354037267"
      ]
     },
     "execution_count": 147,
     "metadata": {},
     "output_type": "execute_result"
    }
   ],
   "source": [
    "forest.score(X_train_under,y_train_under)"
   ]
  },
  {
   "cell_type": "code",
   "execution_count": 129,
   "id": "3347f8ac-d18e-439b-aa47-d6fe58ace430",
   "metadata": {},
   "outputs": [
    {
     "data": {
      "text/plain": [
       "0.7449445531637312"
      ]
     },
     "execution_count": 148,
     "metadata": {},
     "output_type": "execute_result"
    }
   ],
   "source": [
    "forest.score(X_test,y_test)"
   ]
  },
  {
   "cell_type": "markdown",
   "id": "5a839441-528f-428d-ac87-b7f61be02b6d",
   "metadata": {},
   "source": [
    "# Z_test"
   ]
  },
  {
   "cell_type": "code",
   "execution_count": 184,
   "id": "04cba748-78ff-4ced-a279-44d8f6b841fc",
   "metadata": {},
   "outputs": [],
   "source": [
    "z_test = pd.read_csv('z_test.csv')"
   ]
  },
  {
   "cell_type": "code",
   "execution_count": 185,
   "id": "1c7f9f90-7128-4b9c-89c7-be271cec524f",
   "metadata": {},
   "outputs": [],
   "source": [
    "identificación = z_test[['enrollee_id']]"
   ]
  },
  {
   "cell_type": "code",
   "execution_count": 186,
   "id": "87685e0c-225a-4048-8975-91c7a89cf34f",
   "metadata": {},
   "outputs": [],
   "source": [
    "z_test.drop(columns= 'enrollee_id', inplace=True)"
   ]
  },
  {
   "cell_type": "code",
   "execution_count": 187,
   "id": "36c269ba-4e2d-4eab-82c4-7b8b838dd973",
   "metadata": {},
   "outputs": [],
   "source": [
    "z_test['last_new_job']=z_test.last_new_job.str.replace('never', '0').str.replace('>4', '5')\n",
    "z_test['last_new_job']=pd.to_numeric(z_test['last_new_job'])\n",
    "z_test['experience']=pd.to_numeric(z_test.experience.str.replace('>20', '21').str.replace('<1','0'))"
   ]
  },
  {
   "cell_type": "code",
   "execution_count": 188,
   "id": "ee13fb04-e270-4baa-a179-a454c0b56b4c",
   "metadata": {},
   "outputs": [],
   "source": [
    "z_test=categorico_nulos.fit_transform(z_test)\n",
    "z_test = num_nulos.fit_transform(z_test)"
   ]
  },
  {
   "cell_type": "code",
   "execution_count": 189,
   "id": "ec999eb8-a98d-4e9d-8879-223c5445e7fa",
   "metadata": {},
   "outputs": [],
   "source": [
    "z_test['relevent_experience']=relevent_experience.fit_transform(z_test[['relevent_experience']])\n",
    "z_test['education_level']=education_level.fit_transform(z_test[['education_level']])"
   ]
  },
  {
   "cell_type": "code",
   "execution_count": 190,
   "id": "f1a0af41-fcc1-4591-9706-1749b5781ffe",
   "metadata": {},
   "outputs": [],
   "source": [
    "z_test = categoricas.fit_transform(z_test)"
   ]
  },
  {
   "cell_type": "code",
   "execution_count": 191,
   "id": "aec9c337-cc2b-4545-9dd6-c3869beac666",
   "metadata": {},
   "outputs": [],
   "source": [
    "z_pred = pd.DataFrame(forest.predict_proba(z_test))"
   ]
  },
  {
   "cell_type": "code",
   "execution_count": 192,
   "id": "0da711d3-6944-4394-8873-9786a9dd539b",
   "metadata": {},
   "outputs": [
    {
     "data": {
      "text/html": [
       "<div>\n",
       "<style scoped>\n",
       "    .dataframe tbody tr th:only-of-type {\n",
       "        vertical-align: middle;\n",
       "    }\n",
       "\n",
       "    .dataframe tbody tr th {\n",
       "        vertical-align: top;\n",
       "    }\n",
       "\n",
       "    .dataframe thead th {\n",
       "        text-align: right;\n",
       "    }\n",
       "</style>\n",
       "<table border=\"1\" class=\"dataframe\">\n",
       "  <thead>\n",
       "    <tr style=\"text-align: right;\">\n",
       "      <th></th>\n",
       "      <th>enrollee_id</th>\n",
       "      <th>1</th>\n",
       "    </tr>\n",
       "  </thead>\n",
       "  <tbody>\n",
       "    <tr>\n",
       "      <th>0</th>\n",
       "      <td>23603</td>\n",
       "      <td>0.751520</td>\n",
       "    </tr>\n",
       "    <tr>\n",
       "      <th>1</th>\n",
       "      <td>22499</td>\n",
       "      <td>0.424476</td>\n",
       "    </tr>\n",
       "    <tr>\n",
       "      <th>2</th>\n",
       "      <td>10465</td>\n",
       "      <td>0.669959</td>\n",
       "    </tr>\n",
       "    <tr>\n",
       "      <th>3</th>\n",
       "      <td>8293</td>\n",
       "      <td>0.194782</td>\n",
       "    </tr>\n",
       "    <tr>\n",
       "      <th>4</th>\n",
       "      <td>4246</td>\n",
       "      <td>0.429300</td>\n",
       "    </tr>\n",
       "  </tbody>\n",
       "</table>\n",
       "</div>"
      ],
      "text/plain": [
       "   enrollee_id         1\n",
       "0        23603  0.751520\n",
       "1        22499  0.424476\n",
       "2        10465  0.669959\n",
       "3         8293  0.194782\n",
       "4         4246  0.429300"
      ]
     },
     "execution_count": 192,
     "metadata": {},
     "output_type": "execute_result"
    }
   ],
   "source": [
    "submission11=pd.concat((identificación,z_pred[1]), axis=1)\n",
    "submission11.head()"
   ]
  },
  {
   "cell_type": "code",
   "execution_count": 193,
   "id": "2918223e-0838-406a-b328-b0a242f91384",
   "metadata": {},
   "outputs": [],
   "source": [
    "submission11.rename(columns = {1:'target'}, inplace=True)\n",
    "submission11.to_csv('submission_11.csv',index=False)"
   ]
  },
  {
   "cell_type": "code",
   "execution_count": 194,
   "id": "139b99bb-1e29-47ab-af89-b2d3a5f5cd7b",
   "metadata": {},
   "outputs": [
    {
     "data": {
      "text/html": [
       "<div>\n",
       "<style scoped>\n",
       "    .dataframe tbody tr th:only-of-type {\n",
       "        vertical-align: middle;\n",
       "    }\n",
       "\n",
       "    .dataframe tbody tr th {\n",
       "        vertical-align: top;\n",
       "    }\n",
       "\n",
       "    .dataframe thead th {\n",
       "        text-align: right;\n",
       "    }\n",
       "</style>\n",
       "<table border=\"1\" class=\"dataframe\">\n",
       "  <thead>\n",
       "    <tr style=\"text-align: right;\">\n",
       "      <th></th>\n",
       "      <th>enrollee_id</th>\n",
       "      <th>target</th>\n",
       "    </tr>\n",
       "  </thead>\n",
       "  <tbody>\n",
       "    <tr>\n",
       "      <th>0</th>\n",
       "      <td>23603</td>\n",
       "      <td>0.751520</td>\n",
       "    </tr>\n",
       "    <tr>\n",
       "      <th>1</th>\n",
       "      <td>22499</td>\n",
       "      <td>0.424476</td>\n",
       "    </tr>\n",
       "    <tr>\n",
       "      <th>2</th>\n",
       "      <td>10465</td>\n",
       "      <td>0.669959</td>\n",
       "    </tr>\n",
       "    <tr>\n",
       "      <th>3</th>\n",
       "      <td>8293</td>\n",
       "      <td>0.194782</td>\n",
       "    </tr>\n",
       "    <tr>\n",
       "      <th>4</th>\n",
       "      <td>4246</td>\n",
       "      <td>0.429300</td>\n",
       "    </tr>\n",
       "    <tr>\n",
       "      <th>...</th>\n",
       "      <td>...</td>\n",
       "      <td>...</td>\n",
       "    </tr>\n",
       "    <tr>\n",
       "      <th>3827</th>\n",
       "      <td>8880</td>\n",
       "      <td>0.726020</td>\n",
       "    </tr>\n",
       "    <tr>\n",
       "      <th>3828</th>\n",
       "      <td>7886</td>\n",
       "      <td>0.417755</td>\n",
       "    </tr>\n",
       "    <tr>\n",
       "      <th>3829</th>\n",
       "      <td>12279</td>\n",
       "      <td>0.529578</td>\n",
       "    </tr>\n",
       "    <tr>\n",
       "      <th>3830</th>\n",
       "      <td>5326</td>\n",
       "      <td>0.291069</td>\n",
       "    </tr>\n",
       "    <tr>\n",
       "      <th>3831</th>\n",
       "      <td>4017</td>\n",
       "      <td>0.253997</td>\n",
       "    </tr>\n",
       "  </tbody>\n",
       "</table>\n",
       "<p>3832 rows × 2 columns</p>\n",
       "</div>"
      ],
      "text/plain": [
       "      enrollee_id    target\n",
       "0           23603  0.751520\n",
       "1           22499  0.424476\n",
       "2           10465  0.669959\n",
       "3            8293  0.194782\n",
       "4            4246  0.429300\n",
       "...           ...       ...\n",
       "3827         8880  0.726020\n",
       "3828         7886  0.417755\n",
       "3829        12279  0.529578\n",
       "3830         5326  0.291069\n",
       "3831         4017  0.253997\n",
       "\n",
       "[3832 rows x 2 columns]"
      ]
     },
     "execution_count": 194,
     "metadata": {},
     "output_type": "execute_result"
    }
   ],
   "source": [
    "submission11"
   ]
  },
  {
   "cell_type": "code",
   "execution_count": null,
   "id": "a03ded58-d7aa-4035-8a0a-e44aec9ea775",
   "metadata": {},
   "outputs": [],
   "source": []
  }
 ],
 "metadata": {
  "kernelspec": {
   "display_name": "Python 3 (ipykernel)",
   "language": "python",
   "name": "python3"
  },
  "language_info": {
   "codemirror_mode": {
    "name": "ipython",
    "version": 3
   },
   "file_extension": ".py",
   "mimetype": "text/x-python",
   "name": "python",
   "nbconvert_exporter": "python",
   "pygments_lexer": "ipython3",
   "version": "3.9.7"
  }
 },
 "nbformat": 4,
 "nbformat_minor": 5
}
