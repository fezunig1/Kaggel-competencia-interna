{
 "cells": [
  {
   "cell_type": "code",
   "execution_count": 1,
   "id": "f02b04bc-4cf6-4797-96df-4c2a97212fc9",
   "metadata": {},
   "outputs": [],
   "source": [
    "import pandas as pd\n",
    "import numpy as np\n",
    "from feature_engine import imputation as mdi\n",
    "from feature_engine.encoding import CountFrequencyEncoder\n",
    "from sklearn import preprocessing\n",
    "from sklearn.model_selection import train_test_split\n",
    "from sklearn.ensemble import RandomForestClassifier"
   ]
  },
  {
   "cell_type": "code",
   "execution_count": 7,
   "id": "4f719e63-e03a-4bed-be47-352332f6ae46",
   "metadata": {},
   "outputs": [
    {
     "name": "stdout",
     "output_type": "stream",
     "text": [
      "Collecting imblearn\n",
      "  Downloading imblearn-0.0-py2.py3-none-any.whl (1.9 kB)\n",
      "Collecting imbalanced-learn\n",
      "  Downloading imbalanced_learn-0.9.1-py3-none-any.whl (199 kB)\n",
      "Requirement already satisfied: scikit-learn>=1.1.0 in c:\\users\\fezun\\anaconda3\\lib\\site-packages (from imbalanced-learn->imblearn) (1.1.2)\n",
      "Requirement already satisfied: scipy>=1.3.2 in c:\\users\\fezun\\anaconda3\\lib\\site-packages (from imbalanced-learn->imblearn) (1.7.1)\n",
      "Requirement already satisfied: joblib>=1.0.0 in c:\\users\\fezun\\anaconda3\\lib\\site-packages (from imbalanced-learn->imblearn) (1.1.0)\n",
      "Requirement already satisfied: numpy>=1.17.3 in c:\\users\\fezun\\anaconda3\\lib\\site-packages (from imbalanced-learn->imblearn) (1.20.3)\n",
      "Requirement already satisfied: threadpoolctl>=2.0.0 in c:\\users\\fezun\\anaconda3\\lib\\site-packages (from imbalanced-learn->imblearn) (2.2.0)\n",
      "Installing collected packages: imbalanced-learn, imblearn\n",
      "Successfully installed imbalanced-learn-0.9.1 imblearn-0.0\n",
      "Note: you may need to restart the kernel to use updated packages.\n"
     ]
    }
   ],
   "source": [
    "%pip install imblearn"
   ]
  },
  {
   "cell_type": "code",
   "execution_count": 2,
   "id": "442dff19-114e-4781-9c80-61729180953b",
   "metadata": {},
   "outputs": [],
   "source": [
    "from imblearn.under_sampling import RandomUnderSampler"
   ]
  },
  {
   "cell_type": "code",
   "execution_count": 84,
   "id": "7c359252-81d9-4fcf-9620-e3b5ea1c5807",
   "metadata": {},
   "outputs": [],
   "source": [
    "df = pd.read_csv('z_train.csv')"
   ]
  },
  {
   "cell_type": "code",
   "execution_count": 85,
   "id": "43a7be01-6de0-46f7-af0d-9a8b6570db67",
   "metadata": {},
   "outputs": [],
   "source": [
    "df.drop(columns= ['enrollee_id'], inplace=True)"
   ]
  },
  {
   "cell_type": "code",
   "execution_count": 86,
   "id": "06c414ee-fe91-4a21-8cdc-75fd89ffc9ea",
   "metadata": {},
   "outputs": [
    {
     "data": {
      "text/html": [
       "<div>\n",
       "<style scoped>\n",
       "    .dataframe tbody tr th:only-of-type {\n",
       "        vertical-align: middle;\n",
       "    }\n",
       "\n",
       "    .dataframe tbody tr th {\n",
       "        vertical-align: top;\n",
       "    }\n",
       "\n",
       "    .dataframe thead th {\n",
       "        text-align: right;\n",
       "    }\n",
       "</style>\n",
       "<table border=\"1\" class=\"dataframe\">\n",
       "  <thead>\n",
       "    <tr style=\"text-align: right;\">\n",
       "      <th></th>\n",
       "      <th>city</th>\n",
       "      <th>city_development_index</th>\n",
       "      <th>gender</th>\n",
       "      <th>relevent_experience</th>\n",
       "      <th>enrolled_university</th>\n",
       "      <th>education_level</th>\n",
       "      <th>major_discipline</th>\n",
       "      <th>experience</th>\n",
       "      <th>company_size</th>\n",
       "      <th>company_type</th>\n",
       "      <th>last_new_job</th>\n",
       "      <th>training_hours</th>\n",
       "      <th>target</th>\n",
       "    </tr>\n",
       "  </thead>\n",
       "  <tbody>\n",
       "    <tr>\n",
       "      <th>0</th>\n",
       "      <td>city_103</td>\n",
       "      <td>0.920</td>\n",
       "      <td>Male</td>\n",
       "      <td>Has relevent experience</td>\n",
       "      <td>no_enrollment</td>\n",
       "      <td>Graduate</td>\n",
       "      <td>STEM</td>\n",
       "      <td>&gt;20</td>\n",
       "      <td>NaN</td>\n",
       "      <td>NaN</td>\n",
       "      <td>1</td>\n",
       "      <td>36</td>\n",
       "      <td>1.0</td>\n",
       "    </tr>\n",
       "    <tr>\n",
       "      <th>1</th>\n",
       "      <td>city_40</td>\n",
       "      <td>0.776</td>\n",
       "      <td>Male</td>\n",
       "      <td>No relevent experience</td>\n",
       "      <td>no_enrollment</td>\n",
       "      <td>Graduate</td>\n",
       "      <td>STEM</td>\n",
       "      <td>15</td>\n",
       "      <td>50-99</td>\n",
       "      <td>Pvt Ltd</td>\n",
       "      <td>&gt;4</td>\n",
       "      <td>47</td>\n",
       "      <td>0.0</td>\n",
       "    </tr>\n",
       "    <tr>\n",
       "      <th>2</th>\n",
       "      <td>city_21</td>\n",
       "      <td>0.624</td>\n",
       "      <td>NaN</td>\n",
       "      <td>No relevent experience</td>\n",
       "      <td>Full time course</td>\n",
       "      <td>Graduate</td>\n",
       "      <td>STEM</td>\n",
       "      <td>5</td>\n",
       "      <td>NaN</td>\n",
       "      <td>NaN</td>\n",
       "      <td>never</td>\n",
       "      <td>83</td>\n",
       "      <td>0.0</td>\n",
       "    </tr>\n",
       "    <tr>\n",
       "      <th>3</th>\n",
       "      <td>city_115</td>\n",
       "      <td>0.789</td>\n",
       "      <td>NaN</td>\n",
       "      <td>No relevent experience</td>\n",
       "      <td>NaN</td>\n",
       "      <td>Graduate</td>\n",
       "      <td>Business Degree</td>\n",
       "      <td>&lt;1</td>\n",
       "      <td>NaN</td>\n",
       "      <td>Pvt Ltd</td>\n",
       "      <td>never</td>\n",
       "      <td>52</td>\n",
       "      <td>1.0</td>\n",
       "    </tr>\n",
       "    <tr>\n",
       "      <th>4</th>\n",
       "      <td>city_176</td>\n",
       "      <td>0.764</td>\n",
       "      <td>NaN</td>\n",
       "      <td>Has relevent experience</td>\n",
       "      <td>Part time course</td>\n",
       "      <td>Graduate</td>\n",
       "      <td>STEM</td>\n",
       "      <td>11</td>\n",
       "      <td>NaN</td>\n",
       "      <td>NaN</td>\n",
       "      <td>1</td>\n",
       "      <td>24</td>\n",
       "      <td>1.0</td>\n",
       "    </tr>\n",
       "  </tbody>\n",
       "</table>\n",
       "</div>"
      ],
      "text/plain": [
       "       city  city_development_index gender      relevent_experience  \\\n",
       "0  city_103                   0.920   Male  Has relevent experience   \n",
       "1   city_40                   0.776   Male   No relevent experience   \n",
       "2   city_21                   0.624    NaN   No relevent experience   \n",
       "3  city_115                   0.789    NaN   No relevent experience   \n",
       "4  city_176                   0.764    NaN  Has relevent experience   \n",
       "\n",
       "  enrolled_university education_level major_discipline experience  \\\n",
       "0       no_enrollment        Graduate             STEM        >20   \n",
       "1       no_enrollment        Graduate             STEM         15   \n",
       "2    Full time course        Graduate             STEM          5   \n",
       "3                 NaN        Graduate  Business Degree         <1   \n",
       "4    Part time course        Graduate             STEM         11   \n",
       "\n",
       "  company_size company_type last_new_job  training_hours  target  \n",
       "0          NaN          NaN            1              36     1.0  \n",
       "1        50-99      Pvt Ltd           >4              47     0.0  \n",
       "2          NaN          NaN        never              83     0.0  \n",
       "3          NaN      Pvt Ltd        never              52     1.0  \n",
       "4          NaN          NaN            1              24     1.0  "
      ]
     },
     "execution_count": 86,
     "metadata": {},
     "output_type": "execute_result"
    }
   ],
   "source": [
    "df.head()"
   ]
  },
  {
   "cell_type": "code",
   "execution_count": 87,
   "id": "ed99dfa8-9f0d-42c9-99ee-a2e3c084a6e3",
   "metadata": {},
   "outputs": [],
   "source": [
    "X_train, X_test, y_train, y_test = train_test_split(df.drop(columns='target'), df.target, train_size=0.8)"
   ]
  },
  {
   "cell_type": "code",
   "execution_count": 88,
   "id": "c7b7e536-c512-4df7-a318-a34539182548",
   "metadata": {},
   "outputs": [],
   "source": [
    "undersampler = RandomUnderSampler()"
   ]
  },
  {
   "cell_type": "code",
   "execution_count": 89,
   "id": "42eb9cdb-aff4-4cde-b7da-dd9de5768846",
   "metadata": {},
   "outputs": [],
   "source": [
    "X_train_under, y_train_under = undersampler.fit_resample(X_train, y_train)"
   ]
  },
  {
   "cell_type": "markdown",
   "id": "1efb3e9f-fd3c-4760-876c-397179529ebb",
   "metadata": {},
   "source": [
    "NULOS CAT"
   ]
  },
  {
   "cell_type": "code",
   "execution_count": 90,
   "id": "76a0da70-a9dc-4da1-831c-1686f2814f21",
   "metadata": {},
   "outputs": [],
   "source": [
    "categorico_nulos=mdi.CategoricalImputer('frequent', variables = ['gender', 'enrolled_university', 'education_level', 'major_discipline',\n",
    "       'experience', 'company_size', 'company_type', 'last_new_job'])"
   ]
  },
  {
   "cell_type": "code",
   "execution_count": 91,
   "id": "f736cde2-6f28-460d-be6f-8721f9c683c9",
   "metadata": {},
   "outputs": [],
   "source": [
    "df_sin_nulos=categorico_nulos.fit_transform(X_train_under)"
   ]
  },
  {
   "cell_type": "code",
   "execution_count": 92,
   "id": "2c623d22-fc93-4089-a10d-3164107970d2",
   "metadata": {
    "tags": []
   },
   "outputs": [
    {
     "data": {
      "text/plain": [
       "city                      0\n",
       "city_development_index    0\n",
       "gender                    0\n",
       "relevent_experience       0\n",
       "enrolled_university       0\n",
       "education_level           0\n",
       "major_discipline          0\n",
       "experience                0\n",
       "company_size              0\n",
       "company_type              0\n",
       "last_new_job              0\n",
       "training_hours            0\n",
       "dtype: int64"
      ]
     },
     "execution_count": 92,
     "metadata": {},
     "output_type": "execute_result"
    }
   ],
   "source": [
    "df_sin_nulos.isnull().sum()"
   ]
  },
  {
   "cell_type": "code",
   "execution_count": 12,
   "id": "42af3e0a-4ef1-408f-9e7f-e01fb9610b75",
   "metadata": {},
   "outputs": [
    {
     "data": {
      "text/plain": [
       "0.76793"
      ]
     },
     "execution_count": 12,
     "metadata": {},
     "output_type": "execute_result"
    }
   ],
   "source": [
    "1-0.23207"
   ]
  },
  {
   "cell_type": "markdown",
   "id": "81228930-66e2-4868-b4bd-eb43aaa6bc36",
   "metadata": {},
   "source": [
    "ORDINALES"
   ]
  },
  {
   "cell_type": "code",
   "execution_count": 93,
   "id": "84a010b0-f1e4-4e0c-a03c-79f8dbb4989b",
   "metadata": {},
   "outputs": [
    {
     "data": {
      "text/html": [
       "<div>\n",
       "<style scoped>\n",
       "    .dataframe tbody tr th:only-of-type {\n",
       "        vertical-align: middle;\n",
       "    }\n",
       "\n",
       "    .dataframe tbody tr th {\n",
       "        vertical-align: top;\n",
       "    }\n",
       "\n",
       "    .dataframe thead th {\n",
       "        text-align: right;\n",
       "    }\n",
       "</style>\n",
       "<table border=\"1\" class=\"dataframe\">\n",
       "  <thead>\n",
       "    <tr style=\"text-align: right;\">\n",
       "      <th></th>\n",
       "      <th>city</th>\n",
       "      <th>city_development_index</th>\n",
       "      <th>gender</th>\n",
       "      <th>relevent_experience</th>\n",
       "      <th>enrolled_university</th>\n",
       "      <th>education_level</th>\n",
       "      <th>major_discipline</th>\n",
       "      <th>experience</th>\n",
       "      <th>company_size</th>\n",
       "      <th>company_type</th>\n",
       "      <th>last_new_job</th>\n",
       "      <th>training_hours</th>\n",
       "    </tr>\n",
       "  </thead>\n",
       "  <tbody>\n",
       "    <tr>\n",
       "      <th>0</th>\n",
       "      <td>city_23</td>\n",
       "      <td>0.899</td>\n",
       "      <td>Female</td>\n",
       "      <td>Has relevent experience</td>\n",
       "      <td>Part time course</td>\n",
       "      <td>Graduate</td>\n",
       "      <td>STEM</td>\n",
       "      <td>5</td>\n",
       "      <td>10000+</td>\n",
       "      <td>Pvt Ltd</td>\n",
       "      <td>3</td>\n",
       "      <td>69</td>\n",
       "    </tr>\n",
       "    <tr>\n",
       "      <th>1</th>\n",
       "      <td>city_138</td>\n",
       "      <td>0.836</td>\n",
       "      <td>Male</td>\n",
       "      <td>No relevent experience</td>\n",
       "      <td>no_enrollment</td>\n",
       "      <td>High School</td>\n",
       "      <td>STEM</td>\n",
       "      <td>9</td>\n",
       "      <td>50-99</td>\n",
       "      <td>Pvt Ltd</td>\n",
       "      <td>never</td>\n",
       "      <td>36</td>\n",
       "    </tr>\n",
       "  </tbody>\n",
       "</table>\n",
       "</div>"
      ],
      "text/plain": [
       "       city  city_development_index  gender      relevent_experience  \\\n",
       "0   city_23                   0.899  Female  Has relevent experience   \n",
       "1  city_138                   0.836    Male   No relevent experience   \n",
       "\n",
       "  enrolled_university education_level major_discipline experience  \\\n",
       "0    Part time course        Graduate             STEM          5   \n",
       "1       no_enrollment     High School             STEM          9   \n",
       "\n",
       "  company_size company_type last_new_job  training_hours  \n",
       "0       10000+      Pvt Ltd            3              69  \n",
       "1        50-99      Pvt Ltd        never              36  "
      ]
     },
     "execution_count": 93,
     "metadata": {},
     "output_type": "execute_result"
    }
   ],
   "source": [
    "df_transformado = df_sin_nulos.copy()\n",
    "df_transformado.head(2)"
   ]
  },
  {
   "cell_type": "code",
   "execution_count": 94,
   "id": "393d6cd3-e32a-4b58-8b8e-8c4ab9e572f3",
   "metadata": {},
   "outputs": [],
   "source": [
    "relevent_experience = preprocessing.OrdinalEncoder(categories = [['No relevent experience', 'Has relevent experience']], handle_unknown='use_encoded_value', unknown_value = -1)\n",
    "df_transformado['relevent_experience']=relevent_experience.fit_transform(df_transformado[['relevent_experience']])"
   ]
  },
  {
   "cell_type": "code",
   "execution_count": 95,
   "id": "51723691-b164-4819-b366-788df678cdda",
   "metadata": {},
   "outputs": [],
   "source": [
    "education_level = preprocessing.OrdinalEncoder(categories = [['Primary School','High School', 'Graduate', 'Masters', 'Phd']])\n",
    "df_transformado['education_level']=education_level.fit_transform(df_transformado[['education_level']])"
   ]
  },
  {
   "cell_type": "code",
   "execution_count": 16,
   "id": "4e62bc78-8bb8-4150-893c-f3257ce4e509",
   "metadata": {
    "collapsed": true,
    "jupyter": {
     "outputs_hidden": true
    },
    "tags": []
   },
   "outputs": [
    {
     "data": {
      "text/plain": [
       "['1',\n",
       " '10',\n",
       " '11',\n",
       " '12',\n",
       " '13',\n",
       " '14',\n",
       " '15',\n",
       " '16',\n",
       " '17',\n",
       " '18',\n",
       " '19',\n",
       " '2',\n",
       " '20',\n",
       " '3',\n",
       " '4',\n",
       " '5',\n",
       " '6',\n",
       " '7',\n",
       " '8',\n",
       " '9',\n",
       " '<1',\n",
       " '>20']"
      ]
     },
     "execution_count": 16,
     "metadata": {},
     "output_type": "execute_result"
    }
   ],
   "source": [
    "sorted(df_transformado.experience.unique())"
   ]
  },
  {
   "cell_type": "code",
   "execution_count": 17,
   "id": "50bd03a7-5272-4949-b440-9c795212dba4",
   "metadata": {},
   "outputs": [
    {
     "name": "stdout",
     "output_type": "stream",
     "text": [
      "['0', '1', '2', '3', '4', '5', '6', '7', '8', '9', '10', '11', '12', '13', '14', '15', '16', '17', '18', '19', '20']\n"
     ]
    }
   ],
   "source": [
    "num = [str(i) for i in range(21)]\n",
    "print(num)"
   ]
  },
  {
   "cell_type": "code",
   "execution_count": 96,
   "id": "9e040ca5-0947-40b8-ba33-43f678a45950",
   "metadata": {},
   "outputs": [],
   "source": [
    "exp = preprocessing.OrdinalEncoder(categories = [['<1','1', '2', '3', '4', '5', '6', '7', '8', '9', '10', '11', '12', '13', '14', '15', '16', '17', '18', '19', '20','>20']])\n",
    "df_transformado['experience']=exp.fit_transform(df_transformado[['experience']])"
   ]
  },
  {
   "cell_type": "code",
   "execution_count": 97,
   "id": "f866645e-a7be-48f2-81b5-fef553c24582",
   "metadata": {},
   "outputs": [],
   "source": [
    "categoricas= CountFrequencyEncoder(encoding_method = 'frequency',variables = ['city','gender', 'enrolled_university', 'major_discipline','company_size', 'company_type','last_new_job'] )\n",
    "df_transformado = categoricas.fit_transform(df_transformado)"
   ]
  },
  {
   "cell_type": "code",
   "execution_count": 98,
   "id": "37971e49-4252-482a-bd90-82a378be30dd",
   "metadata": {},
   "outputs": [
    {
     "data": {
      "text/html": [
       "<div>\n",
       "<style scoped>\n",
       "    .dataframe tbody tr th:only-of-type {\n",
       "        vertical-align: middle;\n",
       "    }\n",
       "\n",
       "    .dataframe tbody tr th {\n",
       "        vertical-align: top;\n",
       "    }\n",
       "\n",
       "    .dataframe thead th {\n",
       "        text-align: right;\n",
       "    }\n",
       "</style>\n",
       "<table border=\"1\" class=\"dataframe\">\n",
       "  <thead>\n",
       "    <tr style=\"text-align: right;\">\n",
       "      <th></th>\n",
       "      <th>city</th>\n",
       "      <th>city_development_index</th>\n",
       "      <th>gender</th>\n",
       "      <th>relevent_experience</th>\n",
       "      <th>enrolled_university</th>\n",
       "      <th>education_level</th>\n",
       "      <th>major_discipline</th>\n",
       "      <th>experience</th>\n",
       "      <th>company_size</th>\n",
       "      <th>company_type</th>\n",
       "      <th>last_new_job</th>\n",
       "      <th>training_hours</th>\n",
       "    </tr>\n",
       "  </thead>\n",
       "  <tbody>\n",
       "    <tr>\n",
       "      <th>0</th>\n",
       "      <td>0.009061</td>\n",
       "      <td>0.899</td>\n",
       "      <td>0.066886</td>\n",
       "      <td>1.0</td>\n",
       "      <td>0.06112</td>\n",
       "      <td>2.0</td>\n",
       "      <td>0.907578</td>\n",
       "      <td>5.0</td>\n",
       "      <td>0.103130</td>\n",
       "      <td>0.845140</td>\n",
       "      <td>0.054860</td>\n",
       "      <td>69</td>\n",
       "    </tr>\n",
       "    <tr>\n",
       "      <th>1</th>\n",
       "      <td>0.004613</td>\n",
       "      <td>0.836</td>\n",
       "      <td>0.924382</td>\n",
       "      <td>0.0</td>\n",
       "      <td>0.70939</td>\n",
       "      <td>1.0</td>\n",
       "      <td>0.907578</td>\n",
       "      <td>9.0</td>\n",
       "      <td>0.515651</td>\n",
       "      <td>0.845140</td>\n",
       "      <td>0.136409</td>\n",
       "      <td>36</td>\n",
       "    </tr>\n",
       "    <tr>\n",
       "      <th>2</th>\n",
       "      <td>0.056178</td>\n",
       "      <td>0.926</td>\n",
       "      <td>0.924382</td>\n",
       "      <td>0.0</td>\n",
       "      <td>0.70939</td>\n",
       "      <td>3.0</td>\n",
       "      <td>0.907578</td>\n",
       "      <td>21.0</td>\n",
       "      <td>0.515651</td>\n",
       "      <td>0.049094</td>\n",
       "      <td>0.156837</td>\n",
       "      <td>15</td>\n",
       "    </tr>\n",
       "    <tr>\n",
       "      <th>3</th>\n",
       "      <td>0.219934</td>\n",
       "      <td>0.920</td>\n",
       "      <td>0.924382</td>\n",
       "      <td>1.0</td>\n",
       "      <td>0.70939</td>\n",
       "      <td>2.0</td>\n",
       "      <td>0.907578</td>\n",
       "      <td>21.0</td>\n",
       "      <td>0.072817</td>\n",
       "      <td>0.845140</td>\n",
       "      <td>0.449094</td>\n",
       "      <td>22</td>\n",
       "    </tr>\n",
       "    <tr>\n",
       "      <th>4</th>\n",
       "      <td>0.006755</td>\n",
       "      <td>0.893</td>\n",
       "      <td>0.924382</td>\n",
       "      <td>1.0</td>\n",
       "      <td>0.06112</td>\n",
       "      <td>1.0</td>\n",
       "      <td>0.907578</td>\n",
       "      <td>21.0</td>\n",
       "      <td>0.112850</td>\n",
       "      <td>0.845140</td>\n",
       "      <td>0.449094</td>\n",
       "      <td>94</td>\n",
       "    </tr>\n",
       "    <tr>\n",
       "      <th>...</th>\n",
       "      <td>...</td>\n",
       "      <td>...</td>\n",
       "      <td>...</td>\n",
       "      <td>...</td>\n",
       "      <td>...</td>\n",
       "      <td>...</td>\n",
       "      <td>...</td>\n",
       "      <td>...</td>\n",
       "      <td>...</td>\n",
       "      <td>...</td>\n",
       "      <td>...</td>\n",
       "      <td>...</td>\n",
       "    </tr>\n",
       "    <tr>\n",
       "      <th>6065</th>\n",
       "      <td>0.203295</td>\n",
       "      <td>0.624</td>\n",
       "      <td>0.924382</td>\n",
       "      <td>1.0</td>\n",
       "      <td>0.70939</td>\n",
       "      <td>2.0</td>\n",
       "      <td>0.907578</td>\n",
       "      <td>3.0</td>\n",
       "      <td>0.044646</td>\n",
       "      <td>0.845140</td>\n",
       "      <td>0.449094</td>\n",
       "      <td>80</td>\n",
       "    </tr>\n",
       "    <tr>\n",
       "      <th>6066</th>\n",
       "      <td>0.203295</td>\n",
       "      <td>0.624</td>\n",
       "      <td>0.924382</td>\n",
       "      <td>1.0</td>\n",
       "      <td>0.70939</td>\n",
       "      <td>2.0</td>\n",
       "      <td>0.907578</td>\n",
       "      <td>21.0</td>\n",
       "      <td>0.112850</td>\n",
       "      <td>0.845140</td>\n",
       "      <td>0.449094</td>\n",
       "      <td>122</td>\n",
       "    </tr>\n",
       "    <tr>\n",
       "      <th>6067</th>\n",
       "      <td>0.042834</td>\n",
       "      <td>0.920</td>\n",
       "      <td>0.924382</td>\n",
       "      <td>1.0</td>\n",
       "      <td>0.70939</td>\n",
       "      <td>2.0</td>\n",
       "      <td>0.907578</td>\n",
       "      <td>10.0</td>\n",
       "      <td>0.103130</td>\n",
       "      <td>0.845140</td>\n",
       "      <td>0.449094</td>\n",
       "      <td>57</td>\n",
       "    </tr>\n",
       "    <tr>\n",
       "      <th>6068</th>\n",
       "      <td>0.219934</td>\n",
       "      <td>0.920</td>\n",
       "      <td>0.924382</td>\n",
       "      <td>1.0</td>\n",
       "      <td>0.70939</td>\n",
       "      <td>2.0</td>\n",
       "      <td>0.012685</td>\n",
       "      <td>10.0</td>\n",
       "      <td>0.515651</td>\n",
       "      <td>0.845140</td>\n",
       "      <td>0.156837</td>\n",
       "      <td>31</td>\n",
       "    </tr>\n",
       "    <tr>\n",
       "      <th>6069</th>\n",
       "      <td>0.002636</td>\n",
       "      <td>0.698</td>\n",
       "      <td>0.924382</td>\n",
       "      <td>0.0</td>\n",
       "      <td>0.70939</td>\n",
       "      <td>2.0</td>\n",
       "      <td>0.907578</td>\n",
       "      <td>1.0</td>\n",
       "      <td>0.515651</td>\n",
       "      <td>0.845140</td>\n",
       "      <td>0.449094</td>\n",
       "      <td>63</td>\n",
       "    </tr>\n",
       "  </tbody>\n",
       "</table>\n",
       "<p>6070 rows × 12 columns</p>\n",
       "</div>"
      ],
      "text/plain": [
       "          city  city_development_index    gender  relevent_experience  \\\n",
       "0     0.009061                   0.899  0.066886                  1.0   \n",
       "1     0.004613                   0.836  0.924382                  0.0   \n",
       "2     0.056178                   0.926  0.924382                  0.0   \n",
       "3     0.219934                   0.920  0.924382                  1.0   \n",
       "4     0.006755                   0.893  0.924382                  1.0   \n",
       "...        ...                     ...       ...                  ...   \n",
       "6065  0.203295                   0.624  0.924382                  1.0   \n",
       "6066  0.203295                   0.624  0.924382                  1.0   \n",
       "6067  0.042834                   0.920  0.924382                  1.0   \n",
       "6068  0.219934                   0.920  0.924382                  1.0   \n",
       "6069  0.002636                   0.698  0.924382                  0.0   \n",
       "\n",
       "      enrolled_university  education_level  major_discipline  experience  \\\n",
       "0                 0.06112              2.0          0.907578         5.0   \n",
       "1                 0.70939              1.0          0.907578         9.0   \n",
       "2                 0.70939              3.0          0.907578        21.0   \n",
       "3                 0.70939              2.0          0.907578        21.0   \n",
       "4                 0.06112              1.0          0.907578        21.0   \n",
       "...                   ...              ...               ...         ...   \n",
       "6065              0.70939              2.0          0.907578         3.0   \n",
       "6066              0.70939              2.0          0.907578        21.0   \n",
       "6067              0.70939              2.0          0.907578        10.0   \n",
       "6068              0.70939              2.0          0.012685        10.0   \n",
       "6069              0.70939              2.0          0.907578         1.0   \n",
       "\n",
       "      company_size  company_type  last_new_job  training_hours  \n",
       "0         0.103130      0.845140      0.054860              69  \n",
       "1         0.515651      0.845140      0.136409              36  \n",
       "2         0.515651      0.049094      0.156837              15  \n",
       "3         0.072817      0.845140      0.449094              22  \n",
       "4         0.112850      0.845140      0.449094              94  \n",
       "...            ...           ...           ...             ...  \n",
       "6065      0.044646      0.845140      0.449094              80  \n",
       "6066      0.112850      0.845140      0.449094             122  \n",
       "6067      0.103130      0.845140      0.449094              57  \n",
       "6068      0.515651      0.845140      0.156837              31  \n",
       "6069      0.515651      0.845140      0.449094              63  \n",
       "\n",
       "[6070 rows x 12 columns]"
      ]
     },
     "execution_count": 98,
     "metadata": {},
     "output_type": "execute_result"
    }
   ],
   "source": [
    "df_transformado"
   ]
  },
  {
   "cell_type": "markdown",
   "id": "4b445f4b-8697-4115-a1a6-993294b795a6",
   "metadata": {},
   "source": [
    "ESCALADO"
   ]
  },
  {
   "cell_type": "code",
   "execution_count": 60,
   "id": "5c34be69-15d8-402a-ab2b-93d6b0f801e0",
   "metadata": {},
   "outputs": [],
   "source": [
    "Robust = preprocessing.RobustScaler()"
   ]
  },
  {
   "cell_type": "code",
   "execution_count": 112,
   "id": "eead708c-b265-4299-a5ff-2ab2b24cf6fc",
   "metadata": {},
   "outputs": [],
   "source": [
    "df_escalado = pd.DataFrame(Robust.fit_transform(df_transformado), columns=df_transformado.columns)"
   ]
  },
  {
   "cell_type": "code",
   "execution_count": 113,
   "id": "7759c6ef-0797-40bf-aeaa-d5eec091b47b",
   "metadata": {},
   "outputs": [
    {
     "data": {
      "text/html": [
       "<div>\n",
       "<style scoped>\n",
       "    .dataframe tbody tr th:only-of-type {\n",
       "        vertical-align: middle;\n",
       "    }\n",
       "\n",
       "    .dataframe tbody tr th {\n",
       "        vertical-align: top;\n",
       "    }\n",
       "\n",
       "    .dataframe thead th {\n",
       "        text-align: right;\n",
       "    }\n",
       "</style>\n",
       "<table border=\"1\" class=\"dataframe\">\n",
       "  <thead>\n",
       "    <tr style=\"text-align: right;\">\n",
       "      <th></th>\n",
       "      <th>city</th>\n",
       "      <th>city_development_index</th>\n",
       "      <th>gender</th>\n",
       "      <th>relevent_experience</th>\n",
       "      <th>enrolled_university</th>\n",
       "      <th>education_level</th>\n",
       "      <th>major_discipline</th>\n",
       "      <th>experience</th>\n",
       "      <th>company_size</th>\n",
       "      <th>company_type</th>\n",
       "      <th>last_new_job</th>\n",
       "      <th>training_hours</th>\n",
       "    </tr>\n",
       "  </thead>\n",
       "  <tbody>\n",
       "    <tr>\n",
       "      <th>0</th>\n",
       "      <td>-0.242578</td>\n",
       "      <td>0.020270</td>\n",
       "      <td>-0.857496</td>\n",
       "      <td>0.0</td>\n",
       "      <td>-1.350841</td>\n",
       "      <td>0.0</td>\n",
       "      <td>0.0</td>\n",
       "      <td>-0.272727</td>\n",
       "      <td>-0.931548</td>\n",
       "      <td>0.000000</td>\n",
       "      <td>-0.340859</td>\n",
       "      <td>0.338462</td>\n",
       "    </tr>\n",
       "    <tr>\n",
       "      <th>1</th>\n",
       "      <td>-0.265479</td>\n",
       "      <td>-0.192568</td>\n",
       "      <td>0.000000</td>\n",
       "      <td>-1.0</td>\n",
       "      <td>0.000000</td>\n",
       "      <td>-1.0</td>\n",
       "      <td>0.0</td>\n",
       "      <td>0.090909</td>\n",
       "      <td>0.000000</td>\n",
       "      <td>0.000000</td>\n",
       "      <td>-0.068282</td>\n",
       "      <td>-0.169231</td>\n",
       "    </tr>\n",
       "    <tr>\n",
       "      <th>2</th>\n",
       "      <td>0.000000</td>\n",
       "      <td>0.111486</td>\n",
       "      <td>0.000000</td>\n",
       "      <td>-1.0</td>\n",
       "      <td>0.000000</td>\n",
       "      <td>1.0</td>\n",
       "      <td>0.0</td>\n",
       "      <td>1.181818</td>\n",
       "      <td>0.000000</td>\n",
       "      <td>-0.796046</td>\n",
       "      <td>0.000000</td>\n",
       "      <td>-0.492308</td>\n",
       "    </tr>\n",
       "    <tr>\n",
       "      <th>3</th>\n",
       "      <td>0.843087</td>\n",
       "      <td>0.091216</td>\n",
       "      <td>0.000000</td>\n",
       "      <td>0.0</td>\n",
       "      <td>0.000000</td>\n",
       "      <td>0.0</td>\n",
       "      <td>0.0</td>\n",
       "      <td>1.181818</td>\n",
       "      <td>-1.000000</td>\n",
       "      <td>0.000000</td>\n",
       "      <td>0.976872</td>\n",
       "      <td>-0.384615</td>\n",
       "    </tr>\n",
       "    <tr>\n",
       "      <th>4</th>\n",
       "      <td>-0.254453</td>\n",
       "      <td>0.000000</td>\n",
       "      <td>0.000000</td>\n",
       "      <td>0.0</td>\n",
       "      <td>-1.350841</td>\n",
       "      <td>-1.0</td>\n",
       "      <td>0.0</td>\n",
       "      <td>1.181818</td>\n",
       "      <td>-0.909598</td>\n",
       "      <td>0.000000</td>\n",
       "      <td>0.976872</td>\n",
       "      <td>0.723077</td>\n",
       "    </tr>\n",
       "  </tbody>\n",
       "</table>\n",
       "</div>"
      ],
      "text/plain": [
       "       city  city_development_index    gender  relevent_experience  \\\n",
       "0 -0.242578                0.020270 -0.857496                  0.0   \n",
       "1 -0.265479               -0.192568  0.000000                 -1.0   \n",
       "2  0.000000                0.111486  0.000000                 -1.0   \n",
       "3  0.843087                0.091216  0.000000                  0.0   \n",
       "4 -0.254453                0.000000  0.000000                  0.0   \n",
       "\n",
       "   enrolled_university  education_level  major_discipline  experience  \\\n",
       "0            -1.350841              0.0               0.0   -0.272727   \n",
       "1             0.000000             -1.0               0.0    0.090909   \n",
       "2             0.000000              1.0               0.0    1.181818   \n",
       "3             0.000000              0.0               0.0    1.181818   \n",
       "4            -1.350841             -1.0               0.0    1.181818   \n",
       "\n",
       "   company_size  company_type  last_new_job  training_hours  \n",
       "0     -0.931548      0.000000     -0.340859        0.338462  \n",
       "1      0.000000      0.000000     -0.068282       -0.169231  \n",
       "2      0.000000     -0.796046      0.000000       -0.492308  \n",
       "3     -1.000000      0.000000      0.976872       -0.384615  \n",
       "4     -0.909598      0.000000      0.976872        0.723077  "
      ]
     },
     "execution_count": 113,
     "metadata": {},
     "output_type": "execute_result"
    }
   ],
   "source": [
    "df_escalado.head()"
   ]
  },
  {
   "cell_type": "markdown",
   "id": "c7b153c9-594b-4e83-95ba-a87937667534",
   "metadata": {},
   "source": [
    "TESTEO"
   ]
  },
  {
   "cell_type": "code",
   "execution_count": 123,
   "id": "555b5190-b0ba-49f7-a598-3573aa5511a4",
   "metadata": {},
   "outputs": [],
   "source": [
    "df_test=categorico_nulos.fit_transform(X_test)"
   ]
  },
  {
   "cell_type": "code",
   "execution_count": 124,
   "id": "64938b2a-4fac-490d-b432-c2dba886e77d",
   "metadata": {},
   "outputs": [],
   "source": [
    "df_test['relevent_experience']=relevent_experience.fit_transform(df_test[['relevent_experience']])"
   ]
  },
  {
   "cell_type": "code",
   "execution_count": 125,
   "id": "6bf6f0c6-467a-43d3-8513-fcb4bbb11963",
   "metadata": {},
   "outputs": [],
   "source": [
    "df_test['education_level']=education_level.fit_transform(df_test[['education_level']])"
   ]
  },
  {
   "cell_type": "code",
   "execution_count": 126,
   "id": "d7ed6fa8-a27f-467d-be98-aacdd610e2a9",
   "metadata": {},
   "outputs": [],
   "source": [
    "df_test['experience']=exp.fit_transform(df_test[['experience']])"
   ]
  },
  {
   "cell_type": "code",
   "execution_count": 127,
   "id": "70055f73-0dd4-41e6-a3d1-7fdd89e3690b",
   "metadata": {},
   "outputs": [],
   "source": [
    "df_test = categoricas.fit_transform(df_test)"
   ]
  },
  {
   "cell_type": "code",
   "execution_count": 109,
   "id": "e95539c8-0bc1-4dac-b846-1b74be361610",
   "metadata": {},
   "outputs": [
    {
     "data": {
      "text/html": [
       "<div>\n",
       "<style scoped>\n",
       "    .dataframe tbody tr th:only-of-type {\n",
       "        vertical-align: middle;\n",
       "    }\n",
       "\n",
       "    .dataframe tbody tr th {\n",
       "        vertical-align: top;\n",
       "    }\n",
       "\n",
       "    .dataframe thead th {\n",
       "        text-align: right;\n",
       "    }\n",
       "</style>\n",
       "<table border=\"1\" class=\"dataframe\">\n",
       "  <thead>\n",
       "    <tr style=\"text-align: right;\">\n",
       "      <th></th>\n",
       "      <th>city</th>\n",
       "      <th>city_development_index</th>\n",
       "      <th>gender</th>\n",
       "      <th>relevent_experience</th>\n",
       "      <th>enrolled_university</th>\n",
       "      <th>education_level</th>\n",
       "      <th>major_discipline</th>\n",
       "      <th>experience</th>\n",
       "      <th>company_size</th>\n",
       "      <th>company_type</th>\n",
       "      <th>last_new_job</th>\n",
       "      <th>training_hours</th>\n",
       "    </tr>\n",
       "  </thead>\n",
       "  <tbody>\n",
       "    <tr>\n",
       "      <th>8822</th>\n",
       "      <td>0.003262</td>\n",
       "      <td>0.698</td>\n",
       "      <td>0.926288</td>\n",
       "      <td>0.0</td>\n",
       "      <td>0.197326</td>\n",
       "      <td>2.0</td>\n",
       "      <td>0.903131</td>\n",
       "      <td>5.0</td>\n",
       "      <td>0.469015</td>\n",
       "      <td>0.828767</td>\n",
       "      <td>0.126549</td>\n",
       "      <td>17</td>\n",
       "    </tr>\n",
       "    <tr>\n",
       "      <th>6028</th>\n",
       "      <td>0.040444</td>\n",
       "      <td>0.920</td>\n",
       "      <td>0.926288</td>\n",
       "      <td>0.0</td>\n",
       "      <td>0.197326</td>\n",
       "      <td>3.0</td>\n",
       "      <td>0.022179</td>\n",
       "      <td>17.0</td>\n",
       "      <td>0.105349</td>\n",
       "      <td>0.054795</td>\n",
       "      <td>0.446510</td>\n",
       "      <td>66</td>\n",
       "    </tr>\n",
       "  </tbody>\n",
       "</table>\n",
       "</div>"
      ],
      "text/plain": [
       "          city  city_development_index    gender  relevent_experience  \\\n",
       "8822  0.003262                   0.698  0.926288                  0.0   \n",
       "6028  0.040444                   0.920  0.926288                  0.0   \n",
       "\n",
       "      enrolled_university  education_level  major_discipline  experience  \\\n",
       "8822             0.197326              2.0          0.903131         5.0   \n",
       "6028             0.197326              3.0          0.022179        17.0   \n",
       "\n",
       "      company_size  company_type  last_new_job  training_hours  \n",
       "8822      0.469015      0.828767      0.126549              17  \n",
       "6028      0.105349      0.054795      0.446510              66  "
      ]
     },
     "execution_count": 109,
     "metadata": {},
     "output_type": "execute_result"
    }
   ],
   "source": [
    "df_test.head(2)"
   ]
  },
  {
   "cell_type": "code",
   "execution_count": 114,
   "id": "7c931740-d162-4639-8fff-6c520a89b688",
   "metadata": {},
   "outputs": [],
   "source": [
    "df_test = pd.DataFrame(Robust.transform(df_test), columns=df_test.columns)"
   ]
  },
  {
   "cell_type": "markdown",
   "id": "3962ad8e-9690-4a7f-94b0-c972f54d6dcf",
   "metadata": {
    "tags": []
   },
   "source": [
    "# MODELO"
   ]
  },
  {
   "cell_type": "code",
   "execution_count": 26,
   "id": "12c530aa-2776-4460-93ec-bf6bcd533763",
   "metadata": {},
   "outputs": [],
   "source": [
    "from sklearn.model_selection import GridSearchCV"
   ]
  },
  {
   "cell_type": "code",
   "execution_count": 66,
   "id": "3710fa12-73e2-4591-b8a0-d857ba3c7fa9",
   "metadata": {},
   "outputs": [],
   "source": [
    "forest_grid = RandomForestClassifier()\n",
    "params = {'n_estimators':[10,25, 50,75, 100], 'max_depth':[3, 10, 15,20]}\n",
    "gridForest = GridSearchCV(forest_grid, params)"
   ]
  },
  {
   "cell_type": "code",
   "execution_count": 99,
   "id": "1226d85d-b78b-456d-ba29-da3cad87c0fa",
   "metadata": {},
   "outputs": [
    {
     "data": {
      "text/html": [
       "<style>#sk-container-id-12 {color: black;background-color: white;}#sk-container-id-12 pre{padding: 0;}#sk-container-id-12 div.sk-toggleable {background-color: white;}#sk-container-id-12 label.sk-toggleable__label {cursor: pointer;display: block;width: 100%;margin-bottom: 0;padding: 0.3em;box-sizing: border-box;text-align: center;}#sk-container-id-12 label.sk-toggleable__label-arrow:before {content: \"▸\";float: left;margin-right: 0.25em;color: #696969;}#sk-container-id-12 label.sk-toggleable__label-arrow:hover:before {color: black;}#sk-container-id-12 div.sk-estimator:hover label.sk-toggleable__label-arrow:before {color: black;}#sk-container-id-12 div.sk-toggleable__content {max-height: 0;max-width: 0;overflow: hidden;text-align: left;background-color: #f0f8ff;}#sk-container-id-12 div.sk-toggleable__content pre {margin: 0.2em;color: black;border-radius: 0.25em;background-color: #f0f8ff;}#sk-container-id-12 input.sk-toggleable__control:checked~div.sk-toggleable__content {max-height: 200px;max-width: 100%;overflow: auto;}#sk-container-id-12 input.sk-toggleable__control:checked~label.sk-toggleable__label-arrow:before {content: \"▾\";}#sk-container-id-12 div.sk-estimator input.sk-toggleable__control:checked~label.sk-toggleable__label {background-color: #d4ebff;}#sk-container-id-12 div.sk-label input.sk-toggleable__control:checked~label.sk-toggleable__label {background-color: #d4ebff;}#sk-container-id-12 input.sk-hidden--visually {border: 0;clip: rect(1px 1px 1px 1px);clip: rect(1px, 1px, 1px, 1px);height: 1px;margin: -1px;overflow: hidden;padding: 0;position: absolute;width: 1px;}#sk-container-id-12 div.sk-estimator {font-family: monospace;background-color: #f0f8ff;border: 1px dotted black;border-radius: 0.25em;box-sizing: border-box;margin-bottom: 0.5em;}#sk-container-id-12 div.sk-estimator:hover {background-color: #d4ebff;}#sk-container-id-12 div.sk-parallel-item::after {content: \"\";width: 100%;border-bottom: 1px solid gray;flex-grow: 1;}#sk-container-id-12 div.sk-label:hover label.sk-toggleable__label {background-color: #d4ebff;}#sk-container-id-12 div.sk-serial::before {content: \"\";position: absolute;border-left: 1px solid gray;box-sizing: border-box;top: 0;bottom: 0;left: 50%;z-index: 0;}#sk-container-id-12 div.sk-serial {display: flex;flex-direction: column;align-items: center;background-color: white;padding-right: 0.2em;padding-left: 0.2em;position: relative;}#sk-container-id-12 div.sk-item {position: relative;z-index: 1;}#sk-container-id-12 div.sk-parallel {display: flex;align-items: stretch;justify-content: center;background-color: white;position: relative;}#sk-container-id-12 div.sk-item::before, #sk-container-id-12 div.sk-parallel-item::before {content: \"\";position: absolute;border-left: 1px solid gray;box-sizing: border-box;top: 0;bottom: 0;left: 50%;z-index: -1;}#sk-container-id-12 div.sk-parallel-item {display: flex;flex-direction: column;z-index: 1;position: relative;background-color: white;}#sk-container-id-12 div.sk-parallel-item:first-child::after {align-self: flex-end;width: 50%;}#sk-container-id-12 div.sk-parallel-item:last-child::after {align-self: flex-start;width: 50%;}#sk-container-id-12 div.sk-parallel-item:only-child::after {width: 0;}#sk-container-id-12 div.sk-dashed-wrapped {border: 1px dashed gray;margin: 0 0.4em 0.5em 0.4em;box-sizing: border-box;padding-bottom: 0.4em;background-color: white;}#sk-container-id-12 div.sk-label label {font-family: monospace;font-weight: bold;display: inline-block;line-height: 1.2em;}#sk-container-id-12 div.sk-label-container {text-align: center;}#sk-container-id-12 div.sk-container {/* jupyter's `normalize.less` sets `[hidden] { display: none; }` but bootstrap.min.css set `[hidden] { display: none !important; }` so we also need the `!important` here to be able to override the default hidden behavior on the sphinx rendered scikit-learn.org. See: https://github.com/scikit-learn/scikit-learn/issues/21755 */display: inline-block !important;position: relative;}#sk-container-id-12 div.sk-text-repr-fallback {display: none;}</style><div id=\"sk-container-id-12\" class=\"sk-top-container\"><div class=\"sk-text-repr-fallback\"><pre>GridSearchCV(estimator=RandomForestClassifier(),\n",
       "             param_grid={&#x27;max_depth&#x27;: [3, 10, 15, 20],\n",
       "                         &#x27;n_estimators&#x27;: [10, 25, 50, 75, 100]})</pre><b>In a Jupyter environment, please rerun this cell to show the HTML representation or trust the notebook. <br />On GitHub, the HTML representation is unable to render, please try loading this page with nbviewer.org.</b></div><div class=\"sk-container\" hidden><div class=\"sk-item sk-dashed-wrapped\"><div class=\"sk-label-container\"><div class=\"sk-label sk-toggleable\"><input class=\"sk-toggleable__control sk-hidden--visually\" id=\"sk-estimator-id-20\" type=\"checkbox\" ><label for=\"sk-estimator-id-20\" class=\"sk-toggleable__label sk-toggleable__label-arrow\">GridSearchCV</label><div class=\"sk-toggleable__content\"><pre>GridSearchCV(estimator=RandomForestClassifier(),\n",
       "             param_grid={&#x27;max_depth&#x27;: [3, 10, 15, 20],\n",
       "                         &#x27;n_estimators&#x27;: [10, 25, 50, 75, 100]})</pre></div></div></div><div class=\"sk-parallel\"><div class=\"sk-parallel-item\"><div class=\"sk-item\"><div class=\"sk-label-container\"><div class=\"sk-label sk-toggleable\"><input class=\"sk-toggleable__control sk-hidden--visually\" id=\"sk-estimator-id-21\" type=\"checkbox\" ><label for=\"sk-estimator-id-21\" class=\"sk-toggleable__label sk-toggleable__label-arrow\">estimator: RandomForestClassifier</label><div class=\"sk-toggleable__content\"><pre>RandomForestClassifier()</pre></div></div></div><div class=\"sk-serial\"><div class=\"sk-item\"><div class=\"sk-estimator sk-toggleable\"><input class=\"sk-toggleable__control sk-hidden--visually\" id=\"sk-estimator-id-22\" type=\"checkbox\" ><label for=\"sk-estimator-id-22\" class=\"sk-toggleable__label sk-toggleable__label-arrow\">RandomForestClassifier</label><div class=\"sk-toggleable__content\"><pre>RandomForestClassifier()</pre></div></div></div></div></div></div></div></div></div></div>"
      ],
      "text/plain": [
       "GridSearchCV(estimator=RandomForestClassifier(),\n",
       "             param_grid={'max_depth': [3, 10, 15, 20],\n",
       "                         'n_estimators': [10, 25, 50, 75, 100]})"
      ]
     },
     "execution_count": 99,
     "metadata": {},
     "output_type": "execute_result"
    }
   ],
   "source": [
    "gridForest.fit(df_transformado, y_train_under)"
   ]
  },
  {
   "cell_type": "code",
   "execution_count": 100,
   "id": "8b4937ef-bcf0-4292-826b-2d1ae903554e",
   "metadata": {},
   "outputs": [
    {
     "data": {
      "text/html": [
       "<style>#sk-container-id-13 {color: black;background-color: white;}#sk-container-id-13 pre{padding: 0;}#sk-container-id-13 div.sk-toggleable {background-color: white;}#sk-container-id-13 label.sk-toggleable__label {cursor: pointer;display: block;width: 100%;margin-bottom: 0;padding: 0.3em;box-sizing: border-box;text-align: center;}#sk-container-id-13 label.sk-toggleable__label-arrow:before {content: \"▸\";float: left;margin-right: 0.25em;color: #696969;}#sk-container-id-13 label.sk-toggleable__label-arrow:hover:before {color: black;}#sk-container-id-13 div.sk-estimator:hover label.sk-toggleable__label-arrow:before {color: black;}#sk-container-id-13 div.sk-toggleable__content {max-height: 0;max-width: 0;overflow: hidden;text-align: left;background-color: #f0f8ff;}#sk-container-id-13 div.sk-toggleable__content pre {margin: 0.2em;color: black;border-radius: 0.25em;background-color: #f0f8ff;}#sk-container-id-13 input.sk-toggleable__control:checked~div.sk-toggleable__content {max-height: 200px;max-width: 100%;overflow: auto;}#sk-container-id-13 input.sk-toggleable__control:checked~label.sk-toggleable__label-arrow:before {content: \"▾\";}#sk-container-id-13 div.sk-estimator input.sk-toggleable__control:checked~label.sk-toggleable__label {background-color: #d4ebff;}#sk-container-id-13 div.sk-label input.sk-toggleable__control:checked~label.sk-toggleable__label {background-color: #d4ebff;}#sk-container-id-13 input.sk-hidden--visually {border: 0;clip: rect(1px 1px 1px 1px);clip: rect(1px, 1px, 1px, 1px);height: 1px;margin: -1px;overflow: hidden;padding: 0;position: absolute;width: 1px;}#sk-container-id-13 div.sk-estimator {font-family: monospace;background-color: #f0f8ff;border: 1px dotted black;border-radius: 0.25em;box-sizing: border-box;margin-bottom: 0.5em;}#sk-container-id-13 div.sk-estimator:hover {background-color: #d4ebff;}#sk-container-id-13 div.sk-parallel-item::after {content: \"\";width: 100%;border-bottom: 1px solid gray;flex-grow: 1;}#sk-container-id-13 div.sk-label:hover label.sk-toggleable__label {background-color: #d4ebff;}#sk-container-id-13 div.sk-serial::before {content: \"\";position: absolute;border-left: 1px solid gray;box-sizing: border-box;top: 0;bottom: 0;left: 50%;z-index: 0;}#sk-container-id-13 div.sk-serial {display: flex;flex-direction: column;align-items: center;background-color: white;padding-right: 0.2em;padding-left: 0.2em;position: relative;}#sk-container-id-13 div.sk-item {position: relative;z-index: 1;}#sk-container-id-13 div.sk-parallel {display: flex;align-items: stretch;justify-content: center;background-color: white;position: relative;}#sk-container-id-13 div.sk-item::before, #sk-container-id-13 div.sk-parallel-item::before {content: \"\";position: absolute;border-left: 1px solid gray;box-sizing: border-box;top: 0;bottom: 0;left: 50%;z-index: -1;}#sk-container-id-13 div.sk-parallel-item {display: flex;flex-direction: column;z-index: 1;position: relative;background-color: white;}#sk-container-id-13 div.sk-parallel-item:first-child::after {align-self: flex-end;width: 50%;}#sk-container-id-13 div.sk-parallel-item:last-child::after {align-self: flex-start;width: 50%;}#sk-container-id-13 div.sk-parallel-item:only-child::after {width: 0;}#sk-container-id-13 div.sk-dashed-wrapped {border: 1px dashed gray;margin: 0 0.4em 0.5em 0.4em;box-sizing: border-box;padding-bottom: 0.4em;background-color: white;}#sk-container-id-13 div.sk-label label {font-family: monospace;font-weight: bold;display: inline-block;line-height: 1.2em;}#sk-container-id-13 div.sk-label-container {text-align: center;}#sk-container-id-13 div.sk-container {/* jupyter's `normalize.less` sets `[hidden] { display: none; }` but bootstrap.min.css set `[hidden] { display: none !important; }` so we also need the `!important` here to be able to override the default hidden behavior on the sphinx rendered scikit-learn.org. See: https://github.com/scikit-learn/scikit-learn/issues/21755 */display: inline-block !important;position: relative;}#sk-container-id-13 div.sk-text-repr-fallback {display: none;}</style><div id=\"sk-container-id-13\" class=\"sk-top-container\"><div class=\"sk-text-repr-fallback\"><pre>RandomForestClassifier(max_depth=10, n_estimators=75)</pre><b>In a Jupyter environment, please rerun this cell to show the HTML representation or trust the notebook. <br />On GitHub, the HTML representation is unable to render, please try loading this page with nbviewer.org.</b></div><div class=\"sk-container\" hidden><div class=\"sk-item\"><div class=\"sk-estimator sk-toggleable\"><input class=\"sk-toggleable__control sk-hidden--visually\" id=\"sk-estimator-id-23\" type=\"checkbox\" checked><label for=\"sk-estimator-id-23\" class=\"sk-toggleable__label sk-toggleable__label-arrow\">RandomForestClassifier</label><div class=\"sk-toggleable__content\"><pre>RandomForestClassifier(max_depth=10, n_estimators=75)</pre></div></div></div></div></div>"
      ],
      "text/plain": [
       "RandomForestClassifier(max_depth=10, n_estimators=75)"
      ]
     },
     "execution_count": 100,
     "metadata": {},
     "output_type": "execute_result"
    }
   ],
   "source": [
    "gridForest.best_estimator_"
   ]
  },
  {
   "cell_type": "code",
   "execution_count": 158,
   "id": "1f744b37-37cd-4c2d-8057-aea0483dd46d",
   "metadata": {},
   "outputs": [],
   "source": [
    "Forest = RandomForestClassifier()"
   ]
  },
  {
   "cell_type": "code",
   "execution_count": 159,
   "id": "6d3495b6-b89a-4ab6-a445-42c9bba7e34d",
   "metadata": {},
   "outputs": [
    {
     "data": {
      "text/html": [
       "<style>#sk-container-id-19 {color: black;background-color: white;}#sk-container-id-19 pre{padding: 0;}#sk-container-id-19 div.sk-toggleable {background-color: white;}#sk-container-id-19 label.sk-toggleable__label {cursor: pointer;display: block;width: 100%;margin-bottom: 0;padding: 0.3em;box-sizing: border-box;text-align: center;}#sk-container-id-19 label.sk-toggleable__label-arrow:before {content: \"▸\";float: left;margin-right: 0.25em;color: #696969;}#sk-container-id-19 label.sk-toggleable__label-arrow:hover:before {color: black;}#sk-container-id-19 div.sk-estimator:hover label.sk-toggleable__label-arrow:before {color: black;}#sk-container-id-19 div.sk-toggleable__content {max-height: 0;max-width: 0;overflow: hidden;text-align: left;background-color: #f0f8ff;}#sk-container-id-19 div.sk-toggleable__content pre {margin: 0.2em;color: black;border-radius: 0.25em;background-color: #f0f8ff;}#sk-container-id-19 input.sk-toggleable__control:checked~div.sk-toggleable__content {max-height: 200px;max-width: 100%;overflow: auto;}#sk-container-id-19 input.sk-toggleable__control:checked~label.sk-toggleable__label-arrow:before {content: \"▾\";}#sk-container-id-19 div.sk-estimator input.sk-toggleable__control:checked~label.sk-toggleable__label {background-color: #d4ebff;}#sk-container-id-19 div.sk-label input.sk-toggleable__control:checked~label.sk-toggleable__label {background-color: #d4ebff;}#sk-container-id-19 input.sk-hidden--visually {border: 0;clip: rect(1px 1px 1px 1px);clip: rect(1px, 1px, 1px, 1px);height: 1px;margin: -1px;overflow: hidden;padding: 0;position: absolute;width: 1px;}#sk-container-id-19 div.sk-estimator {font-family: monospace;background-color: #f0f8ff;border: 1px dotted black;border-radius: 0.25em;box-sizing: border-box;margin-bottom: 0.5em;}#sk-container-id-19 div.sk-estimator:hover {background-color: #d4ebff;}#sk-container-id-19 div.sk-parallel-item::after {content: \"\";width: 100%;border-bottom: 1px solid gray;flex-grow: 1;}#sk-container-id-19 div.sk-label:hover label.sk-toggleable__label {background-color: #d4ebff;}#sk-container-id-19 div.sk-serial::before {content: \"\";position: absolute;border-left: 1px solid gray;box-sizing: border-box;top: 0;bottom: 0;left: 50%;z-index: 0;}#sk-container-id-19 div.sk-serial {display: flex;flex-direction: column;align-items: center;background-color: white;padding-right: 0.2em;padding-left: 0.2em;position: relative;}#sk-container-id-19 div.sk-item {position: relative;z-index: 1;}#sk-container-id-19 div.sk-parallel {display: flex;align-items: stretch;justify-content: center;background-color: white;position: relative;}#sk-container-id-19 div.sk-item::before, #sk-container-id-19 div.sk-parallel-item::before {content: \"\";position: absolute;border-left: 1px solid gray;box-sizing: border-box;top: 0;bottom: 0;left: 50%;z-index: -1;}#sk-container-id-19 div.sk-parallel-item {display: flex;flex-direction: column;z-index: 1;position: relative;background-color: white;}#sk-container-id-19 div.sk-parallel-item:first-child::after {align-self: flex-end;width: 50%;}#sk-container-id-19 div.sk-parallel-item:last-child::after {align-self: flex-start;width: 50%;}#sk-container-id-19 div.sk-parallel-item:only-child::after {width: 0;}#sk-container-id-19 div.sk-dashed-wrapped {border: 1px dashed gray;margin: 0 0.4em 0.5em 0.4em;box-sizing: border-box;padding-bottom: 0.4em;background-color: white;}#sk-container-id-19 div.sk-label label {font-family: monospace;font-weight: bold;display: inline-block;line-height: 1.2em;}#sk-container-id-19 div.sk-label-container {text-align: center;}#sk-container-id-19 div.sk-container {/* jupyter's `normalize.less` sets `[hidden] { display: none; }` but bootstrap.min.css set `[hidden] { display: none !important; }` so we also need the `!important` here to be able to override the default hidden behavior on the sphinx rendered scikit-learn.org. See: https://github.com/scikit-learn/scikit-learn/issues/21755 */display: inline-block !important;position: relative;}#sk-container-id-19 div.sk-text-repr-fallback {display: none;}</style><div id=\"sk-container-id-19\" class=\"sk-top-container\"><div class=\"sk-text-repr-fallback\"><pre>RandomForestClassifier()</pre><b>In a Jupyter environment, please rerun this cell to show the HTML representation or trust the notebook. <br />On GitHub, the HTML representation is unable to render, please try loading this page with nbviewer.org.</b></div><div class=\"sk-container\" hidden><div class=\"sk-item\"><div class=\"sk-estimator sk-toggleable\"><input class=\"sk-toggleable__control sk-hidden--visually\" id=\"sk-estimator-id-31\" type=\"checkbox\" checked><label for=\"sk-estimator-id-31\" class=\"sk-toggleable__label sk-toggleable__label-arrow\">RandomForestClassifier</label><div class=\"sk-toggleable__content\"><pre>RandomForestClassifier()</pre></div></div></div></div></div>"
      ],
      "text/plain": [
       "RandomForestClassifier()"
      ]
     },
     "execution_count": 159,
     "metadata": {},
     "output_type": "execute_result"
    }
   ],
   "source": [
    "Forest.fit(df_transformado, y_train_under)"
   ]
  },
  {
   "cell_type": "code",
   "execution_count": 160,
   "id": "29445958-b11b-4245-92b1-6e3f3132a1b6",
   "metadata": {},
   "outputs": [
    {
     "data": {
      "text/plain": [
       "0.999505766062603"
      ]
     },
     "execution_count": 160,
     "metadata": {},
     "output_type": "execute_result"
    }
   ],
   "source": [
    "Forest.score(df_transformado, y_train_under)"
   ]
  },
  {
   "cell_type": "code",
   "execution_count": 161,
   "id": "7ac882ec-3c74-44cc-a851-8238e34949de",
   "metadata": {},
   "outputs": [
    {
     "data": {
      "text/plain": [
       "0.7345075016307893"
      ]
     },
     "execution_count": 161,
     "metadata": {},
     "output_type": "execute_result"
    }
   ],
   "source": [
    "Forest.score(df_test, y_test)"
   ]
  },
  {
   "cell_type": "markdown",
   "id": "9d03fb2a-b95b-4893-8996-f089613b9a1d",
   "metadata": {},
   "source": [
    "VERIOSN ROBUST ESCALE"
   ]
  },
  {
   "cell_type": "code",
   "execution_count": 115,
   "id": "1ef82289-cf7d-44f4-8b3d-6d3bcfd7ede2",
   "metadata": {},
   "outputs": [
    {
     "data": {
      "text/html": [
       "<style>#sk-container-id-15 {color: black;background-color: white;}#sk-container-id-15 pre{padding: 0;}#sk-container-id-15 div.sk-toggleable {background-color: white;}#sk-container-id-15 label.sk-toggleable__label {cursor: pointer;display: block;width: 100%;margin-bottom: 0;padding: 0.3em;box-sizing: border-box;text-align: center;}#sk-container-id-15 label.sk-toggleable__label-arrow:before {content: \"▸\";float: left;margin-right: 0.25em;color: #696969;}#sk-container-id-15 label.sk-toggleable__label-arrow:hover:before {color: black;}#sk-container-id-15 div.sk-estimator:hover label.sk-toggleable__label-arrow:before {color: black;}#sk-container-id-15 div.sk-toggleable__content {max-height: 0;max-width: 0;overflow: hidden;text-align: left;background-color: #f0f8ff;}#sk-container-id-15 div.sk-toggleable__content pre {margin: 0.2em;color: black;border-radius: 0.25em;background-color: #f0f8ff;}#sk-container-id-15 input.sk-toggleable__control:checked~div.sk-toggleable__content {max-height: 200px;max-width: 100%;overflow: auto;}#sk-container-id-15 input.sk-toggleable__control:checked~label.sk-toggleable__label-arrow:before {content: \"▾\";}#sk-container-id-15 div.sk-estimator input.sk-toggleable__control:checked~label.sk-toggleable__label {background-color: #d4ebff;}#sk-container-id-15 div.sk-label input.sk-toggleable__control:checked~label.sk-toggleable__label {background-color: #d4ebff;}#sk-container-id-15 input.sk-hidden--visually {border: 0;clip: rect(1px 1px 1px 1px);clip: rect(1px, 1px, 1px, 1px);height: 1px;margin: -1px;overflow: hidden;padding: 0;position: absolute;width: 1px;}#sk-container-id-15 div.sk-estimator {font-family: monospace;background-color: #f0f8ff;border: 1px dotted black;border-radius: 0.25em;box-sizing: border-box;margin-bottom: 0.5em;}#sk-container-id-15 div.sk-estimator:hover {background-color: #d4ebff;}#sk-container-id-15 div.sk-parallel-item::after {content: \"\";width: 100%;border-bottom: 1px solid gray;flex-grow: 1;}#sk-container-id-15 div.sk-label:hover label.sk-toggleable__label {background-color: #d4ebff;}#sk-container-id-15 div.sk-serial::before {content: \"\";position: absolute;border-left: 1px solid gray;box-sizing: border-box;top: 0;bottom: 0;left: 50%;z-index: 0;}#sk-container-id-15 div.sk-serial {display: flex;flex-direction: column;align-items: center;background-color: white;padding-right: 0.2em;padding-left: 0.2em;position: relative;}#sk-container-id-15 div.sk-item {position: relative;z-index: 1;}#sk-container-id-15 div.sk-parallel {display: flex;align-items: stretch;justify-content: center;background-color: white;position: relative;}#sk-container-id-15 div.sk-item::before, #sk-container-id-15 div.sk-parallel-item::before {content: \"\";position: absolute;border-left: 1px solid gray;box-sizing: border-box;top: 0;bottom: 0;left: 50%;z-index: -1;}#sk-container-id-15 div.sk-parallel-item {display: flex;flex-direction: column;z-index: 1;position: relative;background-color: white;}#sk-container-id-15 div.sk-parallel-item:first-child::after {align-self: flex-end;width: 50%;}#sk-container-id-15 div.sk-parallel-item:last-child::after {align-self: flex-start;width: 50%;}#sk-container-id-15 div.sk-parallel-item:only-child::after {width: 0;}#sk-container-id-15 div.sk-dashed-wrapped {border: 1px dashed gray;margin: 0 0.4em 0.5em 0.4em;box-sizing: border-box;padding-bottom: 0.4em;background-color: white;}#sk-container-id-15 div.sk-label label {font-family: monospace;font-weight: bold;display: inline-block;line-height: 1.2em;}#sk-container-id-15 div.sk-label-container {text-align: center;}#sk-container-id-15 div.sk-container {/* jupyter's `normalize.less` sets `[hidden] { display: none; }` but bootstrap.min.css set `[hidden] { display: none !important; }` so we also need the `!important` here to be able to override the default hidden behavior on the sphinx rendered scikit-learn.org. See: https://github.com/scikit-learn/scikit-learn/issues/21755 */display: inline-block !important;position: relative;}#sk-container-id-15 div.sk-text-repr-fallback {display: none;}</style><div id=\"sk-container-id-15\" class=\"sk-top-container\"><div class=\"sk-text-repr-fallback\"><pre>GridSearchCV(estimator=RandomForestClassifier(),\n",
       "             param_grid={&#x27;max_depth&#x27;: [3, 10, 15, 20],\n",
       "                         &#x27;n_estimators&#x27;: [10, 25, 50, 75, 100]})</pre><b>In a Jupyter environment, please rerun this cell to show the HTML representation or trust the notebook. <br />On GitHub, the HTML representation is unable to render, please try loading this page with nbviewer.org.</b></div><div class=\"sk-container\" hidden><div class=\"sk-item sk-dashed-wrapped\"><div class=\"sk-label-container\"><div class=\"sk-label sk-toggleable\"><input class=\"sk-toggleable__control sk-hidden--visually\" id=\"sk-estimator-id-25\" type=\"checkbox\" ><label for=\"sk-estimator-id-25\" class=\"sk-toggleable__label sk-toggleable__label-arrow\">GridSearchCV</label><div class=\"sk-toggleable__content\"><pre>GridSearchCV(estimator=RandomForestClassifier(),\n",
       "             param_grid={&#x27;max_depth&#x27;: [3, 10, 15, 20],\n",
       "                         &#x27;n_estimators&#x27;: [10, 25, 50, 75, 100]})</pre></div></div></div><div class=\"sk-parallel\"><div class=\"sk-parallel-item\"><div class=\"sk-item\"><div class=\"sk-label-container\"><div class=\"sk-label sk-toggleable\"><input class=\"sk-toggleable__control sk-hidden--visually\" id=\"sk-estimator-id-26\" type=\"checkbox\" ><label for=\"sk-estimator-id-26\" class=\"sk-toggleable__label sk-toggleable__label-arrow\">estimator: RandomForestClassifier</label><div class=\"sk-toggleable__content\"><pre>RandomForestClassifier()</pre></div></div></div><div class=\"sk-serial\"><div class=\"sk-item\"><div class=\"sk-estimator sk-toggleable\"><input class=\"sk-toggleable__control sk-hidden--visually\" id=\"sk-estimator-id-27\" type=\"checkbox\" ><label for=\"sk-estimator-id-27\" class=\"sk-toggleable__label sk-toggleable__label-arrow\">RandomForestClassifier</label><div class=\"sk-toggleable__content\"><pre>RandomForestClassifier()</pre></div></div></div></div></div></div></div></div></div></div>"
      ],
      "text/plain": [
       "GridSearchCV(estimator=RandomForestClassifier(),\n",
       "             param_grid={'max_depth': [3, 10, 15, 20],\n",
       "                         'n_estimators': [10, 25, 50, 75, 100]})"
      ]
     },
     "execution_count": 115,
     "metadata": {},
     "output_type": "execute_result"
    }
   ],
   "source": [
    "gridForest.fit(df_escalado, y_train_under)"
   ]
  },
  {
   "cell_type": "code",
   "execution_count": 116,
   "id": "74ef4a30-aad4-4e58-966b-d59d9ef59bc4",
   "metadata": {},
   "outputs": [
    {
     "data": {
      "text/html": [
       "<style>#sk-container-id-16 {color: black;background-color: white;}#sk-container-id-16 pre{padding: 0;}#sk-container-id-16 div.sk-toggleable {background-color: white;}#sk-container-id-16 label.sk-toggleable__label {cursor: pointer;display: block;width: 100%;margin-bottom: 0;padding: 0.3em;box-sizing: border-box;text-align: center;}#sk-container-id-16 label.sk-toggleable__label-arrow:before {content: \"▸\";float: left;margin-right: 0.25em;color: #696969;}#sk-container-id-16 label.sk-toggleable__label-arrow:hover:before {color: black;}#sk-container-id-16 div.sk-estimator:hover label.sk-toggleable__label-arrow:before {color: black;}#sk-container-id-16 div.sk-toggleable__content {max-height: 0;max-width: 0;overflow: hidden;text-align: left;background-color: #f0f8ff;}#sk-container-id-16 div.sk-toggleable__content pre {margin: 0.2em;color: black;border-radius: 0.25em;background-color: #f0f8ff;}#sk-container-id-16 input.sk-toggleable__control:checked~div.sk-toggleable__content {max-height: 200px;max-width: 100%;overflow: auto;}#sk-container-id-16 input.sk-toggleable__control:checked~label.sk-toggleable__label-arrow:before {content: \"▾\";}#sk-container-id-16 div.sk-estimator input.sk-toggleable__control:checked~label.sk-toggleable__label {background-color: #d4ebff;}#sk-container-id-16 div.sk-label input.sk-toggleable__control:checked~label.sk-toggleable__label {background-color: #d4ebff;}#sk-container-id-16 input.sk-hidden--visually {border: 0;clip: rect(1px 1px 1px 1px);clip: rect(1px, 1px, 1px, 1px);height: 1px;margin: -1px;overflow: hidden;padding: 0;position: absolute;width: 1px;}#sk-container-id-16 div.sk-estimator {font-family: monospace;background-color: #f0f8ff;border: 1px dotted black;border-radius: 0.25em;box-sizing: border-box;margin-bottom: 0.5em;}#sk-container-id-16 div.sk-estimator:hover {background-color: #d4ebff;}#sk-container-id-16 div.sk-parallel-item::after {content: \"\";width: 100%;border-bottom: 1px solid gray;flex-grow: 1;}#sk-container-id-16 div.sk-label:hover label.sk-toggleable__label {background-color: #d4ebff;}#sk-container-id-16 div.sk-serial::before {content: \"\";position: absolute;border-left: 1px solid gray;box-sizing: border-box;top: 0;bottom: 0;left: 50%;z-index: 0;}#sk-container-id-16 div.sk-serial {display: flex;flex-direction: column;align-items: center;background-color: white;padding-right: 0.2em;padding-left: 0.2em;position: relative;}#sk-container-id-16 div.sk-item {position: relative;z-index: 1;}#sk-container-id-16 div.sk-parallel {display: flex;align-items: stretch;justify-content: center;background-color: white;position: relative;}#sk-container-id-16 div.sk-item::before, #sk-container-id-16 div.sk-parallel-item::before {content: \"\";position: absolute;border-left: 1px solid gray;box-sizing: border-box;top: 0;bottom: 0;left: 50%;z-index: -1;}#sk-container-id-16 div.sk-parallel-item {display: flex;flex-direction: column;z-index: 1;position: relative;background-color: white;}#sk-container-id-16 div.sk-parallel-item:first-child::after {align-self: flex-end;width: 50%;}#sk-container-id-16 div.sk-parallel-item:last-child::after {align-self: flex-start;width: 50%;}#sk-container-id-16 div.sk-parallel-item:only-child::after {width: 0;}#sk-container-id-16 div.sk-dashed-wrapped {border: 1px dashed gray;margin: 0 0.4em 0.5em 0.4em;box-sizing: border-box;padding-bottom: 0.4em;background-color: white;}#sk-container-id-16 div.sk-label label {font-family: monospace;font-weight: bold;display: inline-block;line-height: 1.2em;}#sk-container-id-16 div.sk-label-container {text-align: center;}#sk-container-id-16 div.sk-container {/* jupyter's `normalize.less` sets `[hidden] { display: none; }` but bootstrap.min.css set `[hidden] { display: none !important; }` so we also need the `!important` here to be able to override the default hidden behavior on the sphinx rendered scikit-learn.org. See: https://github.com/scikit-learn/scikit-learn/issues/21755 */display: inline-block !important;position: relative;}#sk-container-id-16 div.sk-text-repr-fallback {display: none;}</style><div id=\"sk-container-id-16\" class=\"sk-top-container\"><div class=\"sk-text-repr-fallback\"><pre>RandomForestClassifier(max_depth=10)</pre><b>In a Jupyter environment, please rerun this cell to show the HTML representation or trust the notebook. <br />On GitHub, the HTML representation is unable to render, please try loading this page with nbviewer.org.</b></div><div class=\"sk-container\" hidden><div class=\"sk-item\"><div class=\"sk-estimator sk-toggleable\"><input class=\"sk-toggleable__control sk-hidden--visually\" id=\"sk-estimator-id-28\" type=\"checkbox\" checked><label for=\"sk-estimator-id-28\" class=\"sk-toggleable__label sk-toggleable__label-arrow\">RandomForestClassifier</label><div class=\"sk-toggleable__content\"><pre>RandomForestClassifier(max_depth=10)</pre></div></div></div></div></div>"
      ],
      "text/plain": [
       "RandomForestClassifier(max_depth=10)"
      ]
     },
     "execution_count": 116,
     "metadata": {},
     "output_type": "execute_result"
    }
   ],
   "source": [
    "gridForest.best_estimator_"
   ]
  },
  {
   "cell_type": "code",
   "execution_count": 120,
   "id": "be510b7a-18d9-498b-9fd1-03923010bf17",
   "metadata": {},
   "outputs": [
    {
     "data": {
      "text/html": [
       "<style>#sk-container-id-18 {color: black;background-color: white;}#sk-container-id-18 pre{padding: 0;}#sk-container-id-18 div.sk-toggleable {background-color: white;}#sk-container-id-18 label.sk-toggleable__label {cursor: pointer;display: block;width: 100%;margin-bottom: 0;padding: 0.3em;box-sizing: border-box;text-align: center;}#sk-container-id-18 label.sk-toggleable__label-arrow:before {content: \"▸\";float: left;margin-right: 0.25em;color: #696969;}#sk-container-id-18 label.sk-toggleable__label-arrow:hover:before {color: black;}#sk-container-id-18 div.sk-estimator:hover label.sk-toggleable__label-arrow:before {color: black;}#sk-container-id-18 div.sk-toggleable__content {max-height: 0;max-width: 0;overflow: hidden;text-align: left;background-color: #f0f8ff;}#sk-container-id-18 div.sk-toggleable__content pre {margin: 0.2em;color: black;border-radius: 0.25em;background-color: #f0f8ff;}#sk-container-id-18 input.sk-toggleable__control:checked~div.sk-toggleable__content {max-height: 200px;max-width: 100%;overflow: auto;}#sk-container-id-18 input.sk-toggleable__control:checked~label.sk-toggleable__label-arrow:before {content: \"▾\";}#sk-container-id-18 div.sk-estimator input.sk-toggleable__control:checked~label.sk-toggleable__label {background-color: #d4ebff;}#sk-container-id-18 div.sk-label input.sk-toggleable__control:checked~label.sk-toggleable__label {background-color: #d4ebff;}#sk-container-id-18 input.sk-hidden--visually {border: 0;clip: rect(1px 1px 1px 1px);clip: rect(1px, 1px, 1px, 1px);height: 1px;margin: -1px;overflow: hidden;padding: 0;position: absolute;width: 1px;}#sk-container-id-18 div.sk-estimator {font-family: monospace;background-color: #f0f8ff;border: 1px dotted black;border-radius: 0.25em;box-sizing: border-box;margin-bottom: 0.5em;}#sk-container-id-18 div.sk-estimator:hover {background-color: #d4ebff;}#sk-container-id-18 div.sk-parallel-item::after {content: \"\";width: 100%;border-bottom: 1px solid gray;flex-grow: 1;}#sk-container-id-18 div.sk-label:hover label.sk-toggleable__label {background-color: #d4ebff;}#sk-container-id-18 div.sk-serial::before {content: \"\";position: absolute;border-left: 1px solid gray;box-sizing: border-box;top: 0;bottom: 0;left: 50%;z-index: 0;}#sk-container-id-18 div.sk-serial {display: flex;flex-direction: column;align-items: center;background-color: white;padding-right: 0.2em;padding-left: 0.2em;position: relative;}#sk-container-id-18 div.sk-item {position: relative;z-index: 1;}#sk-container-id-18 div.sk-parallel {display: flex;align-items: stretch;justify-content: center;background-color: white;position: relative;}#sk-container-id-18 div.sk-item::before, #sk-container-id-18 div.sk-parallel-item::before {content: \"\";position: absolute;border-left: 1px solid gray;box-sizing: border-box;top: 0;bottom: 0;left: 50%;z-index: -1;}#sk-container-id-18 div.sk-parallel-item {display: flex;flex-direction: column;z-index: 1;position: relative;background-color: white;}#sk-container-id-18 div.sk-parallel-item:first-child::after {align-self: flex-end;width: 50%;}#sk-container-id-18 div.sk-parallel-item:last-child::after {align-self: flex-start;width: 50%;}#sk-container-id-18 div.sk-parallel-item:only-child::after {width: 0;}#sk-container-id-18 div.sk-dashed-wrapped {border: 1px dashed gray;margin: 0 0.4em 0.5em 0.4em;box-sizing: border-box;padding-bottom: 0.4em;background-color: white;}#sk-container-id-18 div.sk-label label {font-family: monospace;font-weight: bold;display: inline-block;line-height: 1.2em;}#sk-container-id-18 div.sk-label-container {text-align: center;}#sk-container-id-18 div.sk-container {/* jupyter's `normalize.less` sets `[hidden] { display: none; }` but bootstrap.min.css set `[hidden] { display: none !important; }` so we also need the `!important` here to be able to override the default hidden behavior on the sphinx rendered scikit-learn.org. See: https://github.com/scikit-learn/scikit-learn/issues/21755 */display: inline-block !important;position: relative;}#sk-container-id-18 div.sk-text-repr-fallback {display: none;}</style><div id=\"sk-container-id-18\" class=\"sk-top-container\"><div class=\"sk-text-repr-fallback\"><pre>RandomForestClassifier(max_depth=10)</pre><b>In a Jupyter environment, please rerun this cell to show the HTML representation or trust the notebook. <br />On GitHub, the HTML representation is unable to render, please try loading this page with nbviewer.org.</b></div><div class=\"sk-container\" hidden><div class=\"sk-item\"><div class=\"sk-estimator sk-toggleable\"><input class=\"sk-toggleable__control sk-hidden--visually\" id=\"sk-estimator-id-30\" type=\"checkbox\" checked><label for=\"sk-estimator-id-30\" class=\"sk-toggleable__label sk-toggleable__label-arrow\">RandomForestClassifier</label><div class=\"sk-toggleable__content\"><pre>RandomForestClassifier(max_depth=10)</pre></div></div></div></div></div>"
      ],
      "text/plain": [
       "RandomForestClassifier(max_depth=10)"
      ]
     },
     "execution_count": 120,
     "metadata": {},
     "output_type": "execute_result"
    }
   ],
   "source": [
    "forest_2=RandomForestClassifier(max_depth=10)\n",
    "forest_2.fit(df_escalado, y_train_under)"
   ]
  },
  {
   "cell_type": "code",
   "execution_count": 121,
   "id": "fe5e98f7-273d-4059-8c93-04fa05a5f6ff",
   "metadata": {},
   "outputs": [
    {
     "data": {
      "text/plain": [
       "0.8172981878088962"
      ]
     },
     "execution_count": 121,
     "metadata": {},
     "output_type": "execute_result"
    }
   ],
   "source": [
    "forest_2.score(df_escalado, y_train_under)"
   ]
  },
  {
   "cell_type": "code",
   "execution_count": 122,
   "id": "d35b6937-26e3-4e46-bd7a-8d355cb5ac79",
   "metadata": {},
   "outputs": [
    {
     "data": {
      "text/plain": [
       "0.7521200260926288"
      ]
     },
     "execution_count": 122,
     "metadata": {},
     "output_type": "execute_result"
    }
   ],
   "source": [
    "forest_2.score(df_test, y_test)"
   ]
  },
  {
   "cell_type": "markdown",
   "id": "eac3050e-a082-414d-92e7-8c63fc3fd623",
   "metadata": {},
   "source": [
    "METRICAS"
   ]
  },
  {
   "cell_type": "code",
   "execution_count": 151,
   "id": "1424d42d-8dda-4d5e-84ff-fb6e89b363bb",
   "metadata": {},
   "outputs": [],
   "source": [
    "from sklearn import metrics\n",
    "from matplotlib import pyplot as plt"
   ]
  },
  {
   "cell_type": "code",
   "execution_count": 162,
   "id": "5553dad4-02e9-439a-8011-eaabce410984",
   "metadata": {},
   "outputs": [],
   "source": [
    "y_predict = Forest.predict(df_test)"
   ]
  },
  {
   "cell_type": "code",
   "execution_count": 163,
   "id": "f786d6df-5c5d-42d3-ae74-60256f166fce",
   "metadata": {},
   "outputs": [
    {
     "data": {
      "image/png": "[encoded data removed]",
      "text/plain": [
       "<Figure size 432x288 with 1 Axes>"
      ]
     },
     "metadata": {
      "needs_background": "light"
     },
     "output_type": "display_data"
    }
   ],
   "source": [
    "fpr, tpr, _ = metrics.roc_curve(y_test, y_predict)\n",
    "auc = metrics.roc_auc_score(y_test, y_predict)\n",
    "plt.plot(fpr,tpr);"
   ]
  },
  {
   "cell_type": "code",
   "execution_count": 164,
   "id": "f9a247c4-f576-4e06-acd7-dfc60bed5a16",
   "metadata": {},
   "outputs": [
    {
     "data": {
      "text/plain": [
       "0.712340799297321"
      ]
     },
     "execution_count": 164,
     "metadata": {},
     "output_type": "execute_result"
    }
   ],
   "source": [
    "auc"
   ]
  },
  {
   "cell_type": "markdown",
   "id": "1543185c-fd8c-4a4b-9feb-43f9badc9558",
   "metadata": {},
   "source": [
    "# Z"
   ]
  },
  {
   "cell_type": "code",
   "execution_count": 128,
   "id": "a8718ab4-a8cb-42b8-b4dc-dc8b2b7b5c89",
   "metadata": {},
   "outputs": [],
   "source": [
    "z_test = pd.read_csv('z_test.csv')"
   ]
  },
  {
   "cell_type": "code",
   "execution_count": 129,
   "id": "4a88edf2-c34d-4ba0-beed-9dd8b3006edb",
   "metadata": {},
   "outputs": [],
   "source": [
    "identificación = z_test[['enrollee_id']]"
   ]
  },
  {
   "cell_type": "code",
   "execution_count": 130,
   "id": "3b7e9966-4db3-4938-b83f-8d1dbdc89e34",
   "metadata": {},
   "outputs": [],
   "source": [
    "z_test.drop(columns= ['enrollee_id'], inplace=True)"
   ]
  },
  {
   "cell_type": "code",
   "execution_count": 131,
   "id": "4ffb32a1-9282-450f-ab89-b34bf3b5cafd",
   "metadata": {},
   "outputs": [],
   "source": [
    "z_test=categorico_nulos.fit_transform(z_test)"
   ]
  },
  {
   "cell_type": "code",
   "execution_count": 132,
   "id": "b5addb89-4d53-4ad5-82da-3e44d88580ff",
   "metadata": {},
   "outputs": [],
   "source": [
    "z_test['relevent_experience']=relevent_experience.fit_transform(z_test[['relevent_experience']])"
   ]
  },
  {
   "cell_type": "code",
   "execution_count": 133,
   "id": "5fc1dd13-4c39-423e-bda8-37951e0274fd",
   "metadata": {},
   "outputs": [],
   "source": [
    "z_test['education_level']=education_level.fit_transform(z_test[['education_level']])"
   ]
  },
  {
   "cell_type": "code",
   "execution_count": 134,
   "id": "beece8da-3a5e-4dab-a1cc-7df8257ae674",
   "metadata": {},
   "outputs": [],
   "source": [
    "z_test['experience']=exp.fit_transform(z_test[['experience']])"
   ]
  },
  {
   "cell_type": "code",
   "execution_count": 135,
   "id": "ed25f88e-7ebe-4b8e-8e5d-3818199e4cac",
   "metadata": {},
   "outputs": [],
   "source": [
    "z_test = categoricas.fit_transform(z_test)"
   ]
  },
  {
   "cell_type": "code",
   "execution_count": 136,
   "id": "1c3055d3-f97f-40fb-8e83-e790d2563542",
   "metadata": {},
   "outputs": [
    {
     "data": {
      "text/html": [
       "<div>\n",
       "<style scoped>\n",
       "    .dataframe tbody tr th:only-of-type {\n",
       "        vertical-align: middle;\n",
       "    }\n",
       "\n",
       "    .dataframe tbody tr th {\n",
       "        vertical-align: top;\n",
       "    }\n",
       "\n",
       "    .dataframe thead th {\n",
       "        text-align: right;\n",
       "    }\n",
       "</style>\n",
       "<table border=\"1\" class=\"dataframe\">\n",
       "  <thead>\n",
       "    <tr style=\"text-align: right;\">\n",
       "      <th></th>\n",
       "      <th>city</th>\n",
       "      <th>city_development_index</th>\n",
       "      <th>gender</th>\n",
       "      <th>relevent_experience</th>\n",
       "      <th>enrolled_university</th>\n",
       "      <th>education_level</th>\n",
       "      <th>major_discipline</th>\n",
       "      <th>experience</th>\n",
       "      <th>company_size</th>\n",
       "      <th>company_type</th>\n",
       "      <th>last_new_job</th>\n",
       "      <th>training_hours</th>\n",
       "    </tr>\n",
       "  </thead>\n",
       "  <tbody>\n",
       "    <tr>\n",
       "      <th>0</th>\n",
       "      <td>0.045668</td>\n",
       "      <td>0.920</td>\n",
       "      <td>0.92667</td>\n",
       "      <td>0.0</td>\n",
       "      <td>0.200157</td>\n",
       "      <td>2.0</td>\n",
       "      <td>0.902662</td>\n",
       "      <td>5.0</td>\n",
       "      <td>0.479906</td>\n",
       "      <td>0.833246</td>\n",
       "      <td>0.434760</td>\n",
       "      <td>78</td>\n",
       "    </tr>\n",
       "    <tr>\n",
       "      <th>1</th>\n",
       "      <td>0.006002</td>\n",
       "      <td>0.890</td>\n",
       "      <td>0.92667</td>\n",
       "      <td>1.0</td>\n",
       "      <td>0.200157</td>\n",
       "      <td>1.0</td>\n",
       "      <td>0.902662</td>\n",
       "      <td>6.0</td>\n",
       "      <td>0.479906</td>\n",
       "      <td>0.833246</td>\n",
       "      <td>0.434760</td>\n",
       "      <td>36</td>\n",
       "    </tr>\n",
       "    <tr>\n",
       "      <th>2</th>\n",
       "      <td>0.007307</td>\n",
       "      <td>0.689</td>\n",
       "      <td>0.92667</td>\n",
       "      <td>0.0</td>\n",
       "      <td>0.738518</td>\n",
       "      <td>2.0</td>\n",
       "      <td>0.902662</td>\n",
       "      <td>5.0</td>\n",
       "      <td>0.479906</td>\n",
       "      <td>0.833246</td>\n",
       "      <td>0.132307</td>\n",
       "      <td>34</td>\n",
       "    </tr>\n",
       "    <tr>\n",
       "      <th>3</th>\n",
       "      <td>0.022443</td>\n",
       "      <td>0.855</td>\n",
       "      <td>0.06263</td>\n",
       "      <td>1.0</td>\n",
       "      <td>0.738518</td>\n",
       "      <td>3.0</td>\n",
       "      <td>0.902662</td>\n",
       "      <td>9.0</td>\n",
       "      <td>0.068372</td>\n",
       "      <td>0.833246</td>\n",
       "      <td>0.434760</td>\n",
       "      <td>149</td>\n",
       "    </tr>\n",
       "    <tr>\n",
       "      <th>4</th>\n",
       "      <td>0.223904</td>\n",
       "      <td>0.920</td>\n",
       "      <td>0.92667</td>\n",
       "      <td>1.0</td>\n",
       "      <td>0.738518</td>\n",
       "      <td>2.0</td>\n",
       "      <td>0.902662</td>\n",
       "      <td>16.0</td>\n",
       "      <td>0.479906</td>\n",
       "      <td>0.054541</td>\n",
       "      <td>0.151879</td>\n",
       "      <td>7</td>\n",
       "    </tr>\n",
       "  </tbody>\n",
       "</table>\n",
       "</div>"
      ],
      "text/plain": [
       "       city  city_development_index   gender  relevent_experience  \\\n",
       "0  0.045668                   0.920  0.92667                  0.0   \n",
       "1  0.006002                   0.890  0.92667                  1.0   \n",
       "2  0.007307                   0.689  0.92667                  0.0   \n",
       "3  0.022443                   0.855  0.06263                  1.0   \n",
       "4  0.223904                   0.920  0.92667                  1.0   \n",
       "\n",
       "   enrolled_university  education_level  major_discipline  experience  \\\n",
       "0             0.200157              2.0          0.902662         5.0   \n",
       "1             0.200157              1.0          0.902662         6.0   \n",
       "2             0.738518              2.0          0.902662         5.0   \n",
       "3             0.738518              3.0          0.902662         9.0   \n",
       "4             0.738518              2.0          0.902662        16.0   \n",
       "\n",
       "   company_size  company_type  last_new_job  training_hours  \n",
       "0      0.479906      0.833246      0.434760              78  \n",
       "1      0.479906      0.833246      0.434760              36  \n",
       "2      0.479906      0.833246      0.132307              34  \n",
       "3      0.068372      0.833246      0.434760             149  \n",
       "4      0.479906      0.054541      0.151879               7  "
      ]
     },
     "execution_count": 136,
     "metadata": {},
     "output_type": "execute_result"
    }
   ],
   "source": [
    "z_test.head()"
   ]
  },
  {
   "cell_type": "code",
   "execution_count": 137,
   "id": "d0cea3ba-0206-4185-9610-33d00b60884f",
   "metadata": {},
   "outputs": [
    {
     "data": {
      "text/plain": [
       "array([[0.25405713, 0.74594287],\n",
       "       [0.56002205, 0.43997795],\n",
       "       [0.33945922, 0.66054078],\n",
       "       ...,\n",
       "       [0.53480319, 0.46519681],\n",
       "       [0.70213361, 0.29786639],\n",
       "       [0.70705335, 0.29294665]])"
      ]
     },
     "execution_count": 137,
     "metadata": {},
     "output_type": "execute_result"
    }
   ],
   "source": [
    "Forest.predict_proba(z_test)"
   ]
  },
  {
   "cell_type": "code",
   "execution_count": 138,
   "id": "49658c3a-1a7e-4b76-a8e3-d22d625cb653",
   "metadata": {},
   "outputs": [],
   "source": [
    "z_pred = pd.DataFrame(Forest.predict_proba(z_test))"
   ]
  },
  {
   "cell_type": "code",
   "execution_count": 139,
   "id": "4942104f-c279-41c9-afff-639a78458b20",
   "metadata": {},
   "outputs": [
    {
     "data": {
      "text/html": [
       "<div>\n",
       "<style scoped>\n",
       "    .dataframe tbody tr th:only-of-type {\n",
       "        vertical-align: middle;\n",
       "    }\n",
       "\n",
       "    .dataframe tbody tr th {\n",
       "        vertical-align: top;\n",
       "    }\n",
       "\n",
       "    .dataframe thead th {\n",
       "        text-align: right;\n",
       "    }\n",
       "</style>\n",
       "<table border=\"1\" class=\"dataframe\">\n",
       "  <thead>\n",
       "    <tr style=\"text-align: right;\">\n",
       "      <th></th>\n",
       "      <th>enrollee_id</th>\n",
       "      <th>1</th>\n",
       "    </tr>\n",
       "  </thead>\n",
       "  <tbody>\n",
       "    <tr>\n",
       "      <th>0</th>\n",
       "      <td>23603</td>\n",
       "      <td>0.745943</td>\n",
       "    </tr>\n",
       "    <tr>\n",
       "      <th>1</th>\n",
       "      <td>22499</td>\n",
       "      <td>0.439978</td>\n",
       "    </tr>\n",
       "    <tr>\n",
       "      <th>2</th>\n",
       "      <td>10465</td>\n",
       "      <td>0.660541</td>\n",
       "    </tr>\n",
       "    <tr>\n",
       "      <th>3</th>\n",
       "      <td>8293</td>\n",
       "      <td>0.224321</td>\n",
       "    </tr>\n",
       "    <tr>\n",
       "      <th>4</th>\n",
       "      <td>4246</td>\n",
       "      <td>0.427760</td>\n",
       "    </tr>\n",
       "  </tbody>\n",
       "</table>\n",
       "</div>"
      ],
      "text/plain": [
       "   enrollee_id         1\n",
       "0        23603  0.745943\n",
       "1        22499  0.439978\n",
       "2        10465  0.660541\n",
       "3         8293  0.224321\n",
       "4         4246  0.427760"
      ]
     },
     "execution_count": 139,
     "metadata": {},
     "output_type": "execute_result"
    }
   ],
   "source": [
    "submission9=pd.concat((identificación,z_pred[1]), axis=1)\n",
    "submission9.head()"
   ]
  },
  {
   "cell_type": "code",
   "execution_count": 140,
   "id": "09298064-fce2-4b6e-a860-b3d348460639",
   "metadata": {},
   "outputs": [],
   "source": [
    "submission9.rename(columns = {1:'target'}, inplace=True)\n",
    "submission9.to_csv('submission_9.csv',index=False)"
   ]
  },
  {
   "cell_type": "code",
   "execution_count": 46,
   "id": "a0d7b4ef-7a4f-4890-a377-3fb155e41f61",
   "metadata": {},
   "outputs": [
    {
     "data": {
      "text/html": [
       "<div>\n",
       "<style scoped>\n",
       "    .dataframe tbody tr th:only-of-type {\n",
       "        vertical-align: middle;\n",
       "    }\n",
       "\n",
       "    .dataframe tbody tr th {\n",
       "        vertical-align: top;\n",
       "    }\n",
       "\n",
       "    .dataframe thead th {\n",
       "        text-align: right;\n",
       "    }\n",
       "</style>\n",
       "<table border=\"1\" class=\"dataframe\">\n",
       "  <thead>\n",
       "    <tr style=\"text-align: right;\">\n",
       "      <th></th>\n",
       "      <th>enrollee_id</th>\n",
       "      <th>1</th>\n",
       "    </tr>\n",
       "  </thead>\n",
       "  <tbody>\n",
       "    <tr>\n",
       "      <th>0</th>\n",
       "      <td>23603</td>\n",
       "      <td>0.733036</td>\n",
       "    </tr>\n",
       "    <tr>\n",
       "      <th>1</th>\n",
       "      <td>22499</td>\n",
       "      <td>0.448324</td>\n",
       "    </tr>\n",
       "    <tr>\n",
       "      <th>2</th>\n",
       "      <td>10465</td>\n",
       "      <td>0.712997</td>\n",
       "    </tr>\n",
       "    <tr>\n",
       "      <th>3</th>\n",
       "      <td>8293</td>\n",
       "      <td>0.221339</td>\n",
       "    </tr>\n",
       "    <tr>\n",
       "      <th>4</th>\n",
       "      <td>4246</td>\n",
       "      <td>0.426426</td>\n",
       "    </tr>\n",
       "  </tbody>\n",
       "</table>\n",
       "</div>"
      ],
      "text/plain": [
       "   enrollee_id         1\n",
       "0        23603  0.733036\n",
       "1        22499  0.448324\n",
       "2        10465  0.712997\n",
       "3         8293  0.221339\n",
       "4         4246  0.426426"
      ]
     },
     "execution_count": 46,
     "metadata": {},
     "output_type": "execute_result"
    }
   ],
   "source": [
    "submission8=pd.concat((identificación,z_pred[1]), axis=1)\n",
    "submission8.head()"
   ]
  },
  {
   "cell_type": "code",
   "execution_count": 47,
   "id": "6bb4ea38-db6f-4545-9929-c4ec8a398208",
   "metadata": {},
   "outputs": [],
   "source": [
    "submission8.rename(columns = {1:'target'}, inplace=True)"
   ]
  },
  {
   "cell_type": "code",
   "execution_count": 53,
   "id": "9d96c221-7120-445e-9208-e257d17f0f54",
   "metadata": {},
   "outputs": [],
   "source": [
    "submission8.to_csv('submission_8.csv',index=False)"
   ]
  },
  {
   "cell_type": "code",
   "execution_count": 141,
   "id": "9b596642-181e-4e46-84b2-32aaa3a9c321",
   "metadata": {},
   "outputs": [],
   "source": [
    "from sklearn import feature_selection"
   ]
  },
  {
   "cell_type": "code",
   "execution_count": 165,
   "id": "6b5c98f2-3d66-495a-82cf-2135d064315a",
   "metadata": {},
   "outputs": [],
   "source": [
    "selector = feature_selection.RFE(Forest, n_features_to_select=4)"
   ]
  },
  {
   "cell_type": "code",
   "execution_count": 167,
   "id": "b2d21384-61dc-4741-a0f7-64d0edc1c873",
   "metadata": {},
   "outputs": [
    {
     "data": {
      "text/plain": [
       "array([1, 1, 9, 8, 6, 4, 7, 1, 2, 5, 3, 1])"
      ]
     },
     "execution_count": 167,
     "metadata": {},
     "output_type": "execute_result"
    }
   ],
   "source": [
    "selector.fit(df_transformado,y_train_under)\n",
    "selector.ranking_"
   ]
  },
  {
   "cell_type": "code",
   "execution_count": 168,
   "id": "d5781efe-0f6c-42a5-82e9-13bc2e6204f5",
   "metadata": {},
   "outputs": [
    {
     "data": {
      "text/plain": [
       "array(['city', 'city_development_index', 'experience', 'training_hours'],\n",
       "      dtype=object)"
      ]
     },
     "execution_count": 168,
     "metadata": {},
     "output_type": "execute_result"
    }
   ],
   "source": [
    "selector.get_feature_names_out()"
   ]
  },
  {
   "cell_type": "code",
   "execution_count": 176,
   "id": "12937f94-c812-4f4d-bad1-fc00a3be6eeb",
   "metadata": {},
   "outputs": [],
   "source": [
    "estadisticos, p_values=feature_selection.f_regression(df_escalado,y_train_under)"
   ]
  },
  {
   "cell_type": "code",
   "execution_count": 177,
   "id": "0ffa505d-668c-457d-8a0f-f5874e7b82b7",
   "metadata": {},
   "outputs": [
    {
     "data": {
      "text/plain": [
       "1.00012"
      ]
     },
     "execution_count": 177,
     "metadata": {},
     "output_type": "execute_result"
    }
   ],
   "source": [
    "0.78625+0.21387"
   ]
  },
  {
   "cell_type": "code",
   "execution_count": 178,
   "id": "8b05a061-a305-458a-b740-13c3fe1687f4",
   "metadata": {},
   "outputs": [
    {
     "data": {
      "text/html": [
       "<div>\n",
       "<style scoped>\n",
       "    .dataframe tbody tr th:only-of-type {\n",
       "        vertical-align: middle;\n",
       "    }\n",
       "\n",
       "    .dataframe tbody tr th {\n",
       "        vertical-align: top;\n",
       "    }\n",
       "\n",
       "    .dataframe thead th {\n",
       "        text-align: right;\n",
       "    }\n",
       "</style>\n",
       "<table border=\"1\" class=\"dataframe\">\n",
       "  <thead>\n",
       "    <tr style=\"text-align: right;\">\n",
       "      <th></th>\n",
       "      <th>0</th>\n",
       "    </tr>\n",
       "  </thead>\n",
       "  <tbody>\n",
       "    <tr>\n",
       "      <th>city_development_index</th>\n",
       "      <td>1.202749e-205</td>\n",
       "    </tr>\n",
       "    <tr>\n",
       "      <th>experience</th>\n",
       "      <td>8.855974e-64</td>\n",
       "    </tr>\n",
       "    <tr>\n",
       "      <th>company_size</th>\n",
       "      <td>1.260695e-52</td>\n",
       "    </tr>\n",
       "    <tr>\n",
       "      <th>city</th>\n",
       "      <td>9.651222e-50</td>\n",
       "    </tr>\n",
       "    <tr>\n",
       "      <th>enrolled_university</th>\n",
       "      <td>1.035968e-29</td>\n",
       "    </tr>\n",
       "    <tr>\n",
       "      <th>relevent_experience</th>\n",
       "      <td>1.550601e-29</td>\n",
       "    </tr>\n",
       "    <tr>\n",
       "      <th>company_type</th>\n",
       "      <td>2.291802e-08</td>\n",
       "    </tr>\n",
       "    <tr>\n",
       "      <th>last_new_job</th>\n",
       "      <td>8.389900e-06</td>\n",
       "    </tr>\n",
       "    <tr>\n",
       "      <th>training_hours</th>\n",
       "      <td>1.335205e-01</td>\n",
       "    </tr>\n",
       "    <tr>\n",
       "      <th>education_level</th>\n",
       "      <td>1.441681e-01</td>\n",
       "    </tr>\n",
       "    <tr>\n",
       "      <th>major_discipline</th>\n",
       "      <td>4.082561e-01</td>\n",
       "    </tr>\n",
       "    <tr>\n",
       "      <th>gender</th>\n",
       "      <td>7.287139e-01</td>\n",
       "    </tr>\n",
       "  </tbody>\n",
       "</table>\n",
       "</div>"
      ],
      "text/plain": [
       "                                    0\n",
       "city_development_index  1.202749e-205\n",
       "experience               8.855974e-64\n",
       "company_size             1.260695e-52\n",
       "city                     9.651222e-50\n",
       "enrolled_university      1.035968e-29\n",
       "relevent_experience      1.550601e-29\n",
       "company_type             2.291802e-08\n",
       "last_new_job             8.389900e-06\n",
       "training_hours           1.335205e-01\n",
       "education_level          1.441681e-01\n",
       "major_discipline         4.082561e-01\n",
       "gender                   7.287139e-01"
      ]
     },
     "execution_count": 178,
     "metadata": {},
     "output_type": "execute_result"
    }
   ],
   "source": [
    "pd.DataFrame(p_values, index=df_transformado.columns).sort_values(by=0)"
   ]
  },
  {
   "cell_type": "code",
   "execution_count": null,
   "id": "f5ebd542-676c-4b7e-a6ee-12cd885f3da9",
   "metadata": {},
   "outputs": [],
   "source": []
  }
 ],
 "metadata": {
  "kernelspec": {
   "display_name": "Python 3 (ipykernel)",
   "language": "python",
   "name": "python3"
  },
  "language_info": {
   "codemirror_mode": {
    "name": "ipython",
    "version": 3
   },
   "file_extension": ".py",
   "mimetype": "text/x-python",
   "name": "python",
   "nbconvert_exporter": "python",
   "pygments_lexer": "ipython3",
   "version": "3.9.7"
  }
 },
 "nbformat": 4,
 "nbformat_minor": 5
}
