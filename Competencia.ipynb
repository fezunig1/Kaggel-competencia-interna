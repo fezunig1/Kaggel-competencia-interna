{
 "cells": [
  {
   "cell_type": "code",
   "execution_count": 1,
   "id": "241b0859-9cf6-48c2-9ae8-1181030399b3",
   "metadata": {},
   "outputs": [],
   "source": [
    "import pandas as pd\n",
    "import numpy as np"
   ]
  },
  {
   "cell_type": "code",
   "execution_count": 2,
   "id": "f8a24090-df48-4935-9625-a11039c31185",
   "metadata": {},
   "outputs": [],
   "source": [
    "df = pd.read_csv('z_train.csv')"
   ]
  },
  {
   "cell_type": "code",
   "execution_count": 3,
   "id": "bd0418a7-2274-4047-b2a6-54115742b781",
   "metadata": {},
   "outputs": [
    {
     "data": {
      "text/html": [
       "<div>\n",
       "<style scoped>\n",
       "    .dataframe tbody tr th:only-of-type {\n",
       "        vertical-align: middle;\n",
       "    }\n",
       "\n",
       "    .dataframe tbody tr th {\n",
       "        vertical-align: top;\n",
       "    }\n",
       "\n",
       "    .dataframe thead th {\n",
       "        text-align: right;\n",
       "    }\n",
       "</style>\n",
       "<table border=\"1\" class=\"dataframe\">\n",
       "  <thead>\n",
       "    <tr style=\"text-align: right;\">\n",
       "      <th></th>\n",
       "      <th>enrollee_id</th>\n",
       "      <th>city</th>\n",
       "      <th>city_development_index</th>\n",
       "      <th>gender</th>\n",
       "      <th>relevent_experience</th>\n",
       "      <th>enrolled_university</th>\n",
       "      <th>education_level</th>\n",
       "      <th>major_discipline</th>\n",
       "      <th>experience</th>\n",
       "      <th>company_size</th>\n",
       "      <th>company_type</th>\n",
       "      <th>last_new_job</th>\n",
       "      <th>training_hours</th>\n",
       "      <th>target</th>\n",
       "    </tr>\n",
       "  </thead>\n",
       "  <tbody>\n",
       "    <tr>\n",
       "      <th>0</th>\n",
       "      <td>8949</td>\n",
       "      <td>city_103</td>\n",
       "      <td>0.920</td>\n",
       "      <td>Male</td>\n",
       "      <td>Has relevent experience</td>\n",
       "      <td>no_enrollment</td>\n",
       "      <td>Graduate</td>\n",
       "      <td>STEM</td>\n",
       "      <td>&gt;20</td>\n",
       "      <td>NaN</td>\n",
       "      <td>NaN</td>\n",
       "      <td>1</td>\n",
       "      <td>36</td>\n",
       "      <td>1.0</td>\n",
       "    </tr>\n",
       "    <tr>\n",
       "      <th>1</th>\n",
       "      <td>29725</td>\n",
       "      <td>city_40</td>\n",
       "      <td>0.776</td>\n",
       "      <td>Male</td>\n",
       "      <td>No relevent experience</td>\n",
       "      <td>no_enrollment</td>\n",
       "      <td>Graduate</td>\n",
       "      <td>STEM</td>\n",
       "      <td>15</td>\n",
       "      <td>50-99</td>\n",
       "      <td>Pvt Ltd</td>\n",
       "      <td>&gt;4</td>\n",
       "      <td>47</td>\n",
       "      <td>0.0</td>\n",
       "    </tr>\n",
       "    <tr>\n",
       "      <th>2</th>\n",
       "      <td>11561</td>\n",
       "      <td>city_21</td>\n",
       "      <td>0.624</td>\n",
       "      <td>NaN</td>\n",
       "      <td>No relevent experience</td>\n",
       "      <td>Full time course</td>\n",
       "      <td>Graduate</td>\n",
       "      <td>STEM</td>\n",
       "      <td>5</td>\n",
       "      <td>NaN</td>\n",
       "      <td>NaN</td>\n",
       "      <td>never</td>\n",
       "      <td>83</td>\n",
       "      <td>0.0</td>\n",
       "    </tr>\n",
       "    <tr>\n",
       "      <th>3</th>\n",
       "      <td>33241</td>\n",
       "      <td>city_115</td>\n",
       "      <td>0.789</td>\n",
       "      <td>NaN</td>\n",
       "      <td>No relevent experience</td>\n",
       "      <td>NaN</td>\n",
       "      <td>Graduate</td>\n",
       "      <td>Business Degree</td>\n",
       "      <td>&lt;1</td>\n",
       "      <td>NaN</td>\n",
       "      <td>Pvt Ltd</td>\n",
       "      <td>never</td>\n",
       "      <td>52</td>\n",
       "      <td>1.0</td>\n",
       "    </tr>\n",
       "    <tr>\n",
       "      <th>4</th>\n",
       "      <td>21651</td>\n",
       "      <td>city_176</td>\n",
       "      <td>0.764</td>\n",
       "      <td>NaN</td>\n",
       "      <td>Has relevent experience</td>\n",
       "      <td>Part time course</td>\n",
       "      <td>Graduate</td>\n",
       "      <td>STEM</td>\n",
       "      <td>11</td>\n",
       "      <td>NaN</td>\n",
       "      <td>NaN</td>\n",
       "      <td>1</td>\n",
       "      <td>24</td>\n",
       "      <td>1.0</td>\n",
       "    </tr>\n",
       "  </tbody>\n",
       "</table>\n",
       "</div>"
      ],
      "text/plain": [
       "   enrollee_id      city  city_development_index gender  \\\n",
       "0         8949  city_103                   0.920   Male   \n",
       "1        29725   city_40                   0.776   Male   \n",
       "2        11561   city_21                   0.624    NaN   \n",
       "3        33241  city_115                   0.789    NaN   \n",
       "4        21651  city_176                   0.764    NaN   \n",
       "\n",
       "       relevent_experience enrolled_university education_level  \\\n",
       "0  Has relevent experience       no_enrollment        Graduate   \n",
       "1   No relevent experience       no_enrollment        Graduate   \n",
       "2   No relevent experience    Full time course        Graduate   \n",
       "3   No relevent experience                 NaN        Graduate   \n",
       "4  Has relevent experience    Part time course        Graduate   \n",
       "\n",
       "  major_discipline experience company_size company_type last_new_job  \\\n",
       "0             STEM        >20          NaN          NaN            1   \n",
       "1             STEM         15        50-99      Pvt Ltd           >4   \n",
       "2             STEM          5          NaN          NaN        never   \n",
       "3  Business Degree         <1          NaN      Pvt Ltd        never   \n",
       "4             STEM         11          NaN          NaN            1   \n",
       "\n",
       "   training_hours  target  \n",
       "0              36     1.0  \n",
       "1              47     0.0  \n",
       "2              83     0.0  \n",
       "3              52     1.0  \n",
       "4              24     1.0  "
      ]
     },
     "execution_count": 3,
     "metadata": {},
     "output_type": "execute_result"
    }
   ],
   "source": [
    "df.head()"
   ]
  },
  {
   "cell_type": "code",
   "execution_count": 4,
   "id": "0188f26a-1ebb-4974-8e03-ee884131d9a9",
   "metadata": {},
   "outputs": [
    {
     "data": {
      "text/plain": [
       "0"
      ]
     },
     "execution_count": 4,
     "metadata": {},
     "output_type": "execute_result"
    }
   ],
   "source": [
    "df.target.isnull().sum()"
   ]
  },
  {
   "cell_type": "code",
   "execution_count": 5,
   "id": "daef4115-9e55-44cb-bc70-93785d10609e",
   "metadata": {},
   "outputs": [
    {
     "name": "stdout",
     "output_type": "stream",
     "text": [
      "<class 'pandas.core.frame.DataFrame'>\n",
      "RangeIndex: 15326 entries, 0 to 15325\n",
      "Data columns (total 14 columns):\n",
      " #   Column                  Non-Null Count  Dtype  \n",
      "---  ------                  --------------  -----  \n",
      " 0   enrollee_id             15326 non-null  int64  \n",
      " 1   city                    15326 non-null  object \n",
      " 2   city_development_index  15326 non-null  float64\n",
      " 3   gender                  11725 non-null  object \n",
      " 4   relevent_experience     15326 non-null  object \n",
      " 5   enrolled_university     15024 non-null  object \n",
      " 6   education_level         14957 non-null  object \n",
      " 7   major_discipline        13089 non-null  object \n",
      " 8   experience              15276 non-null  object \n",
      " 9   company_size            10592 non-null  object \n",
      " 10  company_type            10435 non-null  object \n",
      " 11  last_new_job            14987 non-null  object \n",
      " 12  training_hours          15326 non-null  int64  \n",
      " 13  target                  15326 non-null  float64\n",
      "dtypes: float64(2), int64(2), object(10)\n",
      "memory usage: 1.6+ MB\n"
     ]
    }
   ],
   "source": [
    "df.info()"
   ]
  },
  {
   "cell_type": "code",
   "execution_count": 6,
   "id": "04537c6e-d2c0-4702-9360-c4557d9032a9",
   "metadata": {},
   "outputs": [],
   "source": [
    "df.drop(columns= 'enrollee_id', inplace=True)"
   ]
  },
  {
   "cell_type": "code",
   "execution_count": 7,
   "id": "0c273729-fe55-4fbb-8b57-dd38f8295b5a",
   "metadata": {},
   "outputs": [
    {
     "data": {
      "text/plain": [
       "Index(['gender', 'enrolled_university', 'education_level', 'major_discipline',\n",
       "       'experience', 'company_size', 'company_type', 'last_new_job'],\n",
       "      dtype='object')"
      ]
     },
     "execution_count": 7,
     "metadata": {},
     "output_type": "execute_result"
    }
   ],
   "source": [
    "#Nulos\n",
    "columnas_nulas =df.isnull().sum()[(df.isnull().sum().sort_values(ascending=False)/df.shape[0])*100 > 0].index\n",
    "columnas_nulas"
   ]
  },
  {
   "cell_type": "code",
   "execution_count": 8,
   "id": "02b2d189-7f4c-4049-a454-25a013efed27",
   "metadata": {},
   "outputs": [
    {
     "data": {
      "text/plain": [
       "Pvt Ltd                7873\n",
       "Funded Startup          792\n",
       "Public Sector           773\n",
       "Early Stage Startup     489\n",
       "NGO                     421\n",
       "Other                    87\n",
       "Name: company_type, dtype: int64"
      ]
     },
     "execution_count": 8,
     "metadata": {},
     "output_type": "execute_result"
    }
   ],
   "source": [
    "df.company_type.value_counts()"
   ]
  },
  {
   "cell_type": "code",
   "execution_count": 9,
   "id": "ddf8edda-3dc7-4afc-beeb-285f9e3c12de",
   "metadata": {},
   "outputs": [
    {
     "data": {
      "text/plain": [
       "50-99        2448\n",
       "100-500      2059\n",
       "10000+       1653\n",
       "10/49        1173\n",
       "1000-4999    1066\n",
       "<10          1043\n",
       "500-999       707\n",
       "5000-9999     443\n",
       "Name: company_size, dtype: int64"
      ]
     },
     "execution_count": 9,
     "metadata": {},
     "output_type": "execute_result"
    }
   ],
   "source": [
    "df.company_size.value_counts()"
   ]
  },
  {
   "cell_type": "code",
   "execution_count": 10,
   "id": "62e2f30d-e412-423a-919a-a4b1efbec8b3",
   "metadata": {},
   "outputs": [
    {
     "name": "stdout",
     "output_type": "stream",
     "text": [
      "<class 'pandas.core.frame.DataFrame'>\n",
      "RangeIndex: 15326 entries, 0 to 15325\n",
      "Data columns (total 8 columns):\n",
      " #   Column               Non-Null Count  Dtype \n",
      "---  ------               --------------  ----- \n",
      " 0   gender               11725 non-null  object\n",
      " 1   enrolled_university  15024 non-null  object\n",
      " 2   education_level      14957 non-null  object\n",
      " 3   major_discipline     13089 non-null  object\n",
      " 4   experience           15276 non-null  object\n",
      " 5   company_size         10592 non-null  object\n",
      " 6   company_type         10435 non-null  object\n",
      " 7   last_new_job         14987 non-null  object\n",
      "dtypes: object(8)\n",
      "memory usage: 958.0+ KB\n"
     ]
    }
   ],
   "source": [
    "df[columnas_nulas].info()"
   ]
  },
  {
   "cell_type": "code",
   "execution_count": 11,
   "id": "c16332bc-5753-4852-a177-d90e10f2e171",
   "metadata": {},
   "outputs": [
    {
     "data": {
      "text/html": [
       "<div>\n",
       "<style scoped>\n",
       "    .dataframe tbody tr th:only-of-type {\n",
       "        vertical-align: middle;\n",
       "    }\n",
       "\n",
       "    .dataframe tbody tr th {\n",
       "        vertical-align: top;\n",
       "    }\n",
       "\n",
       "    .dataframe thead th {\n",
       "        text-align: right;\n",
       "    }\n",
       "</style>\n",
       "<table border=\"1\" class=\"dataframe\">\n",
       "  <thead>\n",
       "    <tr style=\"text-align: right;\">\n",
       "      <th></th>\n",
       "      <th>gender</th>\n",
       "      <th>enrolled_university</th>\n",
       "      <th>education_level</th>\n",
       "      <th>major_discipline</th>\n",
       "      <th>experience</th>\n",
       "      <th>company_size</th>\n",
       "      <th>company_type</th>\n",
       "      <th>last_new_job</th>\n",
       "    </tr>\n",
       "  </thead>\n",
       "  <tbody>\n",
       "    <tr>\n",
       "      <th>0</th>\n",
       "      <td>Male</td>\n",
       "      <td>no_enrollment</td>\n",
       "      <td>Graduate</td>\n",
       "      <td>STEM</td>\n",
       "      <td>&gt;20</td>\n",
       "      <td>NaN</td>\n",
       "      <td>NaN</td>\n",
       "      <td>1</td>\n",
       "    </tr>\n",
       "    <tr>\n",
       "      <th>1</th>\n",
       "      <td>Male</td>\n",
       "      <td>no_enrollment</td>\n",
       "      <td>Graduate</td>\n",
       "      <td>STEM</td>\n",
       "      <td>15</td>\n",
       "      <td>50-99</td>\n",
       "      <td>Pvt Ltd</td>\n",
       "      <td>&gt;4</td>\n",
       "    </tr>\n",
       "    <tr>\n",
       "      <th>2</th>\n",
       "      <td>NaN</td>\n",
       "      <td>Full time course</td>\n",
       "      <td>Graduate</td>\n",
       "      <td>STEM</td>\n",
       "      <td>5</td>\n",
       "      <td>NaN</td>\n",
       "      <td>NaN</td>\n",
       "      <td>never</td>\n",
       "    </tr>\n",
       "    <tr>\n",
       "      <th>3</th>\n",
       "      <td>NaN</td>\n",
       "      <td>NaN</td>\n",
       "      <td>Graduate</td>\n",
       "      <td>Business Degree</td>\n",
       "      <td>&lt;1</td>\n",
       "      <td>NaN</td>\n",
       "      <td>Pvt Ltd</td>\n",
       "      <td>never</td>\n",
       "    </tr>\n",
       "    <tr>\n",
       "      <th>4</th>\n",
       "      <td>NaN</td>\n",
       "      <td>Part time course</td>\n",
       "      <td>Graduate</td>\n",
       "      <td>STEM</td>\n",
       "      <td>11</td>\n",
       "      <td>NaN</td>\n",
       "      <td>NaN</td>\n",
       "      <td>1</td>\n",
       "    </tr>\n",
       "  </tbody>\n",
       "</table>\n",
       "</div>"
      ],
      "text/plain": [
       "  gender enrolled_university education_level major_discipline experience  \\\n",
       "0   Male       no_enrollment        Graduate             STEM        >20   \n",
       "1   Male       no_enrollment        Graduate             STEM         15   \n",
       "2    NaN    Full time course        Graduate             STEM          5   \n",
       "3    NaN                 NaN        Graduate  Business Degree         <1   \n",
       "4    NaN    Part time course        Graduate             STEM         11   \n",
       "\n",
       "  company_size company_type last_new_job  \n",
       "0          NaN          NaN            1  \n",
       "1        50-99      Pvt Ltd           >4  \n",
       "2          NaN          NaN        never  \n",
       "3          NaN      Pvt Ltd        never  \n",
       "4          NaN          NaN            1  "
      ]
     },
     "execution_count": 11,
     "metadata": {},
     "output_type": "execute_result"
    }
   ],
   "source": [
    "df[columnas_nulas].head()"
   ]
  },
  {
   "cell_type": "code",
   "execution_count": 12,
   "id": "1e336ca6-81a0-4a4f-b07b-37a963efd0b6",
   "metadata": {},
   "outputs": [
    {
     "data": {
      "text/plain": [
       "1        6458\n",
       ">4       2627\n",
       "2        2318\n",
       "never    1945\n",
       "4         823\n",
       "3         816\n",
       "Name: last_new_job, dtype: int64"
      ]
     },
     "execution_count": 12,
     "metadata": {},
     "output_type": "execute_result"
    }
   ],
   "source": [
    "df.last_new_job.value_counts()"
   ]
  },
  {
   "cell_type": "code",
   "execution_count": 13,
   "id": "18601dad-f4da-44b0-af0c-bf199afd1f1b",
   "metadata": {},
   "outputs": [],
   "source": [
    "df['last_new_job']=df.last_new_job.str.replace('never', '0').str.replace('>4', '5')"
   ]
  },
  {
   "cell_type": "code",
   "execution_count": 14,
   "id": "49f237d3-0abb-4486-838b-4827a536eeb6",
   "metadata": {},
   "outputs": [],
   "source": [
    "df['last_new_job']=pd.to_numeric(df['last_new_job'])"
   ]
  },
  {
   "cell_type": "code",
   "execution_count": 15,
   "id": "5e83b16c-e3f9-4dcf-9e26-222247513114",
   "metadata": {},
   "outputs": [
    {
     "name": "stdout",
     "output_type": "stream",
     "text": [
      "<class 'pandas.core.frame.DataFrame'>\n",
      "RangeIndex: 15326 entries, 0 to 15325\n",
      "Data columns (total 8 columns):\n",
      " #   Column               Non-Null Count  Dtype  \n",
      "---  ------               --------------  -----  \n",
      " 0   gender               11725 non-null  object \n",
      " 1   enrolled_university  15024 non-null  object \n",
      " 2   education_level      14957 non-null  object \n",
      " 3   major_discipline     13089 non-null  object \n",
      " 4   experience           15276 non-null  object \n",
      " 5   company_size         10592 non-null  object \n",
      " 6   company_type         10435 non-null  object \n",
      " 7   last_new_job         14987 non-null  float64\n",
      "dtypes: float64(1), object(7)\n",
      "memory usage: 958.0+ KB\n"
     ]
    }
   ],
   "source": [
    "df[columnas_nulas].info()"
   ]
  },
  {
   "cell_type": "code",
   "execution_count": 16,
   "id": "2f2a5868-8a8a-459f-a7b6-83d70c4d8d6c",
   "metadata": {},
   "outputs": [],
   "source": [
    "df['experience']=pd.to_numeric(df.experience.str.replace('>20', '21').str.replace('<1','0'))"
   ]
  },
  {
   "cell_type": "code",
   "execution_count": 17,
   "id": "80deb7c5-6a13-41c9-86a0-0cd1dcbf526c",
   "metadata": {},
   "outputs": [
    {
     "name": "stdout",
     "output_type": "stream",
     "text": [
      "<class 'pandas.core.frame.DataFrame'>\n",
      "RangeIndex: 15326 entries, 0 to 15325\n",
      "Data columns (total 8 columns):\n",
      " #   Column               Non-Null Count  Dtype  \n",
      "---  ------               --------------  -----  \n",
      " 0   gender               11725 non-null  object \n",
      " 1   enrolled_university  15024 non-null  object \n",
      " 2   education_level      14957 non-null  object \n",
      " 3   major_discipline     13089 non-null  object \n",
      " 4   experience           15276 non-null  float64\n",
      " 5   company_size         10592 non-null  object \n",
      " 6   company_type         10435 non-null  object \n",
      " 7   last_new_job         14987 non-null  float64\n",
      "dtypes: float64(2), object(6)\n",
      "memory usage: 958.0+ KB\n"
     ]
    }
   ],
   "source": [
    "df[columnas_nulas].info()"
   ]
  },
  {
   "cell_type": "code",
   "execution_count": 18,
   "id": "16d08567-a350-4aab-8e2d-74ef60473445",
   "metadata": {},
   "outputs": [
    {
     "data": {
      "text/plain": [
       "Index(['gender', 'enrolled_university', 'education_level', 'major_discipline',\n",
       "       'experience', 'company_size', 'company_type', 'last_new_job'],\n",
       "      dtype='object')"
      ]
     },
     "execution_count": 18,
     "metadata": {},
     "output_type": "execute_result"
    }
   ],
   "source": [
    "columnas_nulas"
   ]
  },
  {
   "cell_type": "markdown",
   "id": "05b31c4a-135a-48bf-ba0e-4d17cb7827a1",
   "metadata": {},
   "source": [
    "# Relleno Nulos"
   ]
  },
  {
   "cell_type": "markdown",
   "id": "0a068510-5bcb-46d5-ba54-39de4e2deef4",
   "metadata": {},
   "source": [
    "## categoricas"
   ]
  },
  {
   "cell_type": "code",
   "execution_count": 19,
   "id": "440c2698-c575-49e9-a2cf-d9da0296e850",
   "metadata": {},
   "outputs": [],
   "source": [
    "from feature_engine import imputation as mdi"
   ]
  },
  {
   "cell_type": "code",
   "execution_count": 20,
   "id": "cf712c22-f85a-417d-b800-74da40b1d455",
   "metadata": {},
   "outputs": [],
   "source": [
    "categorico_nulos=mdi.CategoricalImputer('frequent', variables = ['gender','enrolled_university', 'education_level', 'major_discipline', 'company_size', 'company_type'])"
   ]
  },
  {
   "cell_type": "code",
   "execution_count": 21,
   "id": "e347ad54-1651-4022-be15-c9e47613668e",
   "metadata": {},
   "outputs": [],
   "source": [
    "df_sin_nulos=categorico_nulos.fit_transform(df)"
   ]
  },
  {
   "cell_type": "code",
   "execution_count": 22,
   "id": "0c5dbb49-e01f-4eaf-b763-535f5dc2eee5",
   "metadata": {},
   "outputs": [
    {
     "data": {
      "text/plain": [
       "city                        0\n",
       "city_development_index      0\n",
       "gender                      0\n",
       "relevent_experience         0\n",
       "enrolled_university         0\n",
       "education_level             0\n",
       "major_discipline            0\n",
       "experience                 50\n",
       "company_size                0\n",
       "company_type                0\n",
       "last_new_job              339\n",
       "training_hours              0\n",
       "target                      0\n",
       "dtype: int64"
      ]
     },
     "execution_count": 22,
     "metadata": {},
     "output_type": "execute_result"
    }
   ],
   "source": [
    "df_sin_nulos.isnull().sum()"
   ]
  },
  {
   "cell_type": "markdown",
   "id": "fdc78cd4-336c-4e10-a3a0-5eff32a0719b",
   "metadata": {},
   "source": [
    "# Numericas"
   ]
  },
  {
   "cell_type": "code",
   "execution_count": 23,
   "id": "96a95e44-59b9-4dac-9a71-b7c7b29a3b35",
   "metadata": {},
   "outputs": [
    {
     "data": {
      "text/html": [
       "<div>\n",
       "<style scoped>\n",
       "    .dataframe tbody tr th:only-of-type {\n",
       "        vertical-align: middle;\n",
       "    }\n",
       "\n",
       "    .dataframe tbody tr th {\n",
       "        vertical-align: top;\n",
       "    }\n",
       "\n",
       "    .dataframe thead th {\n",
       "        text-align: right;\n",
       "    }\n",
       "</style>\n",
       "<table border=\"1\" class=\"dataframe\">\n",
       "  <thead>\n",
       "    <tr style=\"text-align: right;\">\n",
       "      <th></th>\n",
       "      <th>city_development_index</th>\n",
       "      <th>experience</th>\n",
       "      <th>last_new_job</th>\n",
       "      <th>training_hours</th>\n",
       "      <th>target</th>\n",
       "    </tr>\n",
       "  </thead>\n",
       "  <tbody>\n",
       "    <tr>\n",
       "      <th>count</th>\n",
       "      <td>15326.000000</td>\n",
       "      <td>15276.000000</td>\n",
       "      <td>14987.000000</td>\n",
       "      <td>15326.000000</td>\n",
       "      <td>15326.000000</td>\n",
       "    </tr>\n",
       "    <tr>\n",
       "      <th>mean</th>\n",
       "      <td>0.829929</td>\n",
       "      <td>10.111744</td>\n",
       "      <td>1.999666</td>\n",
       "      <td>65.279068</td>\n",
       "      <td>0.249511</td>\n",
       "    </tr>\n",
       "    <tr>\n",
       "      <th>std</th>\n",
       "      <td>0.122668</td>\n",
       "      <td>6.772662</td>\n",
       "      <td>1.673882</td>\n",
       "      <td>60.079482</td>\n",
       "      <td>0.432744</td>\n",
       "    </tr>\n",
       "    <tr>\n",
       "      <th>min</th>\n",
       "      <td>0.448000</td>\n",
       "      <td>0.000000</td>\n",
       "      <td>0.000000</td>\n",
       "      <td>1.000000</td>\n",
       "      <td>0.000000</td>\n",
       "    </tr>\n",
       "    <tr>\n",
       "      <th>25%</th>\n",
       "      <td>0.743000</td>\n",
       "      <td>4.000000</td>\n",
       "      <td>1.000000</td>\n",
       "      <td>23.000000</td>\n",
       "      <td>0.000000</td>\n",
       "    </tr>\n",
       "    <tr>\n",
       "      <th>50%</th>\n",
       "      <td>0.910000</td>\n",
       "      <td>9.000000</td>\n",
       "      <td>1.000000</td>\n",
       "      <td>47.000000</td>\n",
       "      <td>0.000000</td>\n",
       "    </tr>\n",
       "    <tr>\n",
       "      <th>75%</th>\n",
       "      <td>0.920000</td>\n",
       "      <td>16.000000</td>\n",
       "      <td>3.000000</td>\n",
       "      <td>89.000000</td>\n",
       "      <td>0.000000</td>\n",
       "    </tr>\n",
       "    <tr>\n",
       "      <th>max</th>\n",
       "      <td>0.949000</td>\n",
       "      <td>21.000000</td>\n",
       "      <td>5.000000</td>\n",
       "      <td>336.000000</td>\n",
       "      <td>1.000000</td>\n",
       "    </tr>\n",
       "  </tbody>\n",
       "</table>\n",
       "</div>"
      ],
      "text/plain": [
       "       city_development_index    experience  last_new_job  training_hours  \\\n",
       "count            15326.000000  15276.000000  14987.000000    15326.000000   \n",
       "mean                 0.829929     10.111744      1.999666       65.279068   \n",
       "std                  0.122668      6.772662      1.673882       60.079482   \n",
       "min                  0.448000      0.000000      0.000000        1.000000   \n",
       "25%                  0.743000      4.000000      1.000000       23.000000   \n",
       "50%                  0.910000      9.000000      1.000000       47.000000   \n",
       "75%                  0.920000     16.000000      3.000000       89.000000   \n",
       "max                  0.949000     21.000000      5.000000      336.000000   \n",
       "\n",
       "             target  \n",
       "count  15326.000000  \n",
       "mean       0.249511  \n",
       "std        0.432744  \n",
       "min        0.000000  \n",
       "25%        0.000000  \n",
       "50%        0.000000  \n",
       "75%        0.000000  \n",
       "max        1.000000  "
      ]
     },
     "execution_count": 23,
     "metadata": {},
     "output_type": "execute_result"
    }
   ],
   "source": [
    "df_sin_nulos.describe()"
   ]
  },
  {
   "cell_type": "code",
   "execution_count": 24,
   "id": "6d71a8b1-de89-41e4-bb34-9e92b3e2f255",
   "metadata": {},
   "outputs": [],
   "source": [
    "num_nulos=mdi.MeanMedianImputer('median', variables = ['city_development_index', 'experience', 'last_new_job', 'training_hours'])"
   ]
  },
  {
   "cell_type": "code",
   "execution_count": 25,
   "id": "9382f0cc-1861-46ce-907b-ffa18e607d72",
   "metadata": {},
   "outputs": [],
   "source": [
    "df_sin_nulos = num_nulos.fit_transform(df_sin_nulos)"
   ]
  },
  {
   "cell_type": "code",
   "execution_count": 26,
   "id": "1beb3cc5-90e4-4e87-a93f-38acf1cd5482",
   "metadata": {},
   "outputs": [
    {
     "data": {
      "text/plain": [
       "city                      0\n",
       "city_development_index    0\n",
       "gender                    0\n",
       "relevent_experience       0\n",
       "enrolled_university       0\n",
       "education_level           0\n",
       "major_discipline          0\n",
       "experience                0\n",
       "company_size              0\n",
       "company_type              0\n",
       "last_new_job              0\n",
       "training_hours            0\n",
       "target                    0\n",
       "dtype: int64"
      ]
     },
     "execution_count": 26,
     "metadata": {},
     "output_type": "execute_result"
    }
   ],
   "source": [
    "df_sin_nulos.isnull().sum()"
   ]
  },
  {
   "cell_type": "markdown",
   "id": "20d86888-72cc-4f3b-b6eb-6d1cfd250ff8",
   "metadata": {},
   "source": [
    "# Transformación"
   ]
  },
  {
   "cell_type": "code",
   "execution_count": 27,
   "id": "4f40e325-3e1a-462e-8e0d-ed31c39f81fb",
   "metadata": {},
   "outputs": [],
   "source": [
    "y = df_sin_nulos.target"
   ]
  },
  {
   "cell_type": "code",
   "execution_count": 28,
   "id": "9bd46c6d-ecf7-4ab2-b0d9-41cdaabd4819",
   "metadata": {},
   "outputs": [],
   "source": [
    "df_sin_nulos.drop(columns= 'target', inplace=True)"
   ]
  },
  {
   "cell_type": "code",
   "execution_count": 29,
   "id": "41738320-2acd-48cf-8454-488a1a6bdb70",
   "metadata": {},
   "outputs": [
    {
     "data": {
      "text/plain": [
       "array([[<AxesSubplot:title={'center':'city_development_index'}>,\n",
       "        <AxesSubplot:title={'center':'experience'}>],\n",
       "       [<AxesSubplot:title={'center':'last_new_job'}>,\n",
       "        <AxesSubplot:title={'center':'training_hours'}>]], dtype=object)"
      ]
     },
     "execution_count": 29,
     "metadata": {},
     "output_type": "execute_result"
    },
    {
     "data": {
      "image/png": "[encoded data removed]",
      "text/plain": [
       "<Figure size 432x288 with 4 Axes>"
      ]
     },
     "metadata": {
      "needs_background": "light"
     },
     "output_type": "display_data"
    }
   ],
   "source": [
    "df_sin_nulos.hist()"
   ]
  },
  {
   "cell_type": "code",
   "execution_count": 30,
   "id": "7a3d723f-76db-48d6-ad54-8f60dec15ad0",
   "metadata": {},
   "outputs": [
    {
     "data": {
      "text/html": [
       "<div>\n",
       "<style scoped>\n",
       "    .dataframe tbody tr th:only-of-type {\n",
       "        vertical-align: middle;\n",
       "    }\n",
       "\n",
       "    .dataframe tbody tr th {\n",
       "        vertical-align: top;\n",
       "    }\n",
       "\n",
       "    .dataframe thead th {\n",
       "        text-align: right;\n",
       "    }\n",
       "</style>\n",
       "<table border=\"1\" class=\"dataframe\">\n",
       "  <thead>\n",
       "    <tr style=\"text-align: right;\">\n",
       "      <th></th>\n",
       "      <th>city</th>\n",
       "      <th>city_development_index</th>\n",
       "      <th>gender</th>\n",
       "      <th>relevent_experience</th>\n",
       "      <th>enrolled_university</th>\n",
       "      <th>education_level</th>\n",
       "      <th>major_discipline</th>\n",
       "      <th>experience</th>\n",
       "      <th>company_size</th>\n",
       "      <th>company_type</th>\n",
       "      <th>last_new_job</th>\n",
       "      <th>training_hours</th>\n",
       "    </tr>\n",
       "  </thead>\n",
       "  <tbody>\n",
       "    <tr>\n",
       "      <th>0</th>\n",
       "      <td>city_103</td>\n",
       "      <td>0.920</td>\n",
       "      <td>Male</td>\n",
       "      <td>Has relevent experience</td>\n",
       "      <td>no_enrollment</td>\n",
       "      <td>Graduate</td>\n",
       "      <td>STEM</td>\n",
       "      <td>21.0</td>\n",
       "      <td>50-99</td>\n",
       "      <td>Pvt Ltd</td>\n",
       "      <td>1.0</td>\n",
       "      <td>36</td>\n",
       "    </tr>\n",
       "    <tr>\n",
       "      <th>1</th>\n",
       "      <td>city_40</td>\n",
       "      <td>0.776</td>\n",
       "      <td>Male</td>\n",
       "      <td>No relevent experience</td>\n",
       "      <td>no_enrollment</td>\n",
       "      <td>Graduate</td>\n",
       "      <td>STEM</td>\n",
       "      <td>15.0</td>\n",
       "      <td>50-99</td>\n",
       "      <td>Pvt Ltd</td>\n",
       "      <td>5.0</td>\n",
       "      <td>47</td>\n",
       "    </tr>\n",
       "    <tr>\n",
       "      <th>2</th>\n",
       "      <td>city_21</td>\n",
       "      <td>0.624</td>\n",
       "      <td>Male</td>\n",
       "      <td>No relevent experience</td>\n",
       "      <td>Full time course</td>\n",
       "      <td>Graduate</td>\n",
       "      <td>STEM</td>\n",
       "      <td>5.0</td>\n",
       "      <td>50-99</td>\n",
       "      <td>Pvt Ltd</td>\n",
       "      <td>0.0</td>\n",
       "      <td>83</td>\n",
       "    </tr>\n",
       "    <tr>\n",
       "      <th>3</th>\n",
       "      <td>city_115</td>\n",
       "      <td>0.789</td>\n",
       "      <td>Male</td>\n",
       "      <td>No relevent experience</td>\n",
       "      <td>no_enrollment</td>\n",
       "      <td>Graduate</td>\n",
       "      <td>Business Degree</td>\n",
       "      <td>0.0</td>\n",
       "      <td>50-99</td>\n",
       "      <td>Pvt Ltd</td>\n",
       "      <td>0.0</td>\n",
       "      <td>52</td>\n",
       "    </tr>\n",
       "    <tr>\n",
       "      <th>4</th>\n",
       "      <td>city_176</td>\n",
       "      <td>0.764</td>\n",
       "      <td>Male</td>\n",
       "      <td>Has relevent experience</td>\n",
       "      <td>Part time course</td>\n",
       "      <td>Graduate</td>\n",
       "      <td>STEM</td>\n",
       "      <td>11.0</td>\n",
       "      <td>50-99</td>\n",
       "      <td>Pvt Ltd</td>\n",
       "      <td>1.0</td>\n",
       "      <td>24</td>\n",
       "    </tr>\n",
       "    <tr>\n",
       "      <th>...</th>\n",
       "      <td>...</td>\n",
       "      <td>...</td>\n",
       "      <td>...</td>\n",
       "      <td>...</td>\n",
       "      <td>...</td>\n",
       "      <td>...</td>\n",
       "      <td>...</td>\n",
       "      <td>...</td>\n",
       "      <td>...</td>\n",
       "      <td>...</td>\n",
       "      <td>...</td>\n",
       "      <td>...</td>\n",
       "    </tr>\n",
       "    <tr>\n",
       "      <th>15321</th>\n",
       "      <td>city_173</td>\n",
       "      <td>0.878</td>\n",
       "      <td>Male</td>\n",
       "      <td>No relevent experience</td>\n",
       "      <td>no_enrollment</td>\n",
       "      <td>Graduate</td>\n",
       "      <td>Humanities</td>\n",
       "      <td>14.0</td>\n",
       "      <td>50-99</td>\n",
       "      <td>Pvt Ltd</td>\n",
       "      <td>1.0</td>\n",
       "      <td>42</td>\n",
       "    </tr>\n",
       "    <tr>\n",
       "      <th>15322</th>\n",
       "      <td>city_103</td>\n",
       "      <td>0.920</td>\n",
       "      <td>Male</td>\n",
       "      <td>Has relevent experience</td>\n",
       "      <td>no_enrollment</td>\n",
       "      <td>Graduate</td>\n",
       "      <td>STEM</td>\n",
       "      <td>14.0</td>\n",
       "      <td>50-99</td>\n",
       "      <td>Pvt Ltd</td>\n",
       "      <td>4.0</td>\n",
       "      <td>52</td>\n",
       "    </tr>\n",
       "    <tr>\n",
       "      <th>15323</th>\n",
       "      <td>city_103</td>\n",
       "      <td>0.920</td>\n",
       "      <td>Male</td>\n",
       "      <td>Has relevent experience</td>\n",
       "      <td>no_enrollment</td>\n",
       "      <td>Graduate</td>\n",
       "      <td>STEM</td>\n",
       "      <td>21.0</td>\n",
       "      <td>50-99</td>\n",
       "      <td>Pvt Ltd</td>\n",
       "      <td>4.0</td>\n",
       "      <td>44</td>\n",
       "    </tr>\n",
       "    <tr>\n",
       "      <th>15324</th>\n",
       "      <td>city_65</td>\n",
       "      <td>0.802</td>\n",
       "      <td>Male</td>\n",
       "      <td>Has relevent experience</td>\n",
       "      <td>no_enrollment</td>\n",
       "      <td>High School</td>\n",
       "      <td>STEM</td>\n",
       "      <td>0.0</td>\n",
       "      <td>500-999</td>\n",
       "      <td>Pvt Ltd</td>\n",
       "      <td>2.0</td>\n",
       "      <td>97</td>\n",
       "    </tr>\n",
       "    <tr>\n",
       "      <th>15325</th>\n",
       "      <td>city_67</td>\n",
       "      <td>0.855</td>\n",
       "      <td>Male</td>\n",
       "      <td>No relevent experience</td>\n",
       "      <td>no_enrollment</td>\n",
       "      <td>Primary School</td>\n",
       "      <td>STEM</td>\n",
       "      <td>2.0</td>\n",
       "      <td>50-99</td>\n",
       "      <td>Pvt Ltd</td>\n",
       "      <td>1.0</td>\n",
       "      <td>127</td>\n",
       "    </tr>\n",
       "  </tbody>\n",
       "</table>\n",
       "<p>15326 rows × 12 columns</p>\n",
       "</div>"
      ],
      "text/plain": [
       "           city  city_development_index gender      relevent_experience  \\\n",
       "0      city_103                   0.920   Male  Has relevent experience   \n",
       "1       city_40                   0.776   Male   No relevent experience   \n",
       "2       city_21                   0.624   Male   No relevent experience   \n",
       "3      city_115                   0.789   Male   No relevent experience   \n",
       "4      city_176                   0.764   Male  Has relevent experience   \n",
       "...         ...                     ...    ...                      ...   \n",
       "15321  city_173                   0.878   Male   No relevent experience   \n",
       "15322  city_103                   0.920   Male  Has relevent experience   \n",
       "15323  city_103                   0.920   Male  Has relevent experience   \n",
       "15324   city_65                   0.802   Male  Has relevent experience   \n",
       "15325   city_67                   0.855   Male   No relevent experience   \n",
       "\n",
       "      enrolled_university education_level major_discipline  experience  \\\n",
       "0           no_enrollment        Graduate             STEM        21.0   \n",
       "1           no_enrollment        Graduate             STEM        15.0   \n",
       "2        Full time course        Graduate             STEM         5.0   \n",
       "3           no_enrollment        Graduate  Business Degree         0.0   \n",
       "4        Part time course        Graduate             STEM        11.0   \n",
       "...                   ...             ...              ...         ...   \n",
       "15321       no_enrollment        Graduate       Humanities        14.0   \n",
       "15322       no_enrollment        Graduate             STEM        14.0   \n",
       "15323       no_enrollment        Graduate             STEM        21.0   \n",
       "15324       no_enrollment     High School             STEM         0.0   \n",
       "15325       no_enrollment  Primary School             STEM         2.0   \n",
       "\n",
       "      company_size company_type  last_new_job  training_hours  \n",
       "0            50-99      Pvt Ltd           1.0              36  \n",
       "1            50-99      Pvt Ltd           5.0              47  \n",
       "2            50-99      Pvt Ltd           0.0              83  \n",
       "3            50-99      Pvt Ltd           0.0              52  \n",
       "4            50-99      Pvt Ltd           1.0              24  \n",
       "...            ...          ...           ...             ...  \n",
       "15321        50-99      Pvt Ltd           1.0              42  \n",
       "15322        50-99      Pvt Ltd           4.0              52  \n",
       "15323        50-99      Pvt Ltd           4.0              44  \n",
       "15324      500-999      Pvt Ltd           2.0              97  \n",
       "15325        50-99      Pvt Ltd           1.0             127  \n",
       "\n",
       "[15326 rows x 12 columns]"
      ]
     },
     "execution_count": 30,
     "metadata": {},
     "output_type": "execute_result"
    }
   ],
   "source": [
    "df_transformado = df_sin_nulos.copy()\n",
    "df_transformado"
   ]
  },
  {
   "cell_type": "markdown",
   "id": "e8bfc7a1-574f-4c7a-88e8-1ad69da3ec55",
   "metadata": {},
   "source": [
    "## OrdinalEncoder"
   ]
  },
  {
   "cell_type": "code",
   "execution_count": 31,
   "id": "0c81081f-5a43-4d7f-a0a1-873f28c9a476",
   "metadata": {},
   "outputs": [],
   "source": [
    "from sklearn import preprocessing"
   ]
  },
  {
   "cell_type": "code",
   "execution_count": 32,
   "id": "ee06136c-e36d-46b5-8f3c-42944bd95c33",
   "metadata": {},
   "outputs": [
    {
     "data": {
      "text/plain": [
       "Index(['city', 'city_development_index', 'gender', 'relevent_experience',\n",
       "       'enrolled_university', 'education_level', 'major_discipline',\n",
       "       'experience', 'company_size', 'company_type', 'last_new_job',\n",
       "       'training_hours'],\n",
       "      dtype='object')"
      ]
     },
     "execution_count": 32,
     "metadata": {},
     "output_type": "execute_result"
    }
   ],
   "source": [
    "df_transformado.columns"
   ]
  },
  {
   "cell_type": "code",
   "execution_count": 33,
   "id": "738104b1-791a-4d86-bd58-db25f2077ad1",
   "metadata": {},
   "outputs": [
    {
     "data": {
      "text/plain": [
       "array(['Has relevent experience', 'No relevent experience'], dtype=object)"
      ]
     },
     "execution_count": 33,
     "metadata": {},
     "output_type": "execute_result"
    }
   ],
   "source": [
    "df_transformado.relevent_experience.unique()"
   ]
  },
  {
   "cell_type": "code",
   "execution_count": 34,
   "id": "5cd5af51-7136-407d-9d6d-51bb4775914f",
   "metadata": {},
   "outputs": [
    {
     "data": {
      "text/plain": [
       "array(['Graduate', 'High School', 'Masters', 'Phd', 'Primary School'],\n",
       "      dtype=object)"
      ]
     },
     "execution_count": 34,
     "metadata": {},
     "output_type": "execute_result"
    }
   ],
   "source": [
    "df_transformado.education_level.unique()"
   ]
  },
  {
   "cell_type": "code",
   "execution_count": 35,
   "id": "4bbb6a6a-b0e3-4613-a542-98a964d6825a",
   "metadata": {},
   "outputs": [],
   "source": [
    "ordinales = ['relevent_experience', 'education_level']"
   ]
  },
  {
   "cell_type": "code",
   "execution_count": 36,
   "id": "aa309077-e363-4f10-802e-56bd62bf518a",
   "metadata": {},
   "outputs": [],
   "source": [
    "relevent_experience = preprocessing.OrdinalEncoder(categories = [['No relevent experience', 'Has relevent experience']], handle_unknown='use_encoded_value', unknown_value = -1)\n",
    "df_transformado['relevent_experience']=relevent_experience.fit_transform(df_transformado[['relevent_experience']])"
   ]
  },
  {
   "cell_type": "code",
   "execution_count": 37,
   "id": "b9c9d811-4364-4cee-a0e6-ad06a91072f7",
   "metadata": {},
   "outputs": [],
   "source": [
    "education_level = preprocessing.OrdinalEncoder(categories = [['Primary School','High School', 'Graduate', 'Masters', 'Phd']])\n",
    "df_transformado['education_level']=education_level.fit_transform(df_transformado[['education_level']])"
   ]
  },
  {
   "cell_type": "code",
   "execution_count": 38,
   "id": "8f4e1842-450a-4ae6-9799-9ae3f37290e7",
   "metadata": {},
   "outputs": [
    {
     "data": {
      "text/plain": [
       "2.0    9634\n",
       "3.0    3514\n",
       "1.0    1607\n",
       "4.0     329\n",
       "0.0     242\n",
       "Name: education_level, dtype: int64"
      ]
     },
     "execution_count": 38,
     "metadata": {},
     "output_type": "execute_result"
    }
   ],
   "source": [
    "df_transformado['education_level'].value_counts()"
   ]
  },
  {
   "cell_type": "markdown",
   "id": "21df73f5-c3e0-43fc-b6f9-609444cace7a",
   "metadata": {},
   "source": [
    "## categóricas no ordinales"
   ]
  },
  {
   "cell_type": "code",
   "execution_count": 39,
   "id": "99fb33e2-3db7-4e9a-bbd3-006a8ef659b6",
   "metadata": {},
   "outputs": [],
   "source": [
    "from feature_engine.encoding import CountFrequencyEncoder"
   ]
  },
  {
   "cell_type": "code",
   "execution_count": 40,
   "id": "83470d45-39a1-4c91-a6da-39c7db95c325",
   "metadata": {},
   "outputs": [
    {
     "data": {
      "text/plain": [
       "Index(['city', 'city_development_index', 'gender', 'relevent_experience',\n",
       "       'enrolled_university', 'education_level', 'major_discipline',\n",
       "       'experience', 'company_size', 'company_type', 'last_new_job',\n",
       "       'training_hours'],\n",
       "      dtype='object')"
      ]
     },
     "execution_count": 40,
     "metadata": {},
     "output_type": "execute_result"
    }
   ],
   "source": [
    "df_transformado.columns"
   ]
  },
  {
   "cell_type": "code",
   "execution_count": 41,
   "id": "023b43a2-46a8-4b25-998b-093e36390812",
   "metadata": {},
   "outputs": [],
   "source": [
    "df_transformado[['experience', 'last_new_job']]=df_transformado[['experience', 'last_new_job']].astype(str)"
   ]
  },
  {
   "cell_type": "code",
   "execution_count": 42,
   "id": "832fdfc5-836c-4362-95a7-ee7e98057b7a",
   "metadata": {},
   "outputs": [],
   "source": [
    "categoricas= CountFrequencyEncoder(encoding_method = 'frequency',variables = ['city', 'gender', 'enrolled_university', 'major_discipline','experience','company_size', 'company_type','last_new_job'] )\n",
    "df_transformado = categoricas.fit_transform(df_transformado)"
   ]
  },
  {
   "cell_type": "code",
   "execution_count": 43,
   "id": "0b6f3c00-e673-4b2e-b419-475dd20ec509",
   "metadata": {},
   "outputs": [
    {
     "data": {
      "text/html": [
       "<div>\n",
       "<style scoped>\n",
       "    .dataframe tbody tr th:only-of-type {\n",
       "        vertical-align: middle;\n",
       "    }\n",
       "\n",
       "    .dataframe tbody tr th {\n",
       "        vertical-align: top;\n",
       "    }\n",
       "\n",
       "    .dataframe thead th {\n",
       "        text-align: right;\n",
       "    }\n",
       "</style>\n",
       "<table border=\"1\" class=\"dataframe\">\n",
       "  <thead>\n",
       "    <tr style=\"text-align: right;\">\n",
       "      <th></th>\n",
       "      <th>city</th>\n",
       "      <th>city_development_index</th>\n",
       "      <th>gender</th>\n",
       "      <th>relevent_experience</th>\n",
       "      <th>enrolled_university</th>\n",
       "      <th>education_level</th>\n",
       "      <th>major_discipline</th>\n",
       "      <th>experience</th>\n",
       "      <th>company_size</th>\n",
       "      <th>company_type</th>\n",
       "      <th>last_new_job</th>\n",
       "      <th>training_hours</th>\n",
       "    </tr>\n",
       "  </thead>\n",
       "  <tbody>\n",
       "    <tr>\n",
       "      <th>0</th>\n",
       "      <td>0.228174</td>\n",
       "      <td>0.920</td>\n",
       "      <td>0.925095</td>\n",
       "      <td>1.0</td>\n",
       "      <td>0.742072</td>\n",
       "      <td>2.0</td>\n",
       "      <td>0.903432</td>\n",
       "      <td>0.171800</td>\n",
       "      <td>0.468615</td>\n",
       "      <td>0.832833</td>\n",
       "      <td>0.443495</td>\n",
       "      <td>36</td>\n",
       "    </tr>\n",
       "    <tr>\n",
       "      <th>1</th>\n",
       "      <td>0.003589</td>\n",
       "      <td>0.776</td>\n",
       "      <td>0.925095</td>\n",
       "      <td>0.0</td>\n",
       "      <td>0.742072</td>\n",
       "      <td>2.0</td>\n",
       "      <td>0.903432</td>\n",
       "      <td>0.036082</td>\n",
       "      <td>0.468615</td>\n",
       "      <td>0.832833</td>\n",
       "      <td>0.171408</td>\n",
       "      <td>47</td>\n",
       "    </tr>\n",
       "    <tr>\n",
       "      <th>2</th>\n",
       "      <td>0.140676</td>\n",
       "      <td>0.624</td>\n",
       "      <td>0.925095</td>\n",
       "      <td>0.0</td>\n",
       "      <td>0.195093</td>\n",
       "      <td>2.0</td>\n",
       "      <td>0.903432</td>\n",
       "      <td>0.074905</td>\n",
       "      <td>0.468615</td>\n",
       "      <td>0.832833</td>\n",
       "      <td>0.126909</td>\n",
       "      <td>83</td>\n",
       "    </tr>\n",
       "    <tr>\n",
       "      <th>3</th>\n",
       "      <td>0.002740</td>\n",
       "      <td>0.789</td>\n",
       "      <td>0.925095</td>\n",
       "      <td>0.0</td>\n",
       "      <td>0.742072</td>\n",
       "      <td>2.0</td>\n",
       "      <td>0.016899</td>\n",
       "      <td>0.026621</td>\n",
       "      <td>0.468615</td>\n",
       "      <td>0.832833</td>\n",
       "      <td>0.126909</td>\n",
       "      <td>52</td>\n",
       "    </tr>\n",
       "    <tr>\n",
       "      <th>4</th>\n",
       "      <td>0.001370</td>\n",
       "      <td>0.764</td>\n",
       "      <td>0.925095</td>\n",
       "      <td>1.0</td>\n",
       "      <td>0.062834</td>\n",
       "      <td>2.0</td>\n",
       "      <td>0.903432</td>\n",
       "      <td>0.035104</td>\n",
       "      <td>0.468615</td>\n",
       "      <td>0.832833</td>\n",
       "      <td>0.443495</td>\n",
       "      <td>24</td>\n",
       "    </tr>\n",
       "  </tbody>\n",
       "</table>\n",
       "</div>"
      ],
      "text/plain": [
       "       city  city_development_index    gender  relevent_experience  \\\n",
       "0  0.228174                   0.920  0.925095                  1.0   \n",
       "1  0.003589                   0.776  0.925095                  0.0   \n",
       "2  0.140676                   0.624  0.925095                  0.0   \n",
       "3  0.002740                   0.789  0.925095                  0.0   \n",
       "4  0.001370                   0.764  0.925095                  1.0   \n",
       "\n",
       "   enrolled_university  education_level  major_discipline  experience  \\\n",
       "0             0.742072              2.0          0.903432    0.171800   \n",
       "1             0.742072              2.0          0.903432    0.036082   \n",
       "2             0.195093              2.0          0.903432    0.074905   \n",
       "3             0.742072              2.0          0.016899    0.026621   \n",
       "4             0.062834              2.0          0.903432    0.035104   \n",
       "\n",
       "   company_size  company_type  last_new_job  training_hours  \n",
       "0      0.468615      0.832833      0.443495              36  \n",
       "1      0.468615      0.832833      0.171408              47  \n",
       "2      0.468615      0.832833      0.126909              83  \n",
       "3      0.468615      0.832833      0.126909              52  \n",
       "4      0.468615      0.832833      0.443495              24  "
      ]
     },
     "execution_count": 43,
     "metadata": {},
     "output_type": "execute_result"
    }
   ],
   "source": [
    "df_transformado.head()"
   ]
  },
  {
   "cell_type": "code",
   "execution_count": 44,
   "id": "43b7de54-46f9-4466-b423-0ba142ce4d22",
   "metadata": {},
   "outputs": [
    {
     "data": {
      "text/plain": [
       "city                      0.080629\n",
       "city_development_index   -0.346320\n",
       "gender                   -0.004279\n",
       "relevent_experience      -0.127104\n",
       "enrolled_university      -0.128498\n",
       "education_level          -0.015313\n",
       "major_discipline          0.011777\n",
       "experience               -0.067750\n",
       "company_size              0.166250\n",
       "company_type              0.053523\n",
       "last_new_job              0.035194\n",
       "training_hours           -0.018939\n",
       "target                    1.000000\n",
       "Name: target, dtype: float64"
      ]
     },
     "execution_count": 44,
     "metadata": {},
     "output_type": "execute_result"
    }
   ],
   "source": [
    "(pd.concat((df_transformado,y), axis=1)).corr().target"
   ]
  },
  {
   "cell_type": "markdown",
   "id": "fe7cf008-cdc0-4b5f-bd2d-ec71f1a4d88b",
   "metadata": {
    "jp-MarkdownHeadingCollapsed": true,
    "tags": []
   },
   "source": [
    "## Sacler"
   ]
  },
  {
   "cell_type": "code",
   "execution_count": 196,
   "id": "77bfda60-db27-45ed-95cc-6c86a878189f",
   "metadata": {},
   "outputs": [
    {
     "data": {
      "text/html": [
       "<div>\n",
       "<style scoped>\n",
       "    .dataframe tbody tr th:only-of-type {\n",
       "        vertical-align: middle;\n",
       "    }\n",
       "\n",
       "    .dataframe tbody tr th {\n",
       "        vertical-align: top;\n",
       "    }\n",
       "\n",
       "    .dataframe thead th {\n",
       "        text-align: right;\n",
       "    }\n",
       "</style>\n",
       "<table border=\"1\" class=\"dataframe\">\n",
       "  <thead>\n",
       "    <tr style=\"text-align: right;\">\n",
       "      <th></th>\n",
       "      <th>count</th>\n",
       "      <th>mean</th>\n",
       "      <th>std</th>\n",
       "      <th>min</th>\n",
       "      <th>25%</th>\n",
       "      <th>50%</th>\n",
       "      <th>75%</th>\n",
       "      <th>max</th>\n",
       "    </tr>\n",
       "  </thead>\n",
       "  <tbody>\n",
       "    <tr>\n",
       "      <th>city</th>\n",
       "      <td>15326.0</td>\n",
       "      <td>0.089827</td>\n",
       "      <td>0.087433</td>\n",
       "      <td>0.000065</td>\n",
       "      <td>0.009983</td>\n",
       "      <td>0.069620</td>\n",
       "      <td>0.140676</td>\n",
       "      <td>0.228174</td>\n",
       "    </tr>\n",
       "    <tr>\n",
       "      <th>city_development_index</th>\n",
       "      <td>15326.0</td>\n",
       "      <td>0.829929</td>\n",
       "      <td>0.122668</td>\n",
       "      <td>0.448000</td>\n",
       "      <td>0.743000</td>\n",
       "      <td>0.910000</td>\n",
       "      <td>0.920000</td>\n",
       "      <td>0.949000</td>\n",
       "    </tr>\n",
       "    <tr>\n",
       "      <th>gender</th>\n",
       "      <td>15326.0</td>\n",
       "      <td>0.860136</td>\n",
       "      <td>0.228347</td>\n",
       "      <td>0.009787</td>\n",
       "      <td>0.925095</td>\n",
       "      <td>0.925095</td>\n",
       "      <td>0.925095</td>\n",
       "      <td>0.925095</td>\n",
       "    </tr>\n",
       "    <tr>\n",
       "      <th>relevent_experience</th>\n",
       "      <td>15326.0</td>\n",
       "      <td>0.722171</td>\n",
       "      <td>0.447943</td>\n",
       "      <td>0.000000</td>\n",
       "      <td>0.000000</td>\n",
       "      <td>1.000000</td>\n",
       "      <td>1.000000</td>\n",
       "      <td>1.000000</td>\n",
       "    </tr>\n",
       "    <tr>\n",
       "      <th>enrolled_university</th>\n",
       "      <td>15326.0</td>\n",
       "      <td>0.592681</td>\n",
       "      <td>0.255040</td>\n",
       "      <td>0.062834</td>\n",
       "      <td>0.195093</td>\n",
       "      <td>0.742072</td>\n",
       "      <td>0.742072</td>\n",
       "      <td>0.742072</td>\n",
       "    </tr>\n",
       "    <tr>\n",
       "      <th>education_level</th>\n",
       "      <td>15326.0</td>\n",
       "      <td>2.135782</td>\n",
       "      <td>0.681733</td>\n",
       "      <td>0.000000</td>\n",
       "      <td>2.000000</td>\n",
       "      <td>2.000000</td>\n",
       "      <td>3.000000</td>\n",
       "      <td>4.000000</td>\n",
       "    </tr>\n",
       "    <tr>\n",
       "      <th>major_discipline</th>\n",
       "      <td>15326.0</td>\n",
       "      <td>0.818388</td>\n",
       "      <td>0.260144</td>\n",
       "      <td>0.011679</td>\n",
       "      <td>0.903432</td>\n",
       "      <td>0.903432</td>\n",
       "      <td>0.903432</td>\n",
       "      <td>0.903432</td>\n",
       "    </tr>\n",
       "    <tr>\n",
       "      <th>experience</th>\n",
       "      <td>15326.0</td>\n",
       "      <td>0.070815</td>\n",
       "      <td>0.049172</td>\n",
       "      <td>0.007373</td>\n",
       "      <td>0.036082</td>\n",
       "      <td>0.059050</td>\n",
       "      <td>0.072034</td>\n",
       "      <td>0.171800</td>\n",
       "    </tr>\n",
       "    <tr>\n",
       "      <th>company_size</th>\n",
       "      <td>15326.0</td>\n",
       "      <td>0.267573</td>\n",
       "      <td>0.190308</td>\n",
       "      <td>0.028905</td>\n",
       "      <td>0.076537</td>\n",
       "      <td>0.134347</td>\n",
       "      <td>0.468615</td>\n",
       "      <td>0.468615</td>\n",
       "    </tr>\n",
       "    <tr>\n",
       "      <th>company_type</th>\n",
       "      <td>15326.0</td>\n",
       "      <td>0.700630</td>\n",
       "      <td>0.295135</td>\n",
       "      <td>0.005677</td>\n",
       "      <td>0.832833</td>\n",
       "      <td>0.832833</td>\n",
       "      <td>0.832833</td>\n",
       "      <td>0.832833</td>\n",
       "    </tr>\n",
       "    <tr>\n",
       "      <th>last_new_job</th>\n",
       "      <td>15326.0</td>\n",
       "      <td>0.270768</td>\n",
       "      <td>0.157359</td>\n",
       "      <td>0.053243</td>\n",
       "      <td>0.151246</td>\n",
       "      <td>0.171408</td>\n",
       "      <td>0.443495</td>\n",
       "      <td>0.443495</td>\n",
       "    </tr>\n",
       "    <tr>\n",
       "      <th>training_hours</th>\n",
       "      <td>15326.0</td>\n",
       "      <td>65.279068</td>\n",
       "      <td>60.079482</td>\n",
       "      <td>1.000000</td>\n",
       "      <td>23.000000</td>\n",
       "      <td>47.000000</td>\n",
       "      <td>89.000000</td>\n",
       "      <td>336.000000</td>\n",
       "    </tr>\n",
       "  </tbody>\n",
       "</table>\n",
       "</div>"
      ],
      "text/plain": [
       "                          count       mean        std       min        25%  \\\n",
       "city                    15326.0   0.089827   0.087433  0.000065   0.009983   \n",
       "city_development_index  15326.0   0.829929   0.122668  0.448000   0.743000   \n",
       "gender                  15326.0   0.860136   0.228347  0.009787   0.925095   \n",
       "relevent_experience     15326.0   0.722171   0.447943  0.000000   0.000000   \n",
       "enrolled_university     15326.0   0.592681   0.255040  0.062834   0.195093   \n",
       "education_level         15326.0   2.135782   0.681733  0.000000   2.000000   \n",
       "major_discipline        15326.0   0.818388   0.260144  0.011679   0.903432   \n",
       "experience              15326.0   0.070815   0.049172  0.007373   0.036082   \n",
       "company_size            15326.0   0.267573   0.190308  0.028905   0.076537   \n",
       "company_type            15326.0   0.700630   0.295135  0.005677   0.832833   \n",
       "last_new_job            15326.0   0.270768   0.157359  0.053243   0.151246   \n",
       "training_hours          15326.0  65.279068  60.079482  1.000000  23.000000   \n",
       "\n",
       "                              50%        75%         max  \n",
       "city                     0.069620   0.140676    0.228174  \n",
       "city_development_index   0.910000   0.920000    0.949000  \n",
       "gender                   0.925095   0.925095    0.925095  \n",
       "relevent_experience      1.000000   1.000000    1.000000  \n",
       "enrolled_university      0.742072   0.742072    0.742072  \n",
       "education_level          2.000000   3.000000    4.000000  \n",
       "major_discipline         0.903432   0.903432    0.903432  \n",
       "experience               0.059050   0.072034    0.171800  \n",
       "company_size             0.134347   0.468615    0.468615  \n",
       "company_type             0.832833   0.832833    0.832833  \n",
       "last_new_job             0.171408   0.443495    0.443495  \n",
       "training_hours          47.000000  89.000000  336.000000  "
      ]
     },
     "execution_count": 196,
     "metadata": {},
     "output_type": "execute_result"
    }
   ],
   "source": [
    "df_transformado.describe().T"
   ]
  },
  {
   "cell_type": "code",
   "execution_count": 114,
   "id": "a55004fa-43db-4a6e-92f2-22b45c5bc351",
   "metadata": {},
   "outputs": [],
   "source": [
    "from sklearn.preprocessing import StandardScaler"
   ]
  },
  {
   "cell_type": "code",
   "execution_count": 115,
   "id": "5b2977c0-a07f-4614-8222-8bf6427898dd",
   "metadata": {},
   "outputs": [],
   "source": [
    "scale = StandardScaler()"
   ]
  },
  {
   "cell_type": "code",
   "execution_count": 198,
   "id": "272126ad-4bce-42c1-bf76-a7a3b7e1788b",
   "metadata": {},
   "outputs": [],
   "source": [
    "df_escalado = df_transformado.copy()"
   ]
  },
  {
   "cell_type": "code",
   "execution_count": 199,
   "id": "72596ec0-c9af-4649-979f-4e469eafadc9",
   "metadata": {},
   "outputs": [],
   "source": [
    "df_escalado = pd.DataFrame(scale.fit_transform(df_transformado), columns=df_transformado.columns)"
   ]
  },
  {
   "cell_type": "code",
   "execution_count": 201,
   "id": "ec04596d-5ab1-4e36-b713-f203c24d95a0",
   "metadata": {},
   "outputs": [
    {
     "data": {
      "text/plain": [
       "(15326, 12)"
      ]
     },
     "execution_count": 201,
     "metadata": {},
     "output_type": "execute_result"
    }
   ],
   "source": [
    "df_escalado.shape"
   ]
  },
  {
   "cell_type": "code",
   "execution_count": 202,
   "id": "726dca86-69c6-4267-82f4-0e3b1d2dc8e2",
   "metadata": {
    "collapsed": true,
    "jupyter": {
     "outputs_hidden": true
    },
    "tags": []
   },
   "outputs": [
    {
     "data": {
      "text/html": [
       "<div>\n",
       "<style scoped>\n",
       "    .dataframe tbody tr th:only-of-type {\n",
       "        vertical-align: middle;\n",
       "    }\n",
       "\n",
       "    .dataframe tbody tr th {\n",
       "        vertical-align: top;\n",
       "    }\n",
       "\n",
       "    .dataframe thead th {\n",
       "        text-align: right;\n",
       "    }\n",
       "</style>\n",
       "<table border=\"1\" class=\"dataframe\">\n",
       "  <thead>\n",
       "    <tr style=\"text-align: right;\">\n",
       "      <th></th>\n",
       "      <th>city</th>\n",
       "      <th>city_development_index</th>\n",
       "      <th>gender</th>\n",
       "      <th>relevent_experience</th>\n",
       "      <th>enrolled_university</th>\n",
       "      <th>education_level</th>\n",
       "      <th>major_discipline</th>\n",
       "      <th>experience</th>\n",
       "      <th>company_size</th>\n",
       "      <th>company_type</th>\n",
       "      <th>last_new_job</th>\n",
       "      <th>training_hours</th>\n",
       "    </tr>\n",
       "  </thead>\n",
       "  <tbody>\n",
       "    <tr>\n",
       "      <th>0</th>\n",
       "      <td>1.582381</td>\n",
       "      <td>0.734287</td>\n",
       "      <td>0.284482</td>\n",
       "      <td>0.620252</td>\n",
       "      <td>0.585777</td>\n",
       "      <td>-0.199179</td>\n",
       "      <td>0.326921</td>\n",
       "      <td>2.053758</td>\n",
       "      <td>1.056441</td>\n",
       "      <td>0.447955</td>\n",
       "      <td>1.097696</td>\n",
       "      <td>-0.487355</td>\n",
       "    </tr>\n",
       "    <tr>\n",
       "      <th>1</th>\n",
       "      <td>-0.986364</td>\n",
       "      <td>-0.439651</td>\n",
       "      <td>0.284482</td>\n",
       "      <td>-1.612248</td>\n",
       "      <td>0.585777</td>\n",
       "      <td>-0.199179</td>\n",
       "      <td>0.326921</td>\n",
       "      <td>-0.706355</td>\n",
       "      <td>1.056441</td>\n",
       "      <td>0.447955</td>\n",
       "      <td>-0.631442</td>\n",
       "      <td>-0.304258</td>\n",
       "    </tr>\n",
       "    <tr>\n",
       "      <th>2</th>\n",
       "      <td>0.581601</td>\n",
       "      <td>-1.678807</td>\n",
       "      <td>0.284482</td>\n",
       "      <td>-1.612248</td>\n",
       "      <td>-1.558976</td>\n",
       "      <td>-0.199179</td>\n",
       "      <td>0.326921</td>\n",
       "      <td>0.083197</td>\n",
       "      <td>1.056441</td>\n",
       "      <td>0.447955</td>\n",
       "      <td>-0.914241</td>\n",
       "      <td>0.294968</td>\n",
       "    </tr>\n",
       "    <tr>\n",
       "      <th>3</th>\n",
       "      <td>-0.996066</td>\n",
       "      <td>-0.333671</td>\n",
       "      <td>0.284482</td>\n",
       "      <td>-1.612248</td>\n",
       "      <td>0.585777</td>\n",
       "      <td>-0.199179</td>\n",
       "      <td>-3.081047</td>\n",
       "      <td>-0.898767</td>\n",
       "      <td>1.056441</td>\n",
       "      <td>0.447955</td>\n",
       "      <td>-0.914241</td>\n",
       "      <td>-0.221032</td>\n",
       "    </tr>\n",
       "    <tr>\n",
       "      <th>4</th>\n",
       "      <td>-1.011738</td>\n",
       "      <td>-0.537479</td>\n",
       "      <td>0.284482</td>\n",
       "      <td>0.620252</td>\n",
       "      <td>-2.077575</td>\n",
       "      <td>-0.199179</td>\n",
       "      <td>0.326921</td>\n",
       "      <td>-0.726259</td>\n",
       "      <td>1.056441</td>\n",
       "      <td>0.447955</td>\n",
       "      <td>1.097696</td>\n",
       "      <td>-0.687097</td>\n",
       "    </tr>\n",
       "    <tr>\n",
       "      <th>...</th>\n",
       "      <td>...</td>\n",
       "      <td>...</td>\n",
       "      <td>...</td>\n",
       "      <td>...</td>\n",
       "      <td>...</td>\n",
       "      <td>...</td>\n",
       "      <td>...</td>\n",
       "      <td>...</td>\n",
       "      <td>...</td>\n",
       "      <td>...</td>\n",
       "      <td>...</td>\n",
       "      <td>...</td>\n",
       "    </tr>\n",
       "    <tr>\n",
       "      <th>15321</th>\n",
       "      <td>-0.940094</td>\n",
       "      <td>0.391888</td>\n",
       "      <td>0.284482</td>\n",
       "      <td>-1.612248</td>\n",
       "      <td>0.585777</td>\n",
       "      <td>-0.199179</td>\n",
       "      <td>-3.013073</td>\n",
       "      <td>-0.804551</td>\n",
       "      <td>1.056441</td>\n",
       "      <td>0.447955</td>\n",
       "      <td>1.097696</td>\n",
       "      <td>-0.387484</td>\n",
       "    </tr>\n",
       "    <tr>\n",
       "      <th>15322</th>\n",
       "      <td>1.582381</td>\n",
       "      <td>0.734287</td>\n",
       "      <td>0.284482</td>\n",
       "      <td>0.620252</td>\n",
       "      <td>0.585777</td>\n",
       "      <td>-0.199179</td>\n",
       "      <td>0.326921</td>\n",
       "      <td>-0.804551</td>\n",
       "      <td>1.056441</td>\n",
       "      <td>0.447955</td>\n",
       "      <td>-1.379491</td>\n",
       "      <td>-0.221032</td>\n",
       "    </tr>\n",
       "    <tr>\n",
       "      <th>15323</th>\n",
       "      <td>1.582381</td>\n",
       "      <td>0.734287</td>\n",
       "      <td>0.284482</td>\n",
       "      <td>0.620252</td>\n",
       "      <td>0.585777</td>\n",
       "      <td>-0.199179</td>\n",
       "      <td>0.326921</td>\n",
       "      <td>2.053758</td>\n",
       "      <td>1.056441</td>\n",
       "      <td>0.447955</td>\n",
       "      <td>-1.379491</td>\n",
       "      <td>-0.354194</td>\n",
       "    </tr>\n",
       "    <tr>\n",
       "      <th>15324</th>\n",
       "      <td>-0.923675</td>\n",
       "      <td>-0.227690</td>\n",
       "      <td>0.284482</td>\n",
       "      <td>0.620252</td>\n",
       "      <td>0.585777</td>\n",
       "      <td>-1.666078</td>\n",
       "      <td>0.326921</td>\n",
       "      <td>-0.898767</td>\n",
       "      <td>-1.163640</td>\n",
       "      <td>0.447955</td>\n",
       "      <td>-0.759572</td>\n",
       "      <td>0.528000</td>\n",
       "    </tr>\n",
       "    <tr>\n",
       "      <th>15325</th>\n",
       "      <td>-0.769939</td>\n",
       "      <td>0.204384</td>\n",
       "      <td>0.284482</td>\n",
       "      <td>-1.612248</td>\n",
       "      <td>0.585777</td>\n",
       "      <td>-3.132976</td>\n",
       "      <td>0.326921</td>\n",
       "      <td>-0.239259</td>\n",
       "      <td>1.056441</td>\n",
       "      <td>0.447955</td>\n",
       "      <td>1.097696</td>\n",
       "      <td>1.027355</td>\n",
       "    </tr>\n",
       "  </tbody>\n",
       "</table>\n",
       "<p>15326 rows × 12 columns</p>\n",
       "</div>"
      ],
      "text/plain": [
       "           city  city_development_index    gender  relevent_experience  \\\n",
       "0      1.582381                0.734287  0.284482             0.620252   \n",
       "1     -0.986364               -0.439651  0.284482            -1.612248   \n",
       "2      0.581601               -1.678807  0.284482            -1.612248   \n",
       "3     -0.996066               -0.333671  0.284482            -1.612248   \n",
       "4     -1.011738               -0.537479  0.284482             0.620252   \n",
       "...         ...                     ...       ...                  ...   \n",
       "15321 -0.940094                0.391888  0.284482            -1.612248   \n",
       "15322  1.582381                0.734287  0.284482             0.620252   \n",
       "15323  1.582381                0.734287  0.284482             0.620252   \n",
       "15324 -0.923675               -0.227690  0.284482             0.620252   \n",
       "15325 -0.769939                0.204384  0.284482            -1.612248   \n",
       "\n",
       "       enrolled_university  education_level  major_discipline  experience  \\\n",
       "0                 0.585777        -0.199179          0.326921    2.053758   \n",
       "1                 0.585777        -0.199179          0.326921   -0.706355   \n",
       "2                -1.558976        -0.199179          0.326921    0.083197   \n",
       "3                 0.585777        -0.199179         -3.081047   -0.898767   \n",
       "4                -2.077575        -0.199179          0.326921   -0.726259   \n",
       "...                    ...              ...               ...         ...   \n",
       "15321             0.585777        -0.199179         -3.013073   -0.804551   \n",
       "15322             0.585777        -0.199179          0.326921   -0.804551   \n",
       "15323             0.585777        -0.199179          0.326921    2.053758   \n",
       "15324             0.585777        -1.666078          0.326921   -0.898767   \n",
       "15325             0.585777        -3.132976          0.326921   -0.239259   \n",
       "\n",
       "       company_size  company_type  last_new_job  training_hours  \n",
       "0          1.056441      0.447955      1.097696       -0.487355  \n",
       "1          1.056441      0.447955     -0.631442       -0.304258  \n",
       "2          1.056441      0.447955     -0.914241        0.294968  \n",
       "3          1.056441      0.447955     -0.914241       -0.221032  \n",
       "4          1.056441      0.447955      1.097696       -0.687097  \n",
       "...             ...           ...           ...             ...  \n",
       "15321      1.056441      0.447955      1.097696       -0.387484  \n",
       "15322      1.056441      0.447955     -1.379491       -0.221032  \n",
       "15323      1.056441      0.447955     -1.379491       -0.354194  \n",
       "15324     -1.163640      0.447955     -0.759572        0.528000  \n",
       "15325      1.056441      0.447955      1.097696        1.027355  \n",
       "\n",
       "[15326 rows x 12 columns]"
      ]
     },
     "execution_count": 202,
     "metadata": {},
     "output_type": "execute_result"
    }
   ],
   "source": [
    "df_escalado"
   ]
  },
  {
   "cell_type": "code",
   "execution_count": 313,
   "id": "561363f4-588f-410d-9cbf-d05e972587e0",
   "metadata": {},
   "outputs": [
    {
     "data": {
      "text/plain": [
       "city                      0.080629\n",
       "city_development_index   -0.346320\n",
       "gender                   -0.004279\n",
       "relevent_experience      -0.127104\n",
       "enrolled_university      -0.128498\n",
       "education_level          -0.015313\n",
       "major_discipline          0.011777\n",
       "experience               -0.067750\n",
       "company_size              0.166250\n",
       "company_type              0.053523\n",
       "last_new_job              0.035194\n",
       "training_hours           -0.018939\n",
       "target                    1.000000\n",
       "Name: target, dtype: float64"
      ]
     },
     "execution_count": 313,
     "metadata": {},
     "output_type": "execute_result"
    }
   ],
   "source": [
    "(pd.concat((df_escalado,y), axis=1)).corr().target"
   ]
  },
  {
   "cell_type": "markdown",
   "id": "dbfeaf4d-9c59-43b1-a9cd-b4d2de880fe7",
   "metadata": {},
   "source": [
    "# Modelo"
   ]
  },
  {
   "cell_type": "code",
   "execution_count": 52,
   "id": "fd77ee1b-4f47-43f4-b31e-cd903fc19b5e",
   "metadata": {},
   "outputs": [],
   "source": [
    "from sklearn import model_selection\n",
    "from sklearn import tree\n",
    "from sklearn.ensemble import RandomForestClassifier\n",
    "from sklearn.model_selection import GridSearchCV"
   ]
  },
  {
   "cell_type": "code",
   "execution_count": 47,
   "id": "8622ddcc-537c-4b31-8734-31e065b0e37d",
   "metadata": {},
   "outputs": [
    {
     "data": {
      "text/plain": [
       "0    1.0\n",
       "1    0.0\n",
       "2    0.0\n",
       "3    1.0\n",
       "4    1.0\n",
       "Name: target, dtype: float64"
      ]
     },
     "execution_count": 47,
     "metadata": {},
     "output_type": "execute_result"
    }
   ],
   "source": [
    "y.head()"
   ]
  },
  {
   "cell_type": "code",
   "execution_count": 50,
   "id": "002491a3-ace4-4d88-acd7-93be869d8b15",
   "metadata": {},
   "outputs": [],
   "source": [
    "X_train, X_test, y_train, y_test = model_selection.train_test_split(df_transformado, y, train_size=0.8)"
   ]
  },
  {
   "cell_type": "markdown",
   "id": "2ff039fe-4a38-4bad-a8b1-b303ffe2ae22",
   "metadata": {},
   "source": [
    "## Forest"
   ]
  },
  {
   "cell_type": "code",
   "execution_count": 53,
   "id": "9210652a-2ee8-4707-bd65-5b2ebf8919c2",
   "metadata": {},
   "outputs": [],
   "source": [
    "forest_grid = RandomForestClassifier()\n",
    "params = {'n_estimators':[10,25, 50,75, 100], 'max_depth':[3, 10, 15,20]}\n",
    "gridForest = GridSearchCV(forest_grid, params)"
   ]
  },
  {
   "cell_type": "code",
   "execution_count": 55,
   "id": "8e82b880-6dca-415c-81ee-5a5c2eb14189",
   "metadata": {},
   "outputs": [
    {
     "data": {
      "text/html": [
       "<style>#sk-container-id-1 {color: black;background-color: white;}#sk-container-id-1 pre{padding: 0;}#sk-container-id-1 div.sk-toggleable {background-color: white;}#sk-container-id-1 label.sk-toggleable__label {cursor: pointer;display: block;width: 100%;margin-bottom: 0;padding: 0.3em;box-sizing: border-box;text-align: center;}#sk-container-id-1 label.sk-toggleable__label-arrow:before {content: \"▸\";float: left;margin-right: 0.25em;color: #696969;}#sk-container-id-1 label.sk-toggleable__label-arrow:hover:before {color: black;}#sk-container-id-1 div.sk-estimator:hover label.sk-toggleable__label-arrow:before {color: black;}#sk-container-id-1 div.sk-toggleable__content {max-height: 0;max-width: 0;overflow: hidden;text-align: left;background-color: #f0f8ff;}#sk-container-id-1 div.sk-toggleable__content pre {margin: 0.2em;color: black;border-radius: 0.25em;background-color: #f0f8ff;}#sk-container-id-1 input.sk-toggleable__control:checked~div.sk-toggleable__content {max-height: 200px;max-width: 100%;overflow: auto;}#sk-container-id-1 input.sk-toggleable__control:checked~label.sk-toggleable__label-arrow:before {content: \"▾\";}#sk-container-id-1 div.sk-estimator input.sk-toggleable__control:checked~label.sk-toggleable__label {background-color: #d4ebff;}#sk-container-id-1 div.sk-label input.sk-toggleable__control:checked~label.sk-toggleable__label {background-color: #d4ebff;}#sk-container-id-1 input.sk-hidden--visually {border: 0;clip: rect(1px 1px 1px 1px);clip: rect(1px, 1px, 1px, 1px);height: 1px;margin: -1px;overflow: hidden;padding: 0;position: absolute;width: 1px;}#sk-container-id-1 div.sk-estimator {font-family: monospace;background-color: #f0f8ff;border: 1px dotted black;border-radius: 0.25em;box-sizing: border-box;margin-bottom: 0.5em;}#sk-container-id-1 div.sk-estimator:hover {background-color: #d4ebff;}#sk-container-id-1 div.sk-parallel-item::after {content: \"\";width: 100%;border-bottom: 1px solid gray;flex-grow: 1;}#sk-container-id-1 div.sk-label:hover label.sk-toggleable__label {background-color: #d4ebff;}#sk-container-id-1 div.sk-serial::before {content: \"\";position: absolute;border-left: 1px solid gray;box-sizing: border-box;top: 0;bottom: 0;left: 50%;z-index: 0;}#sk-container-id-1 div.sk-serial {display: flex;flex-direction: column;align-items: center;background-color: white;padding-right: 0.2em;padding-left: 0.2em;position: relative;}#sk-container-id-1 div.sk-item {position: relative;z-index: 1;}#sk-container-id-1 div.sk-parallel {display: flex;align-items: stretch;justify-content: center;background-color: white;position: relative;}#sk-container-id-1 div.sk-item::before, #sk-container-id-1 div.sk-parallel-item::before {content: \"\";position: absolute;border-left: 1px solid gray;box-sizing: border-box;top: 0;bottom: 0;left: 50%;z-index: -1;}#sk-container-id-1 div.sk-parallel-item {display: flex;flex-direction: column;z-index: 1;position: relative;background-color: white;}#sk-container-id-1 div.sk-parallel-item:first-child::after {align-self: flex-end;width: 50%;}#sk-container-id-1 div.sk-parallel-item:last-child::after {align-self: flex-start;width: 50%;}#sk-container-id-1 div.sk-parallel-item:only-child::after {width: 0;}#sk-container-id-1 div.sk-dashed-wrapped {border: 1px dashed gray;margin: 0 0.4em 0.5em 0.4em;box-sizing: border-box;padding-bottom: 0.4em;background-color: white;}#sk-container-id-1 div.sk-label label {font-family: monospace;font-weight: bold;display: inline-block;line-height: 1.2em;}#sk-container-id-1 div.sk-label-container {text-align: center;}#sk-container-id-1 div.sk-container {/* jupyter's `normalize.less` sets `[hidden] { display: none; }` but bootstrap.min.css set `[hidden] { display: none !important; }` so we also need the `!important` here to be able to override the default hidden behavior on the sphinx rendered scikit-learn.org. See: https://github.com/scikit-learn/scikit-learn/issues/21755 */display: inline-block !important;position: relative;}#sk-container-id-1 div.sk-text-repr-fallback {display: none;}</style><div id=\"sk-container-id-1\" class=\"sk-top-container\"><div class=\"sk-text-repr-fallback\"><pre>GridSearchCV(estimator=RandomForestClassifier(),\n",
       "             param_grid={&#x27;max_depth&#x27;: [3, 10, 15, 20],\n",
       "                         &#x27;n_estimators&#x27;: [10, 25, 50, 75, 100]})</pre><b>In a Jupyter environment, please rerun this cell to show the HTML representation or trust the notebook. <br />On GitHub, the HTML representation is unable to render, please try loading this page with nbviewer.org.</b></div><div class=\"sk-container\" hidden><div class=\"sk-item sk-dashed-wrapped\"><div class=\"sk-label-container\"><div class=\"sk-label sk-toggleable\"><input class=\"sk-toggleable__control sk-hidden--visually\" id=\"sk-estimator-id-1\" type=\"checkbox\" ><label for=\"sk-estimator-id-1\" class=\"sk-toggleable__label sk-toggleable__label-arrow\">GridSearchCV</label><div class=\"sk-toggleable__content\"><pre>GridSearchCV(estimator=RandomForestClassifier(),\n",
       "             param_grid={&#x27;max_depth&#x27;: [3, 10, 15, 20],\n",
       "                         &#x27;n_estimators&#x27;: [10, 25, 50, 75, 100]})</pre></div></div></div><div class=\"sk-parallel\"><div class=\"sk-parallel-item\"><div class=\"sk-item\"><div class=\"sk-label-container\"><div class=\"sk-label sk-toggleable\"><input class=\"sk-toggleable__control sk-hidden--visually\" id=\"sk-estimator-id-2\" type=\"checkbox\" ><label for=\"sk-estimator-id-2\" class=\"sk-toggleable__label sk-toggleable__label-arrow\">estimator: RandomForestClassifier</label><div class=\"sk-toggleable__content\"><pre>RandomForestClassifier()</pre></div></div></div><div class=\"sk-serial\"><div class=\"sk-item\"><div class=\"sk-estimator sk-toggleable\"><input class=\"sk-toggleable__control sk-hidden--visually\" id=\"sk-estimator-id-3\" type=\"checkbox\" ><label for=\"sk-estimator-id-3\" class=\"sk-toggleable__label sk-toggleable__label-arrow\">RandomForestClassifier</label><div class=\"sk-toggleable__content\"><pre>RandomForestClassifier()</pre></div></div></div></div></div></div></div></div></div></div>"
      ],
      "text/plain": [
       "GridSearchCV(estimator=RandomForestClassifier(),\n",
       "             param_grid={'max_depth': [3, 10, 15, 20],\n",
       "                         'n_estimators': [10, 25, 50, 75, 100]})"
      ]
     },
     "execution_count": 55,
     "metadata": {},
     "output_type": "execute_result"
    }
   ],
   "source": [
    "gridForest.fit(X_train, y_train)"
   ]
  },
  {
   "cell_type": "code",
   "execution_count": 57,
   "id": "315934cc-486e-427c-93e6-3aca76d2ccd3",
   "metadata": {},
   "outputs": [
    {
     "data": {
      "text/html": [
       "<style>#sk-container-id-2 {color: black;background-color: white;}#sk-container-id-2 pre{padding: 0;}#sk-container-id-2 div.sk-toggleable {background-color: white;}#sk-container-id-2 label.sk-toggleable__label {cursor: pointer;display: block;width: 100%;margin-bottom: 0;padding: 0.3em;box-sizing: border-box;text-align: center;}#sk-container-id-2 label.sk-toggleable__label-arrow:before {content: \"▸\";float: left;margin-right: 0.25em;color: #696969;}#sk-container-id-2 label.sk-toggleable__label-arrow:hover:before {color: black;}#sk-container-id-2 div.sk-estimator:hover label.sk-toggleable__label-arrow:before {color: black;}#sk-container-id-2 div.sk-toggleable__content {max-height: 0;max-width: 0;overflow: hidden;text-align: left;background-color: #f0f8ff;}#sk-container-id-2 div.sk-toggleable__content pre {margin: 0.2em;color: black;border-radius: 0.25em;background-color: #f0f8ff;}#sk-container-id-2 input.sk-toggleable__control:checked~div.sk-toggleable__content {max-height: 200px;max-width: 100%;overflow: auto;}#sk-container-id-2 input.sk-toggleable__control:checked~label.sk-toggleable__label-arrow:before {content: \"▾\";}#sk-container-id-2 div.sk-estimator input.sk-toggleable__control:checked~label.sk-toggleable__label {background-color: #d4ebff;}#sk-container-id-2 div.sk-label input.sk-toggleable__control:checked~label.sk-toggleable__label {background-color: #d4ebff;}#sk-container-id-2 input.sk-hidden--visually {border: 0;clip: rect(1px 1px 1px 1px);clip: rect(1px, 1px, 1px, 1px);height: 1px;margin: -1px;overflow: hidden;padding: 0;position: absolute;width: 1px;}#sk-container-id-2 div.sk-estimator {font-family: monospace;background-color: #f0f8ff;border: 1px dotted black;border-radius: 0.25em;box-sizing: border-box;margin-bottom: 0.5em;}#sk-container-id-2 div.sk-estimator:hover {background-color: #d4ebff;}#sk-container-id-2 div.sk-parallel-item::after {content: \"\";width: 100%;border-bottom: 1px solid gray;flex-grow: 1;}#sk-container-id-2 div.sk-label:hover label.sk-toggleable__label {background-color: #d4ebff;}#sk-container-id-2 div.sk-serial::before {content: \"\";position: absolute;border-left: 1px solid gray;box-sizing: border-box;top: 0;bottom: 0;left: 50%;z-index: 0;}#sk-container-id-2 div.sk-serial {display: flex;flex-direction: column;align-items: center;background-color: white;padding-right: 0.2em;padding-left: 0.2em;position: relative;}#sk-container-id-2 div.sk-item {position: relative;z-index: 1;}#sk-container-id-2 div.sk-parallel {display: flex;align-items: stretch;justify-content: center;background-color: white;position: relative;}#sk-container-id-2 div.sk-item::before, #sk-container-id-2 div.sk-parallel-item::before {content: \"\";position: absolute;border-left: 1px solid gray;box-sizing: border-box;top: 0;bottom: 0;left: 50%;z-index: -1;}#sk-container-id-2 div.sk-parallel-item {display: flex;flex-direction: column;z-index: 1;position: relative;background-color: white;}#sk-container-id-2 div.sk-parallel-item:first-child::after {align-self: flex-end;width: 50%;}#sk-container-id-2 div.sk-parallel-item:last-child::after {align-self: flex-start;width: 50%;}#sk-container-id-2 div.sk-parallel-item:only-child::after {width: 0;}#sk-container-id-2 div.sk-dashed-wrapped {border: 1px dashed gray;margin: 0 0.4em 0.5em 0.4em;box-sizing: border-box;padding-bottom: 0.4em;background-color: white;}#sk-container-id-2 div.sk-label label {font-family: monospace;font-weight: bold;display: inline-block;line-height: 1.2em;}#sk-container-id-2 div.sk-label-container {text-align: center;}#sk-container-id-2 div.sk-container {/* jupyter's `normalize.less` sets `[hidden] { display: none; }` but bootstrap.min.css set `[hidden] { display: none !important; }` so we also need the `!important` here to be able to override the default hidden behavior on the sphinx rendered scikit-learn.org. See: https://github.com/scikit-learn/scikit-learn/issues/21755 */display: inline-block !important;position: relative;}#sk-container-id-2 div.sk-text-repr-fallback {display: none;}</style><div id=\"sk-container-id-2\" class=\"sk-top-container\"><div class=\"sk-text-repr-fallback\"><pre>RandomForestClassifier(max_depth=10, n_estimators=25)</pre><b>In a Jupyter environment, please rerun this cell to show the HTML representation or trust the notebook. <br />On GitHub, the HTML representation is unable to render, please try loading this page with nbviewer.org.</b></div><div class=\"sk-container\" hidden><div class=\"sk-item\"><div class=\"sk-estimator sk-toggleable\"><input class=\"sk-toggleable__control sk-hidden--visually\" id=\"sk-estimator-id-4\" type=\"checkbox\" checked><label for=\"sk-estimator-id-4\" class=\"sk-toggleable__label sk-toggleable__label-arrow\">RandomForestClassifier</label><div class=\"sk-toggleable__content\"><pre>RandomForestClassifier(max_depth=10, n_estimators=25)</pre></div></div></div></div></div>"
      ],
      "text/plain": [
       "RandomForestClassifier(max_depth=10, n_estimators=25)"
      ]
     },
     "execution_count": 57,
     "metadata": {},
     "output_type": "execute_result"
    }
   ],
   "source": [
    "gridForest.best_estimator_"
   ]
  },
  {
   "cell_type": "code",
   "execution_count": 59,
   "id": "89edcf99-6d95-44b0-b7c4-a26bb6880106",
   "metadata": {},
   "outputs": [
    {
     "data": {
      "text/html": [
       "<style>#sk-container-id-4 {color: black;background-color: white;}#sk-container-id-4 pre{padding: 0;}#sk-container-id-4 div.sk-toggleable {background-color: white;}#sk-container-id-4 label.sk-toggleable__label {cursor: pointer;display: block;width: 100%;margin-bottom: 0;padding: 0.3em;box-sizing: border-box;text-align: center;}#sk-container-id-4 label.sk-toggleable__label-arrow:before {content: \"▸\";float: left;margin-right: 0.25em;color: #696969;}#sk-container-id-4 label.sk-toggleable__label-arrow:hover:before {color: black;}#sk-container-id-4 div.sk-estimator:hover label.sk-toggleable__label-arrow:before {color: black;}#sk-container-id-4 div.sk-toggleable__content {max-height: 0;max-width: 0;overflow: hidden;text-align: left;background-color: #f0f8ff;}#sk-container-id-4 div.sk-toggleable__content pre {margin: 0.2em;color: black;border-radius: 0.25em;background-color: #f0f8ff;}#sk-container-id-4 input.sk-toggleable__control:checked~div.sk-toggleable__content {max-height: 200px;max-width: 100%;overflow: auto;}#sk-container-id-4 input.sk-toggleable__control:checked~label.sk-toggleable__label-arrow:before {content: \"▾\";}#sk-container-id-4 div.sk-estimator input.sk-toggleable__control:checked~label.sk-toggleable__label {background-color: #d4ebff;}#sk-container-id-4 div.sk-label input.sk-toggleable__control:checked~label.sk-toggleable__label {background-color: #d4ebff;}#sk-container-id-4 input.sk-hidden--visually {border: 0;clip: rect(1px 1px 1px 1px);clip: rect(1px, 1px, 1px, 1px);height: 1px;margin: -1px;overflow: hidden;padding: 0;position: absolute;width: 1px;}#sk-container-id-4 div.sk-estimator {font-family: monospace;background-color: #f0f8ff;border: 1px dotted black;border-radius: 0.25em;box-sizing: border-box;margin-bottom: 0.5em;}#sk-container-id-4 div.sk-estimator:hover {background-color: #d4ebff;}#sk-container-id-4 div.sk-parallel-item::after {content: \"\";width: 100%;border-bottom: 1px solid gray;flex-grow: 1;}#sk-container-id-4 div.sk-label:hover label.sk-toggleable__label {background-color: #d4ebff;}#sk-container-id-4 div.sk-serial::before {content: \"\";position: absolute;border-left: 1px solid gray;box-sizing: border-box;top: 0;bottom: 0;left: 50%;z-index: 0;}#sk-container-id-4 div.sk-serial {display: flex;flex-direction: column;align-items: center;background-color: white;padding-right: 0.2em;padding-left: 0.2em;position: relative;}#sk-container-id-4 div.sk-item {position: relative;z-index: 1;}#sk-container-id-4 div.sk-parallel {display: flex;align-items: stretch;justify-content: center;background-color: white;position: relative;}#sk-container-id-4 div.sk-item::before, #sk-container-id-4 div.sk-parallel-item::before {content: \"\";position: absolute;border-left: 1px solid gray;box-sizing: border-box;top: 0;bottom: 0;left: 50%;z-index: -1;}#sk-container-id-4 div.sk-parallel-item {display: flex;flex-direction: column;z-index: 1;position: relative;background-color: white;}#sk-container-id-4 div.sk-parallel-item:first-child::after {align-self: flex-end;width: 50%;}#sk-container-id-4 div.sk-parallel-item:last-child::after {align-self: flex-start;width: 50%;}#sk-container-id-4 div.sk-parallel-item:only-child::after {width: 0;}#sk-container-id-4 div.sk-dashed-wrapped {border: 1px dashed gray;margin: 0 0.4em 0.5em 0.4em;box-sizing: border-box;padding-bottom: 0.4em;background-color: white;}#sk-container-id-4 div.sk-label label {font-family: monospace;font-weight: bold;display: inline-block;line-height: 1.2em;}#sk-container-id-4 div.sk-label-container {text-align: center;}#sk-container-id-4 div.sk-container {/* jupyter's `normalize.less` sets `[hidden] { display: none; }` but bootstrap.min.css set `[hidden] { display: none !important; }` so we also need the `!important` here to be able to override the default hidden behavior on the sphinx rendered scikit-learn.org. See: https://github.com/scikit-learn/scikit-learn/issues/21755 */display: inline-block !important;position: relative;}#sk-container-id-4 div.sk-text-repr-fallback {display: none;}</style><div id=\"sk-container-id-4\" class=\"sk-top-container\"><div class=\"sk-text-repr-fallback\"><pre>RandomForestClassifier(max_depth=10, n_estimators=25)</pre><b>In a Jupyter environment, please rerun this cell to show the HTML representation or trust the notebook. <br />On GitHub, the HTML representation is unable to render, please try loading this page with nbviewer.org.</b></div><div class=\"sk-container\" hidden><div class=\"sk-item\"><div class=\"sk-estimator sk-toggleable\"><input class=\"sk-toggleable__control sk-hidden--visually\" id=\"sk-estimator-id-6\" type=\"checkbox\" checked><label for=\"sk-estimator-id-6\" class=\"sk-toggleable__label sk-toggleable__label-arrow\">RandomForestClassifier</label><div class=\"sk-toggleable__content\"><pre>RandomForestClassifier(max_depth=10, n_estimators=25)</pre></div></div></div></div></div>"
      ],
      "text/plain": [
       "RandomForestClassifier(max_depth=10, n_estimators=25)"
      ]
     },
     "execution_count": 59,
     "metadata": {},
     "output_type": "execute_result"
    }
   ],
   "source": [
    "Forest = RandomForestClassifier(max_depth=10, n_estimators=25)\n",
    "Forest.fit(X_train, y_train)"
   ]
  },
  {
   "cell_type": "code",
   "execution_count": 60,
   "id": "b7121b09-b8be-46c5-bc97-5d7d7e104f98",
   "metadata": {},
   "outputs": [
    {
     "data": {
      "text/plain": [
       "0.8244698205546492"
      ]
     },
     "execution_count": 60,
     "metadata": {},
     "output_type": "execute_result"
    }
   ],
   "source": [
    "Forest.score(X_train, y_train)"
   ]
  },
  {
   "cell_type": "code",
   "execution_count": 61,
   "id": "06aaac99-f210-47e1-a522-681fa45fe42d",
   "metadata": {},
   "outputs": [
    {
     "data": {
      "text/plain": [
       "0.7906066536203522"
      ]
     },
     "execution_count": 61,
     "metadata": {},
     "output_type": "execute_result"
    }
   ],
   "source": [
    "Forest.score(X_test, y_test)"
   ]
  },
  {
   "cell_type": "markdown",
   "id": "e3caed07-1aa5-42eb-b260-4509e36e5dce",
   "metadata": {
    "jp-MarkdownHeadingCollapsed": true,
    "tags": []
   },
   "source": [
    "## Arbol"
   ]
  },
  {
   "cell_type": "code",
   "execution_count": 211,
   "id": "56c42dfb-454a-4f34-b6ee-00e513938e04",
   "metadata": {},
   "outputs": [],
   "source": [
    "arbol = tree.DecisionTreeClassifier()"
   ]
  },
  {
   "cell_type": "code",
   "execution_count": 212,
   "id": "f24ad30d-071c-4a68-a5a2-997b85bc2851",
   "metadata": {},
   "outputs": [],
   "source": [
    "parameters = {'criterion' : ['gini', 'entropy'], 'splitter' : ['best', 'random'], 'max_depth': [1, 5, 10]}"
   ]
  },
  {
   "cell_type": "code",
   "execution_count": 213,
   "id": "e4754fa0-f4f1-4fba-a3ad-445a3b3696fb",
   "metadata": {},
   "outputs": [],
   "source": [
    "grid_search = model_selection.GridSearchCV(arbol, parameters)"
   ]
  },
  {
   "cell_type": "code",
   "execution_count": 214,
   "id": "3af89c9c-dd03-4f73-90b6-85319bae6996",
   "metadata": {},
   "outputs": [
    {
     "data": {
      "text/html": [
       "<style>#sk-container-id-3 {color: black;background-color: white;}#sk-container-id-3 pre{padding: 0;}#sk-container-id-3 div.sk-toggleable {background-color: white;}#sk-container-id-3 label.sk-toggleable__label {cursor: pointer;display: block;width: 100%;margin-bottom: 0;padding: 0.3em;box-sizing: border-box;text-align: center;}#sk-container-id-3 label.sk-toggleable__label-arrow:before {content: \"▸\";float: left;margin-right: 0.25em;color: #696969;}#sk-container-id-3 label.sk-toggleable__label-arrow:hover:before {color: black;}#sk-container-id-3 div.sk-estimator:hover label.sk-toggleable__label-arrow:before {color: black;}#sk-container-id-3 div.sk-toggleable__content {max-height: 0;max-width: 0;overflow: hidden;text-align: left;background-color: #f0f8ff;}#sk-container-id-3 div.sk-toggleable__content pre {margin: 0.2em;color: black;border-radius: 0.25em;background-color: #f0f8ff;}#sk-container-id-3 input.sk-toggleable__control:checked~div.sk-toggleable__content {max-height: 200px;max-width: 100%;overflow: auto;}#sk-container-id-3 input.sk-toggleable__control:checked~label.sk-toggleable__label-arrow:before {content: \"▾\";}#sk-container-id-3 div.sk-estimator input.sk-toggleable__control:checked~label.sk-toggleable__label {background-color: #d4ebff;}#sk-container-id-3 div.sk-label input.sk-toggleable__control:checked~label.sk-toggleable__label {background-color: #d4ebff;}#sk-container-id-3 input.sk-hidden--visually {border: 0;clip: rect(1px 1px 1px 1px);clip: rect(1px, 1px, 1px, 1px);height: 1px;margin: -1px;overflow: hidden;padding: 0;position: absolute;width: 1px;}#sk-container-id-3 div.sk-estimator {font-family: monospace;background-color: #f0f8ff;border: 1px dotted black;border-radius: 0.25em;box-sizing: border-box;margin-bottom: 0.5em;}#sk-container-id-3 div.sk-estimator:hover {background-color: #d4ebff;}#sk-container-id-3 div.sk-parallel-item::after {content: \"\";width: 100%;border-bottom: 1px solid gray;flex-grow: 1;}#sk-container-id-3 div.sk-label:hover label.sk-toggleable__label {background-color: #d4ebff;}#sk-container-id-3 div.sk-serial::before {content: \"\";position: absolute;border-left: 1px solid gray;box-sizing: border-box;top: 0;bottom: 0;left: 50%;z-index: 0;}#sk-container-id-3 div.sk-serial {display: flex;flex-direction: column;align-items: center;background-color: white;padding-right: 0.2em;padding-left: 0.2em;position: relative;}#sk-container-id-3 div.sk-item {position: relative;z-index: 1;}#sk-container-id-3 div.sk-parallel {display: flex;align-items: stretch;justify-content: center;background-color: white;position: relative;}#sk-container-id-3 div.sk-item::before, #sk-container-id-3 div.sk-parallel-item::before {content: \"\";position: absolute;border-left: 1px solid gray;box-sizing: border-box;top: 0;bottom: 0;left: 50%;z-index: -1;}#sk-container-id-3 div.sk-parallel-item {display: flex;flex-direction: column;z-index: 1;position: relative;background-color: white;}#sk-container-id-3 div.sk-parallel-item:first-child::after {align-self: flex-end;width: 50%;}#sk-container-id-3 div.sk-parallel-item:last-child::after {align-self: flex-start;width: 50%;}#sk-container-id-3 div.sk-parallel-item:only-child::after {width: 0;}#sk-container-id-3 div.sk-dashed-wrapped {border: 1px dashed gray;margin: 0 0.4em 0.5em 0.4em;box-sizing: border-box;padding-bottom: 0.4em;background-color: white;}#sk-container-id-3 div.sk-label label {font-family: monospace;font-weight: bold;display: inline-block;line-height: 1.2em;}#sk-container-id-3 div.sk-label-container {text-align: center;}#sk-container-id-3 div.sk-container {/* jupyter's `normalize.less` sets `[hidden] { display: none; }` but bootstrap.min.css set `[hidden] { display: none !important; }` so we also need the `!important` here to be able to override the default hidden behavior on the sphinx rendered scikit-learn.org. See: https://github.com/scikit-learn/scikit-learn/issues/21755 */display: inline-block !important;position: relative;}#sk-container-id-3 div.sk-text-repr-fallback {display: none;}</style><div id=\"sk-container-id-3\" class=\"sk-top-container\"><div class=\"sk-text-repr-fallback\"><pre>GridSearchCV(estimator=DecisionTreeClassifier(),\n",
       "             param_grid={&#x27;criterion&#x27;: [&#x27;gini&#x27;, &#x27;entropy&#x27;],\n",
       "                         &#x27;max_depth&#x27;: [1, 5, 10],\n",
       "                         &#x27;splitter&#x27;: [&#x27;best&#x27;, &#x27;random&#x27;]})</pre><b>In a Jupyter environment, please rerun this cell to show the HTML representation or trust the notebook. <br />On GitHub, the HTML representation is unable to render, please try loading this page with nbviewer.org.</b></div><div class=\"sk-container\" hidden><div class=\"sk-item sk-dashed-wrapped\"><div class=\"sk-label-container\"><div class=\"sk-label sk-toggleable\"><input class=\"sk-toggleable__control sk-hidden--visually\" id=\"sk-estimator-id-3\" type=\"checkbox\" ><label for=\"sk-estimator-id-3\" class=\"sk-toggleable__label sk-toggleable__label-arrow\">GridSearchCV</label><div class=\"sk-toggleable__content\"><pre>GridSearchCV(estimator=DecisionTreeClassifier(),\n",
       "             param_grid={&#x27;criterion&#x27;: [&#x27;gini&#x27;, &#x27;entropy&#x27;],\n",
       "                         &#x27;max_depth&#x27;: [1, 5, 10],\n",
       "                         &#x27;splitter&#x27;: [&#x27;best&#x27;, &#x27;random&#x27;]})</pre></div></div></div><div class=\"sk-parallel\"><div class=\"sk-parallel-item\"><div class=\"sk-item\"><div class=\"sk-label-container\"><div class=\"sk-label sk-toggleable\"><input class=\"sk-toggleable__control sk-hidden--visually\" id=\"sk-estimator-id-4\" type=\"checkbox\" ><label for=\"sk-estimator-id-4\" class=\"sk-toggleable__label sk-toggleable__label-arrow\">estimator: DecisionTreeClassifier</label><div class=\"sk-toggleable__content\"><pre>DecisionTreeClassifier()</pre></div></div></div><div class=\"sk-serial\"><div class=\"sk-item\"><div class=\"sk-estimator sk-toggleable\"><input class=\"sk-toggleable__control sk-hidden--visually\" id=\"sk-estimator-id-5\" type=\"checkbox\" ><label for=\"sk-estimator-id-5\" class=\"sk-toggleable__label sk-toggleable__label-arrow\">DecisionTreeClassifier</label><div class=\"sk-toggleable__content\"><pre>DecisionTreeClassifier()</pre></div></div></div></div></div></div></div></div></div></div>"
      ],
      "text/plain": [
       "GridSearchCV(estimator=DecisionTreeClassifier(),\n",
       "             param_grid={'criterion': ['gini', 'entropy'],\n",
       "                         'max_depth': [1, 5, 10],\n",
       "                         'splitter': ['best', 'random']})"
      ]
     },
     "execution_count": 214,
     "metadata": {},
     "output_type": "execute_result"
    }
   ],
   "source": [
    "grid_search.fit(X_train, y_train)"
   ]
  },
  {
   "cell_type": "code",
   "execution_count": 215,
   "id": "aef72d7e-6ee5-4996-a6c0-2ceb1bfd5af9",
   "metadata": {},
   "outputs": [
    {
     "data": {
      "text/html": [
       "<style>#sk-container-id-4 {color: black;background-color: white;}#sk-container-id-4 pre{padding: 0;}#sk-container-id-4 div.sk-toggleable {background-color: white;}#sk-container-id-4 label.sk-toggleable__label {cursor: pointer;display: block;width: 100%;margin-bottom: 0;padding: 0.3em;box-sizing: border-box;text-align: center;}#sk-container-id-4 label.sk-toggleable__label-arrow:before {content: \"▸\";float: left;margin-right: 0.25em;color: #696969;}#sk-container-id-4 label.sk-toggleable__label-arrow:hover:before {color: black;}#sk-container-id-4 div.sk-estimator:hover label.sk-toggleable__label-arrow:before {color: black;}#sk-container-id-4 div.sk-toggleable__content {max-height: 0;max-width: 0;overflow: hidden;text-align: left;background-color: #f0f8ff;}#sk-container-id-4 div.sk-toggleable__content pre {margin: 0.2em;color: black;border-radius: 0.25em;background-color: #f0f8ff;}#sk-container-id-4 input.sk-toggleable__control:checked~div.sk-toggleable__content {max-height: 200px;max-width: 100%;overflow: auto;}#sk-container-id-4 input.sk-toggleable__control:checked~label.sk-toggleable__label-arrow:before {content: \"▾\";}#sk-container-id-4 div.sk-estimator input.sk-toggleable__control:checked~label.sk-toggleable__label {background-color: #d4ebff;}#sk-container-id-4 div.sk-label input.sk-toggleable__control:checked~label.sk-toggleable__label {background-color: #d4ebff;}#sk-container-id-4 input.sk-hidden--visually {border: 0;clip: rect(1px 1px 1px 1px);clip: rect(1px, 1px, 1px, 1px);height: 1px;margin: -1px;overflow: hidden;padding: 0;position: absolute;width: 1px;}#sk-container-id-4 div.sk-estimator {font-family: monospace;background-color: #f0f8ff;border: 1px dotted black;border-radius: 0.25em;box-sizing: border-box;margin-bottom: 0.5em;}#sk-container-id-4 div.sk-estimator:hover {background-color: #d4ebff;}#sk-container-id-4 div.sk-parallel-item::after {content: \"\";width: 100%;border-bottom: 1px solid gray;flex-grow: 1;}#sk-container-id-4 div.sk-label:hover label.sk-toggleable__label {background-color: #d4ebff;}#sk-container-id-4 div.sk-serial::before {content: \"\";position: absolute;border-left: 1px solid gray;box-sizing: border-box;top: 0;bottom: 0;left: 50%;z-index: 0;}#sk-container-id-4 div.sk-serial {display: flex;flex-direction: column;align-items: center;background-color: white;padding-right: 0.2em;padding-left: 0.2em;position: relative;}#sk-container-id-4 div.sk-item {position: relative;z-index: 1;}#sk-container-id-4 div.sk-parallel {display: flex;align-items: stretch;justify-content: center;background-color: white;position: relative;}#sk-container-id-4 div.sk-item::before, #sk-container-id-4 div.sk-parallel-item::before {content: \"\";position: absolute;border-left: 1px solid gray;box-sizing: border-box;top: 0;bottom: 0;left: 50%;z-index: -1;}#sk-container-id-4 div.sk-parallel-item {display: flex;flex-direction: column;z-index: 1;position: relative;background-color: white;}#sk-container-id-4 div.sk-parallel-item:first-child::after {align-self: flex-end;width: 50%;}#sk-container-id-4 div.sk-parallel-item:last-child::after {align-self: flex-start;width: 50%;}#sk-container-id-4 div.sk-parallel-item:only-child::after {width: 0;}#sk-container-id-4 div.sk-dashed-wrapped {border: 1px dashed gray;margin: 0 0.4em 0.5em 0.4em;box-sizing: border-box;padding-bottom: 0.4em;background-color: white;}#sk-container-id-4 div.sk-label label {font-family: monospace;font-weight: bold;display: inline-block;line-height: 1.2em;}#sk-container-id-4 div.sk-label-container {text-align: center;}#sk-container-id-4 div.sk-container {/* jupyter's `normalize.less` sets `[hidden] { display: none; }` but bootstrap.min.css set `[hidden] { display: none !important; }` so we also need the `!important` here to be able to override the default hidden behavior on the sphinx rendered scikit-learn.org. See: https://github.com/scikit-learn/scikit-learn/issues/21755 */display: inline-block !important;position: relative;}#sk-container-id-4 div.sk-text-repr-fallback {display: none;}</style><div id=\"sk-container-id-4\" class=\"sk-top-container\"><div class=\"sk-text-repr-fallback\"><pre>DecisionTreeClassifier(max_depth=1)</pre><b>In a Jupyter environment, please rerun this cell to show the HTML representation or trust the notebook. <br />On GitHub, the HTML representation is unable to render, please try loading this page with nbviewer.org.</b></div><div class=\"sk-container\" hidden><div class=\"sk-item\"><div class=\"sk-estimator sk-toggleable\"><input class=\"sk-toggleable__control sk-hidden--visually\" id=\"sk-estimator-id-6\" type=\"checkbox\" checked><label for=\"sk-estimator-id-6\" class=\"sk-toggleable__label sk-toggleable__label-arrow\">DecisionTreeClassifier</label><div class=\"sk-toggleable__content\"><pre>DecisionTreeClassifier(max_depth=1)</pre></div></div></div></div></div>"
      ],
      "text/plain": [
       "DecisionTreeClassifier(max_depth=1)"
      ]
     },
     "execution_count": 215,
     "metadata": {},
     "output_type": "execute_result"
    }
   ],
   "source": [
    "grid_search.best_estimator_"
   ]
  },
  {
   "cell_type": "code",
   "execution_count": 216,
   "id": "7337467e-c1fa-40f8-98ad-acaf67103cd6",
   "metadata": {},
   "outputs": [],
   "source": [
    "arbol_bueno = tree.DecisionTreeClassifier(max_depth = 1)"
   ]
  },
  {
   "cell_type": "code",
   "execution_count": 217,
   "id": "ca055844-36e4-42da-b9cf-21ea158321c6",
   "metadata": {},
   "outputs": [
    {
     "data": {
      "text/html": [
       "<style>#sk-container-id-5 {color: black;background-color: white;}#sk-container-id-5 pre{padding: 0;}#sk-container-id-5 div.sk-toggleable {background-color: white;}#sk-container-id-5 label.sk-toggleable__label {cursor: pointer;display: block;width: 100%;margin-bottom: 0;padding: 0.3em;box-sizing: border-box;text-align: center;}#sk-container-id-5 label.sk-toggleable__label-arrow:before {content: \"▸\";float: left;margin-right: 0.25em;color: #696969;}#sk-container-id-5 label.sk-toggleable__label-arrow:hover:before {color: black;}#sk-container-id-5 div.sk-estimator:hover label.sk-toggleable__label-arrow:before {color: black;}#sk-container-id-5 div.sk-toggleable__content {max-height: 0;max-width: 0;overflow: hidden;text-align: left;background-color: #f0f8ff;}#sk-container-id-5 div.sk-toggleable__content pre {margin: 0.2em;color: black;border-radius: 0.25em;background-color: #f0f8ff;}#sk-container-id-5 input.sk-toggleable__control:checked~div.sk-toggleable__content {max-height: 200px;max-width: 100%;overflow: auto;}#sk-container-id-5 input.sk-toggleable__control:checked~label.sk-toggleable__label-arrow:before {content: \"▾\";}#sk-container-id-5 div.sk-estimator input.sk-toggleable__control:checked~label.sk-toggleable__label {background-color: #d4ebff;}#sk-container-id-5 div.sk-label input.sk-toggleable__control:checked~label.sk-toggleable__label {background-color: #d4ebff;}#sk-container-id-5 input.sk-hidden--visually {border: 0;clip: rect(1px 1px 1px 1px);clip: rect(1px, 1px, 1px, 1px);height: 1px;margin: -1px;overflow: hidden;padding: 0;position: absolute;width: 1px;}#sk-container-id-5 div.sk-estimator {font-family: monospace;background-color: #f0f8ff;border: 1px dotted black;border-radius: 0.25em;box-sizing: border-box;margin-bottom: 0.5em;}#sk-container-id-5 div.sk-estimator:hover {background-color: #d4ebff;}#sk-container-id-5 div.sk-parallel-item::after {content: \"\";width: 100%;border-bottom: 1px solid gray;flex-grow: 1;}#sk-container-id-5 div.sk-label:hover label.sk-toggleable__label {background-color: #d4ebff;}#sk-container-id-5 div.sk-serial::before {content: \"\";position: absolute;border-left: 1px solid gray;box-sizing: border-box;top: 0;bottom: 0;left: 50%;z-index: 0;}#sk-container-id-5 div.sk-serial {display: flex;flex-direction: column;align-items: center;background-color: white;padding-right: 0.2em;padding-left: 0.2em;position: relative;}#sk-container-id-5 div.sk-item {position: relative;z-index: 1;}#sk-container-id-5 div.sk-parallel {display: flex;align-items: stretch;justify-content: center;background-color: white;position: relative;}#sk-container-id-5 div.sk-item::before, #sk-container-id-5 div.sk-parallel-item::before {content: \"\";position: absolute;border-left: 1px solid gray;box-sizing: border-box;top: 0;bottom: 0;left: 50%;z-index: -1;}#sk-container-id-5 div.sk-parallel-item {display: flex;flex-direction: column;z-index: 1;position: relative;background-color: white;}#sk-container-id-5 div.sk-parallel-item:first-child::after {align-self: flex-end;width: 50%;}#sk-container-id-5 div.sk-parallel-item:last-child::after {align-self: flex-start;width: 50%;}#sk-container-id-5 div.sk-parallel-item:only-child::after {width: 0;}#sk-container-id-5 div.sk-dashed-wrapped {border: 1px dashed gray;margin: 0 0.4em 0.5em 0.4em;box-sizing: border-box;padding-bottom: 0.4em;background-color: white;}#sk-container-id-5 div.sk-label label {font-family: monospace;font-weight: bold;display: inline-block;line-height: 1.2em;}#sk-container-id-5 div.sk-label-container {text-align: center;}#sk-container-id-5 div.sk-container {/* jupyter's `normalize.less` sets `[hidden] { display: none; }` but bootstrap.min.css set `[hidden] { display: none !important; }` so we also need the `!important` here to be able to override the default hidden behavior on the sphinx rendered scikit-learn.org. See: https://github.com/scikit-learn/scikit-learn/issues/21755 */display: inline-block !important;position: relative;}#sk-container-id-5 div.sk-text-repr-fallback {display: none;}</style><div id=\"sk-container-id-5\" class=\"sk-top-container\"><div class=\"sk-text-repr-fallback\"><pre>DecisionTreeClassifier(max_depth=1)</pre><b>In a Jupyter environment, please rerun this cell to show the HTML representation or trust the notebook. <br />On GitHub, the HTML representation is unable to render, please try loading this page with nbviewer.org.</b></div><div class=\"sk-container\" hidden><div class=\"sk-item\"><div class=\"sk-estimator sk-toggleable\"><input class=\"sk-toggleable__control sk-hidden--visually\" id=\"sk-estimator-id-7\" type=\"checkbox\" checked><label for=\"sk-estimator-id-7\" class=\"sk-toggleable__label sk-toggleable__label-arrow\">DecisionTreeClassifier</label><div class=\"sk-toggleable__content\"><pre>DecisionTreeClassifier(max_depth=1)</pre></div></div></div></div></div>"
      ],
      "text/plain": [
       "DecisionTreeClassifier(max_depth=1)"
      ]
     },
     "execution_count": 217,
     "metadata": {},
     "output_type": "execute_result"
    }
   ],
   "source": [
    "arbol_bueno.fit(X_train, y_train)"
   ]
  },
  {
   "cell_type": "code",
   "execution_count": 218,
   "id": "dc0bb9de-26e2-444e-b589-9989795c7843",
   "metadata": {},
   "outputs": [
    {
     "data": {
      "text/plain": [
       "0.7854812398042414"
      ]
     },
     "execution_count": 218,
     "metadata": {},
     "output_type": "execute_result"
    }
   ],
   "source": [
    "arbol_bueno.score(X_train, y_train)"
   ]
  },
  {
   "cell_type": "code",
   "execution_count": 219,
   "id": "316a437c-04b9-467f-831c-2ef656ff845c",
   "metadata": {},
   "outputs": [
    {
     "data": {
      "text/plain": [
       "0.781474233529028"
      ]
     },
     "execution_count": 219,
     "metadata": {},
     "output_type": "execute_result"
    }
   ],
   "source": [
    "arbol_bueno.score(X_test, y_test)"
   ]
  },
  {
   "cell_type": "code",
   "execution_count": 286,
   "id": "49ad79de-5617-4e03-8656-c82de4131873",
   "metadata": {},
   "outputs": [
    {
     "data": {
      "text/plain": [
       "array([0., 0., 0., ..., 0., 0., 0.])"
      ]
     },
     "execution_count": 286,
     "metadata": {},
     "output_type": "execute_result"
    }
   ],
   "source": [
    "arbol_bueno.predict(X_test)"
   ]
  },
  {
   "cell_type": "code",
   "execution_count": 332,
   "id": "f33b11b8-c026-4268-ad27-dc4e3fd6e1f8",
   "metadata": {},
   "outputs": [
    {
     "data": {
      "text/plain": [
       "array([0., 1., 0., 0., 0., 0., 0., 0., 0., 0., 0., 0.])"
      ]
     },
     "execution_count": 332,
     "metadata": {},
     "output_type": "execute_result"
    }
   ],
   "source": [
    "arbol_bueno.feature_importances_"
   ]
  },
  {
   "cell_type": "code",
   "execution_count": 335,
   "id": "66f15bb2-b587-4724-ace0-6d25329d8a5f",
   "metadata": {},
   "outputs": [
    {
     "data": {
      "text/plain": [
       "Index(['city', 'city_development_index', 'gender', 'relevent_experience',\n",
       "       'enrolled_university', 'education_level', 'major_discipline',\n",
       "       'experience', 'company_size', 'company_type', 'last_new_job',\n",
       "       'training_hours'],\n",
       "      dtype='object')"
      ]
     },
     "execution_count": 335,
     "metadata": {},
     "output_type": "execute_result"
    }
   ],
   "source": [
    "X_train.columns"
   ]
  },
  {
   "cell_type": "markdown",
   "id": "5754e2b9-72d8-4e8e-8786-541522f25b1b",
   "metadata": {},
   "source": [
    "# Z_TEST"
   ]
  },
  {
   "cell_type": "code",
   "execution_count": 80,
   "id": "6aba170c-c278-4f8e-9bad-6067652701ad",
   "metadata": {},
   "outputs": [],
   "source": [
    "z_test = pd.read_csv('z_test.csv')"
   ]
  },
  {
   "cell_type": "code",
   "execution_count": 81,
   "id": "dafd4b4a-c6ea-48bf-8e04-d81aa12f53d4",
   "metadata": {},
   "outputs": [
    {
     "data": {
      "text/html": [
       "<div>\n",
       "<style scoped>\n",
       "    .dataframe tbody tr th:only-of-type {\n",
       "        vertical-align: middle;\n",
       "    }\n",
       "\n",
       "    .dataframe tbody tr th {\n",
       "        vertical-align: top;\n",
       "    }\n",
       "\n",
       "    .dataframe thead th {\n",
       "        text-align: right;\n",
       "    }\n",
       "</style>\n",
       "<table border=\"1\" class=\"dataframe\">\n",
       "  <thead>\n",
       "    <tr style=\"text-align: right;\">\n",
       "      <th></th>\n",
       "      <th>enrollee_id</th>\n",
       "      <th>city</th>\n",
       "      <th>city_development_index</th>\n",
       "      <th>gender</th>\n",
       "      <th>relevent_experience</th>\n",
       "      <th>enrolled_university</th>\n",
       "      <th>education_level</th>\n",
       "      <th>major_discipline</th>\n",
       "      <th>experience</th>\n",
       "      <th>company_size</th>\n",
       "      <th>company_type</th>\n",
       "      <th>last_new_job</th>\n",
       "      <th>training_hours</th>\n",
       "    </tr>\n",
       "  </thead>\n",
       "  <tbody>\n",
       "    <tr>\n",
       "      <th>0</th>\n",
       "      <td>23603</td>\n",
       "      <td>city_160</td>\n",
       "      <td>0.920</td>\n",
       "      <td>Male</td>\n",
       "      <td>No relevent experience</td>\n",
       "      <td>Full time course</td>\n",
       "      <td>Graduate</td>\n",
       "      <td>STEM</td>\n",
       "      <td>5</td>\n",
       "      <td>NaN</td>\n",
       "      <td>NaN</td>\n",
       "      <td>1</td>\n",
       "      <td>78</td>\n",
       "    </tr>\n",
       "    <tr>\n",
       "      <th>1</th>\n",
       "      <td>22499</td>\n",
       "      <td>city_45</td>\n",
       "      <td>0.890</td>\n",
       "      <td>NaN</td>\n",
       "      <td>Has relevent experience</td>\n",
       "      <td>Full time course</td>\n",
       "      <td>High School</td>\n",
       "      <td>NaN</td>\n",
       "      <td>6</td>\n",
       "      <td>50-99</td>\n",
       "      <td>Pvt Ltd</td>\n",
       "      <td>1</td>\n",
       "      <td>36</td>\n",
       "    </tr>\n",
       "    <tr>\n",
       "      <th>2</th>\n",
       "      <td>10465</td>\n",
       "      <td>city_149</td>\n",
       "      <td>0.689</td>\n",
       "      <td>Male</td>\n",
       "      <td>No relevent experience</td>\n",
       "      <td>no_enrollment</td>\n",
       "      <td>Graduate</td>\n",
       "      <td>STEM</td>\n",
       "      <td>5</td>\n",
       "      <td>NaN</td>\n",
       "      <td>NaN</td>\n",
       "      <td>never</td>\n",
       "      <td>34</td>\n",
       "    </tr>\n",
       "    <tr>\n",
       "      <th>3</th>\n",
       "      <td>8293</td>\n",
       "      <td>city_67</td>\n",
       "      <td>0.855</td>\n",
       "      <td>Female</td>\n",
       "      <td>Has relevent experience</td>\n",
       "      <td>no_enrollment</td>\n",
       "      <td>Masters</td>\n",
       "      <td>STEM</td>\n",
       "      <td>9</td>\n",
       "      <td>1000-4999</td>\n",
       "      <td>Pvt Ltd</td>\n",
       "      <td>1</td>\n",
       "      <td>149</td>\n",
       "    </tr>\n",
       "    <tr>\n",
       "      <th>4</th>\n",
       "      <td>4246</td>\n",
       "      <td>city_103</td>\n",
       "      <td>0.920</td>\n",
       "      <td>Male</td>\n",
       "      <td>Has relevent experience</td>\n",
       "      <td>no_enrollment</td>\n",
       "      <td>Graduate</td>\n",
       "      <td>STEM</td>\n",
       "      <td>16</td>\n",
       "      <td>50-99</td>\n",
       "      <td>Funded Startup</td>\n",
       "      <td>2</td>\n",
       "      <td>7</td>\n",
       "    </tr>\n",
       "  </tbody>\n",
       "</table>\n",
       "</div>"
      ],
      "text/plain": [
       "   enrollee_id      city  city_development_index  gender  \\\n",
       "0        23603  city_160                   0.920    Male   \n",
       "1        22499   city_45                   0.890     NaN   \n",
       "2        10465  city_149                   0.689    Male   \n",
       "3         8293   city_67                   0.855  Female   \n",
       "4         4246  city_103                   0.920    Male   \n",
       "\n",
       "       relevent_experience enrolled_university education_level  \\\n",
       "0   No relevent experience    Full time course        Graduate   \n",
       "1  Has relevent experience    Full time course     High School   \n",
       "2   No relevent experience       no_enrollment        Graduate   \n",
       "3  Has relevent experience       no_enrollment         Masters   \n",
       "4  Has relevent experience       no_enrollment        Graduate   \n",
       "\n",
       "  major_discipline experience company_size    company_type last_new_job  \\\n",
       "0             STEM          5          NaN             NaN            1   \n",
       "1              NaN          6        50-99         Pvt Ltd            1   \n",
       "2             STEM          5          NaN             NaN        never   \n",
       "3             STEM          9    1000-4999         Pvt Ltd            1   \n",
       "4             STEM         16        50-99  Funded Startup            2   \n",
       "\n",
       "   training_hours  \n",
       "0              78  \n",
       "1              36  \n",
       "2              34  \n",
       "3             149  \n",
       "4               7  "
      ]
     },
     "execution_count": 81,
     "metadata": {},
     "output_type": "execute_result"
    }
   ],
   "source": [
    "z_test.head()"
   ]
  },
  {
   "cell_type": "code",
   "execution_count": 82,
   "id": "55cf1884-a561-4353-8627-d2302051460d",
   "metadata": {},
   "outputs": [],
   "source": [
    "identificación = z_test[['enrollee_id']]"
   ]
  },
  {
   "cell_type": "code",
   "execution_count": 83,
   "id": "48011a14-1bb8-4462-b094-c1c6fa116eb4",
   "metadata": {},
   "outputs": [],
   "source": [
    "z_test.drop(columns= 'enrollee_id', inplace=True)"
   ]
  },
  {
   "cell_type": "code",
   "execution_count": 84,
   "id": "6ef50bbb-e9a1-4389-978c-70d0b097b8f3",
   "metadata": {},
   "outputs": [
    {
     "data": {
      "text/plain": [
       "Index(['gender', 'enrolled_university', 'education_level', 'major_discipline',\n",
       "       'experience', 'company_size', 'company_type', 'last_new_job'],\n",
       "      dtype='object')"
      ]
     },
     "execution_count": 84,
     "metadata": {},
     "output_type": "execute_result"
    }
   ],
   "source": [
    "z_test.isnull().sum()[(df.isnull().sum().sort_values(ascending=False)/df.shape[0])*100 > 0].index"
   ]
  },
  {
   "cell_type": "code",
   "execution_count": 85,
   "id": "0a4bc787-e086-4793-b248-a5c211ae3677",
   "metadata": {},
   "outputs": [],
   "source": [
    "z_test['last_new_job']=pd.to_numeric(z_test.last_new_job.str.replace('never', '0').str.replace('>4', '5'))"
   ]
  },
  {
   "cell_type": "code",
   "execution_count": 86,
   "id": "03a130d9-d232-4296-b5bf-e756b23c2347",
   "metadata": {},
   "outputs": [],
   "source": [
    "z_test['experience']=pd.to_numeric(z_test.experience.str.replace('>20', '21').str.replace('<1','0'))"
   ]
  },
  {
   "cell_type": "code",
   "execution_count": 87,
   "id": "c88a32e6-c142-4d73-b1b4-bf8378d7cd0a",
   "metadata": {},
   "outputs": [],
   "source": [
    "categorico_nulos_test=mdi.CategoricalImputer('frequent', variables = ['gender','enrolled_university', 'education_level', 'major_discipline', 'company_size', 'company_type'])"
   ]
  },
  {
   "cell_type": "code",
   "execution_count": 88,
   "id": "6f05146b-0fbe-4973-93d2-8b421532daec",
   "metadata": {},
   "outputs": [],
   "source": [
    "test_sin_nulos=categorico_nulos_test.fit_transform(z_test)"
   ]
  },
  {
   "cell_type": "code",
   "execution_count": 89,
   "id": "ed0f42df-2401-4296-800c-9846affa9ce6",
   "metadata": {},
   "outputs": [
    {
     "data": {
      "text/plain": [
       "city                       0\n",
       "city_development_index     0\n",
       "gender                     0\n",
       "relevent_experience        0\n",
       "enrolled_university        0\n",
       "education_level            0\n",
       "major_discipline           0\n",
       "experience                15\n",
       "company_size               0\n",
       "company_type               0\n",
       "last_new_job              84\n",
       "training_hours             0\n",
       "dtype: int64"
      ]
     },
     "execution_count": 89,
     "metadata": {},
     "output_type": "execute_result"
    }
   ],
   "source": [
    "test_sin_nulos.isnull().sum()"
   ]
  },
  {
   "cell_type": "code",
   "execution_count": 90,
   "id": "ef51f065-ad1f-4a7a-997d-4ed02c6745dd",
   "metadata": {},
   "outputs": [],
   "source": [
    "num_nulos_test=mdi.MeanMedianImputer('median', variables = ['experience', 'last_new_job'])"
   ]
  },
  {
   "cell_type": "code",
   "execution_count": 91,
   "id": "4f8af8e2-0676-4545-a8c3-50cc1f68afe1",
   "metadata": {},
   "outputs": [],
   "source": [
    "test_sin_nulos = num_nulos_test.fit_transform(test_sin_nulos)"
   ]
  },
  {
   "cell_type": "code",
   "execution_count": 92,
   "id": "1e1ed7ab-a451-419e-ab62-ebb92fe32856",
   "metadata": {},
   "outputs": [
    {
     "data": {
      "text/plain": [
       "city                      0\n",
       "city_development_index    0\n",
       "gender                    0\n",
       "relevent_experience       0\n",
       "enrolled_university       0\n",
       "education_level           0\n",
       "major_discipline          0\n",
       "experience                0\n",
       "company_size              0\n",
       "company_type              0\n",
       "last_new_job              0\n",
       "training_hours            0\n",
       "dtype: int64"
      ]
     },
     "execution_count": 92,
     "metadata": {},
     "output_type": "execute_result"
    }
   ],
   "source": [
    "test_sin_nulos.isnull().sum()"
   ]
  },
  {
   "cell_type": "code",
   "execution_count": 93,
   "id": "da16f68b-979c-47be-be14-7d7f0a13e11f",
   "metadata": {},
   "outputs": [],
   "source": [
    "relevent_experience_test = preprocessing.OrdinalEncoder(categories = [['No relevent experience', 'Has relevent experience']])\n",
    "test_sin_nulos['relevent_experience']=relevent_experience_test.fit_transform(test_sin_nulos[['relevent_experience']])"
   ]
  },
  {
   "cell_type": "code",
   "execution_count": 94,
   "id": "52e52d40-3d87-4d08-8a97-9765738090a2",
   "metadata": {},
   "outputs": [],
   "source": [
    "education_level_test = preprocessing.OrdinalEncoder(categories = [['Primary School','High School', 'Graduate', 'Masters', 'Phd']])\n",
    "test_sin_nulos['education_level']=education_level_test.fit_transform(test_sin_nulos[['education_level']])"
   ]
  },
  {
   "cell_type": "code",
   "execution_count": 95,
   "id": "fa3a3f66-f95c-46d0-9b87-0972d8daf6a8",
   "metadata": {},
   "outputs": [],
   "source": [
    "test_sin_nulos[['experience', 'last_new_job']]=test_sin_nulos[['experience', 'last_new_job']].astype(str)"
   ]
  },
  {
   "cell_type": "code",
   "execution_count": 96,
   "id": "e8a54114-ddfe-4100-9231-c65fabb72dd7",
   "metadata": {
    "tags": []
   },
   "outputs": [],
   "source": [
    "categoricas= CountFrequencyEncoder(encoding_method = 'frequency',variables = ['city', 'gender', 'enrolled_university', 'major_discipline','experience','company_size', 'company_type','last_new_job'] )\n",
    "test_sin_nulos = categoricas.fit_transform(test_sin_nulos)"
   ]
  },
  {
   "cell_type": "code",
   "execution_count": 97,
   "id": "43cd5098-1436-46fd-a398-72f2eab8ff48",
   "metadata": {},
   "outputs": [
    {
     "data": {
      "text/html": [
       "<div>\n",
       "<style scoped>\n",
       "    .dataframe tbody tr th:only-of-type {\n",
       "        vertical-align: middle;\n",
       "    }\n",
       "\n",
       "    .dataframe tbody tr th {\n",
       "        vertical-align: top;\n",
       "    }\n",
       "\n",
       "    .dataframe thead th {\n",
       "        text-align: right;\n",
       "    }\n",
       "</style>\n",
       "<table border=\"1\" class=\"dataframe\">\n",
       "  <thead>\n",
       "    <tr style=\"text-align: right;\">\n",
       "      <th></th>\n",
       "      <th>city</th>\n",
       "      <th>city_development_index</th>\n",
       "      <th>gender</th>\n",
       "      <th>relevent_experience</th>\n",
       "      <th>enrolled_university</th>\n",
       "      <th>education_level</th>\n",
       "      <th>major_discipline</th>\n",
       "      <th>experience</th>\n",
       "      <th>company_size</th>\n",
       "      <th>company_type</th>\n",
       "      <th>last_new_job</th>\n",
       "      <th>training_hours</th>\n",
       "    </tr>\n",
       "  </thead>\n",
       "  <tbody>\n",
       "    <tr>\n",
       "      <th>0</th>\n",
       "      <td>0.045668</td>\n",
       "      <td>0.920</td>\n",
       "      <td>0.92667</td>\n",
       "      <td>0.0</td>\n",
       "      <td>0.200157</td>\n",
       "      <td>2.0</td>\n",
       "      <td>0.902662</td>\n",
       "      <td>0.073591</td>\n",
       "      <td>0.479906</td>\n",
       "      <td>0.833246</td>\n",
       "      <td>0.434760</td>\n",
       "      <td>78</td>\n",
       "    </tr>\n",
       "    <tr>\n",
       "      <th>1</th>\n",
       "      <td>0.006002</td>\n",
       "      <td>0.890</td>\n",
       "      <td>0.92667</td>\n",
       "      <td>1.0</td>\n",
       "      <td>0.200157</td>\n",
       "      <td>1.0</td>\n",
       "      <td>0.902662</td>\n",
       "      <td>0.063935</td>\n",
       "      <td>0.479906</td>\n",
       "      <td>0.833246</td>\n",
       "      <td>0.434760</td>\n",
       "      <td>36</td>\n",
       "    </tr>\n",
       "    <tr>\n",
       "      <th>2</th>\n",
       "      <td>0.007307</td>\n",
       "      <td>0.689</td>\n",
       "      <td>0.92667</td>\n",
       "      <td>0.0</td>\n",
       "      <td>0.738518</td>\n",
       "      <td>2.0</td>\n",
       "      <td>0.902662</td>\n",
       "      <td>0.073591</td>\n",
       "      <td>0.479906</td>\n",
       "      <td>0.833246</td>\n",
       "      <td>0.132307</td>\n",
       "      <td>34</td>\n",
       "    </tr>\n",
       "    <tr>\n",
       "      <th>3</th>\n",
       "      <td>0.022443</td>\n",
       "      <td>0.855</td>\n",
       "      <td>0.06263</td>\n",
       "      <td>1.0</td>\n",
       "      <td>0.738518</td>\n",
       "      <td>3.0</td>\n",
       "      <td>0.902662</td>\n",
       "      <td>0.056106</td>\n",
       "      <td>0.068372</td>\n",
       "      <td>0.833246</td>\n",
       "      <td>0.434760</td>\n",
       "      <td>149</td>\n",
       "    </tr>\n",
       "    <tr>\n",
       "      <th>4</th>\n",
       "      <td>0.223904</td>\n",
       "      <td>0.920</td>\n",
       "      <td>0.92667</td>\n",
       "      <td>1.0</td>\n",
       "      <td>0.738518</td>\n",
       "      <td>2.0</td>\n",
       "      <td>0.902662</td>\n",
       "      <td>0.022965</td>\n",
       "      <td>0.479906</td>\n",
       "      <td>0.054541</td>\n",
       "      <td>0.151879</td>\n",
       "      <td>7</td>\n",
       "    </tr>\n",
       "  </tbody>\n",
       "</table>\n",
       "</div>"
      ],
      "text/plain": [
       "       city  city_development_index   gender  relevent_experience  \\\n",
       "0  0.045668                   0.920  0.92667                  0.0   \n",
       "1  0.006002                   0.890  0.92667                  1.0   \n",
       "2  0.007307                   0.689  0.92667                  0.0   \n",
       "3  0.022443                   0.855  0.06263                  1.0   \n",
       "4  0.223904                   0.920  0.92667                  1.0   \n",
       "\n",
       "   enrolled_university  education_level  major_discipline  experience  \\\n",
       "0             0.200157              2.0          0.902662    0.073591   \n",
       "1             0.200157              1.0          0.902662    0.063935   \n",
       "2             0.738518              2.0          0.902662    0.073591   \n",
       "3             0.738518              3.0          0.902662    0.056106   \n",
       "4             0.738518              2.0          0.902662    0.022965   \n",
       "\n",
       "   company_size  company_type  last_new_job  training_hours  \n",
       "0      0.479906      0.833246      0.434760              78  \n",
       "1      0.479906      0.833246      0.434760              36  \n",
       "2      0.479906      0.833246      0.132307              34  \n",
       "3      0.068372      0.833246      0.434760             149  \n",
       "4      0.479906      0.054541      0.151879               7  "
      ]
     },
     "execution_count": 97,
     "metadata": {},
     "output_type": "execute_result"
    }
   ],
   "source": [
    "test_sin_nulos.head()"
   ]
  },
  {
   "cell_type": "code",
   "execution_count": 99,
   "id": "db648b4a-a0de-420d-b48e-9a28ca0f94d2",
   "metadata": {},
   "outputs": [],
   "source": [
    "z_pred = pd.DataFrame(Forest.predict_proba(test_sin_nulos))"
   ]
  },
  {
   "cell_type": "code",
   "execution_count": 101,
   "id": "0eecc779-ff7f-4eb5-ae8e-e649b8b9b3d3",
   "metadata": {},
   "outputs": [
    {
     "data": {
      "text/html": [
       "<div>\n",
       "<style scoped>\n",
       "    .dataframe tbody tr th:only-of-type {\n",
       "        vertical-align: middle;\n",
       "    }\n",
       "\n",
       "    .dataframe tbody tr th {\n",
       "        vertical-align: top;\n",
       "    }\n",
       "\n",
       "    .dataframe thead th {\n",
       "        text-align: right;\n",
       "    }\n",
       "</style>\n",
       "<table border=\"1\" class=\"dataframe\">\n",
       "  <thead>\n",
       "    <tr style=\"text-align: right;\">\n",
       "      <th></th>\n",
       "      <th>enrollee_id</th>\n",
       "      <th>1</th>\n",
       "    </tr>\n",
       "  </thead>\n",
       "  <tbody>\n",
       "    <tr>\n",
       "      <th>0</th>\n",
       "      <td>23603</td>\n",
       "      <td>0.534613</td>\n",
       "    </tr>\n",
       "    <tr>\n",
       "      <th>1</th>\n",
       "      <td>22499</td>\n",
       "      <td>0.140271</td>\n",
       "    </tr>\n",
       "    <tr>\n",
       "      <th>2</th>\n",
       "      <td>10465</td>\n",
       "      <td>0.312986</td>\n",
       "    </tr>\n",
       "    <tr>\n",
       "      <th>3</th>\n",
       "      <td>8293</td>\n",
       "      <td>0.067232</td>\n",
       "    </tr>\n",
       "    <tr>\n",
       "      <th>4</th>\n",
       "      <td>4246</td>\n",
       "      <td>0.177944</td>\n",
       "    </tr>\n",
       "  </tbody>\n",
       "</table>\n",
       "</div>"
      ],
      "text/plain": [
       "   enrollee_id         1\n",
       "0        23603  0.534613\n",
       "1        22499  0.140271\n",
       "2        10465  0.312986\n",
       "3         8293  0.067232\n",
       "4         4246  0.177944"
      ]
     },
     "execution_count": 101,
     "metadata": {},
     "output_type": "execute_result"
    }
   ],
   "source": [
    "submission10=pd.concat((identificación,z_pred[1]), axis=1)\n",
    "submission10.head()"
   ]
  },
  {
   "cell_type": "code",
   "execution_count": 102,
   "id": "da264541-d596-4380-b651-c65905943964",
   "metadata": {},
   "outputs": [],
   "source": [
    "submission10.rename(columns = {1:'target'}, inplace=True)\n",
    "submission10.to_csv('submission_10.csv',index=False)"
   ]
  },
  {
   "cell_type": "code",
   "execution_count": 274,
   "id": "75b3e57d-d113-4a47-b1b9-2a76674cfcb1",
   "metadata": {},
   "outputs": [],
   "source": [
    "#test_sin_nulos = pd.DataFrame(scale.fit_transform(test_sin_nulos), columns=test_sin_nulos.columns)"
   ]
  },
  {
   "cell_type": "code",
   "execution_count": 279,
   "id": "aaf7049f-7baa-44c1-a276-38025180d9b8",
   "metadata": {},
   "outputs": [],
   "source": [
    "#y_pred = pd.DataFrame(arbol_bueno.predict_proba(test_sin_nulos))"
   ]
  },
  {
   "cell_type": "code",
   "execution_count": 290,
   "id": "85a29076-c85a-43cd-8438-f4a4bb4b69cb",
   "metadata": {},
   "outputs": [
    {
     "data": {
      "text/plain": [
       "0.826531    3659\n",
       "0.405817     173\n",
       "Name: 0, dtype: int64"
      ]
     },
     "execution_count": 290,
     "metadata": {},
     "output_type": "execute_result"
    }
   ],
   "source": [
    "#y_pred[0].value_counts()"
   ]
  },
  {
   "cell_type": "code",
   "execution_count": 324,
   "id": "db383125-3187-4f08-b434-9a58ee340131",
   "metadata": {
    "collapsed": true,
    "jupyter": {
     "outputs_hidden": true
    },
    "tags": []
   },
   "outputs": [
    {
     "data": {
      "text/html": [
       "<div>\n",
       "<style scoped>\n",
       "    .dataframe tbody tr th:only-of-type {\n",
       "        vertical-align: middle;\n",
       "    }\n",
       "\n",
       "    .dataframe tbody tr th {\n",
       "        vertical-align: top;\n",
       "    }\n",
       "\n",
       "    .dataframe thead th {\n",
       "        text-align: right;\n",
       "    }\n",
       "</style>\n",
       "<table border=\"1\" class=\"dataframe\">\n",
       "  <thead>\n",
       "    <tr style=\"text-align: right;\">\n",
       "      <th></th>\n",
       "      <th>0</th>\n",
       "      <th>1</th>\n",
       "    </tr>\n",
       "  </thead>\n",
       "  <tbody>\n",
       "    <tr>\n",
       "      <th>0</th>\n",
       "      <td>0.826531</td>\n",
       "      <td>0.173469</td>\n",
       "    </tr>\n",
       "    <tr>\n",
       "      <th>1</th>\n",
       "      <td>0.826531</td>\n",
       "      <td>0.173469</td>\n",
       "    </tr>\n",
       "    <tr>\n",
       "      <th>2</th>\n",
       "      <td>0.826531</td>\n",
       "      <td>0.173469</td>\n",
       "    </tr>\n",
       "    <tr>\n",
       "      <th>3</th>\n",
       "      <td>0.826531</td>\n",
       "      <td>0.173469</td>\n",
       "    </tr>\n",
       "    <tr>\n",
       "      <th>4</th>\n",
       "      <td>0.826531</td>\n",
       "      <td>0.173469</td>\n",
       "    </tr>\n",
       "    <tr>\n",
       "      <th>...</th>\n",
       "      <td>...</td>\n",
       "      <td>...</td>\n",
       "    </tr>\n",
       "    <tr>\n",
       "      <th>3827</th>\n",
       "      <td>0.826531</td>\n",
       "      <td>0.173469</td>\n",
       "    </tr>\n",
       "    <tr>\n",
       "      <th>3828</th>\n",
       "      <td>0.826531</td>\n",
       "      <td>0.173469</td>\n",
       "    </tr>\n",
       "    <tr>\n",
       "      <th>3829</th>\n",
       "      <td>0.826531</td>\n",
       "      <td>0.173469</td>\n",
       "    </tr>\n",
       "    <tr>\n",
       "      <th>3830</th>\n",
       "      <td>0.826531</td>\n",
       "      <td>0.173469</td>\n",
       "    </tr>\n",
       "    <tr>\n",
       "      <th>3831</th>\n",
       "      <td>0.826531</td>\n",
       "      <td>0.173469</td>\n",
       "    </tr>\n",
       "  </tbody>\n",
       "</table>\n",
       "<p>3832 rows × 2 columns</p>\n",
       "</div>"
      ],
      "text/plain": [
       "             0         1\n",
       "0     0.826531  0.173469\n",
       "1     0.826531  0.173469\n",
       "2     0.826531  0.173469\n",
       "3     0.826531  0.173469\n",
       "4     0.826531  0.173469\n",
       "...        ...       ...\n",
       "3827  0.826531  0.173469\n",
       "3828  0.826531  0.173469\n",
       "3829  0.826531  0.173469\n",
       "3830  0.826531  0.173469\n",
       "3831  0.826531  0.173469\n",
       "\n",
       "[3832 rows x 2 columns]"
      ]
     },
     "execution_count": 324,
     "metadata": {},
     "output_type": "execute_result"
    }
   ],
   "source": [
    "#y_pred"
   ]
  },
  {
   "cell_type": "code",
   "execution_count": 295,
   "id": "fd52b89e-42b9-463e-9f53-b10bec91db94",
   "metadata": {},
   "outputs": [],
   "source": [
    "submission1=pd.concat((identificación,y_pred[0]), axis=1)"
   ]
  },
  {
   "cell_type": "code",
   "execution_count": 298,
   "id": "7c1b4bc8-53d8-4a1b-90c3-fd4715460d9f",
   "metadata": {},
   "outputs": [],
   "source": [
    "submission1.rename(columns = {0:'target'}, inplace=True)"
   ]
  },
  {
   "cell_type": "code",
   "execution_count": 302,
   "id": "93b4a5ea-15d7-46c4-95dc-bf48432eb0cf",
   "metadata": {},
   "outputs": [],
   "source": [
    "submission1.to_csv('submission_1.csv',index=False)"
   ]
  },
  {
   "cell_type": "code",
   "execution_count": 315,
   "id": "fd30c4c1-3712-4050-8b9b-a7f9705404f1",
   "metadata": {},
   "outputs": [],
   "source": [
    "y_pred_total = pd.DataFrame(arbol_bueno.predict(test_sin_nulos))"
   ]
  },
  {
   "cell_type": "code",
   "execution_count": 317,
   "id": "6de1f52e-2b82-4149-ae7d-371bb237e356",
   "metadata": {},
   "outputs": [],
   "source": [
    "submission2=pd.concat((identificación,y_pred_total), axis=1)"
   ]
  },
  {
   "cell_type": "code",
   "execution_count": 321,
   "id": "44658a8e-9b98-4bb5-8ccf-c952a8685bb5",
   "metadata": {},
   "outputs": [],
   "source": [
    "submission2.rename(columns = {0:'target'}, inplace=True)"
   ]
  },
  {
   "cell_type": "code",
   "execution_count": 323,
   "id": "4231bb85-2aed-4096-878e-bad929f4f21a",
   "metadata": {},
   "outputs": [],
   "source": [
    "submission2.to_csv('submission_2.csv',index=False)"
   ]
  },
  {
   "cell_type": "code",
   "execution_count": 325,
   "id": "8c101202-2c5f-4c06-b5ca-bbb9df4fba23",
   "metadata": {
    "tags": []
   },
   "outputs": [],
   "source": [
    "#proba de 1\n",
    "submission3 = pd.concat((identificación,y_pred[1]), axis=1)"
   ]
  },
  {
   "cell_type": "code",
   "execution_count": 330,
   "id": "d5d13bae-0305-40d2-a3fa-90c628d81822",
   "metadata": {},
   "outputs": [],
   "source": [
    "submission3.rename(columns = {1:'target'}, inplace=True)"
   ]
  },
  {
   "cell_type": "code",
   "execution_count": 331,
   "id": "72e51747-c3b0-4de3-8818-3249c4efd992",
   "metadata": {},
   "outputs": [],
   "source": [
    "submission3.to_csv('submission_3.csv',index=False)"
   ]
  },
  {
   "cell_type": "code",
   "execution_count": 1,
   "id": "e35b662e-4894-40fc-8a83-10ac09540c26",
   "metadata": {},
   "outputs": [
    {
     "data": {
      "text/plain": [
       "0.99999"
      ]
     },
     "execution_count": 1,
     "metadata": {},
     "output_type": "execute_result"
    }
   ],
   "source": [
    "0.46014+0.53985"
   ]
  },
  {
   "cell_type": "code",
   "execution_count": null,
   "id": "e8a8a9b7-ba9b-4bd3-8d14-bf578aa65b42",
   "metadata": {},
   "outputs": [],
   "source": []
  }
 ],
 "metadata": {
  "kernelspec": {
   "display_name": "Python 3 (ipykernel)",
   "language": "python",
   "name": "python3"
  },
  "language_info": {
   "codemirror_mode": {
    "name": "ipython",
    "version": 3
   },
   "file_extension": ".py",
   "mimetype": "text/x-python",
   "name": "python",
   "nbconvert_exporter": "python",
   "pygments_lexer": "ipython3",
   "version": "3.9.7"
  }
 },
 "nbformat": 4,
 "nbformat_minor": 5
}
